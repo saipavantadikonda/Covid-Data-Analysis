{
 "cells": [
  {
   "cell_type": "markdown",
   "id": "a18e6a04",
   "metadata": {},
   "source": [
    "### Each student member performs initial merges with the COVID-19 data using the variables in the Enrichment data."
   ]
  },
  {
   "cell_type": "code",
   "execution_count": 1,
   "id": "3f9962ce",
   "metadata": {},
   "outputs": [],
   "source": [
    "import pandas as pd"
   ]
  },
  {
   "cell_type": "code",
   "execution_count": 4,
   "id": "b7638d64",
   "metadata": {},
   "outputs": [
    {
     "data": {
      "text/plain": [
       "countyFIPS        int64\n",
       "County Name_x    object\n",
       "State            object\n",
       "StateFIPS         int64\n",
       "2020-01-22_x      int64\n",
       "                  ...  \n",
       "2023-01-14_y      int64\n",
       "2023-01-15_y      int64\n",
       "2023-01-16_y      int64\n",
       "County Name_y    object\n",
       "population        int64\n",
       "Length: 2188, dtype: object"
      ]
     },
     "execution_count": 4,
     "metadata": {},
     "output_type": "execute_result"
    }
   ],
   "source": [
    "super_covid_data=pd.read_csv(\"../../../../data/Stage_1/super_covid19.csv\")\n",
    "super_covid_data.dtypes"
   ]
  },
  {
   "cell_type": "code",
   "execution_count": null,
   "id": "9473c2b1",
   "metadata": {},
   "outputs": [],
   "source": [
    "employee_data= pd.read_excel(\"../../../../data/Stage_1/Silpa_data/Employee_data.xlsx\")"
   ]
  },
  {
   "cell_type": "code",
   "execution_count": null,
   "id": "126507f2",
   "metadata": {},
   "outputs": [],
   "source": []
  }
 ],
 "metadata": {
  "kernelspec": {
   "display_name": "Python 3 (ipykernel)",
   "language": "python",
   "name": "python3"
  },
  "language_info": {
   "codemirror_mode": {
    "name": "ipython",
    "version": 3
   },
   "file_extension": ".py",
   "mimetype": "text/x-python",
   "name": "python",
   "nbconvert_exporter": "python",
   "pygments_lexer": "ipython3",
   "version": "3.9.13"
  }
 },
 "nbformat": 4,
 "nbformat_minor": 5
}
