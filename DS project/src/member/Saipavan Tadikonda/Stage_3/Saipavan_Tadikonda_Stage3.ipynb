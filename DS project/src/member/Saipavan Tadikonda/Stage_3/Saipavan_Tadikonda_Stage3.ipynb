{
 "cells": [
  {
   "cell_type": "markdown",
   "id": "9ce09a39",
   "metadata": {},
   "source": [
    "Importing the required libraries"
   ]
  },
  {
   "cell_type": "code",
   "execution_count": 1,
   "id": "c2d0ded5",
   "metadata": {},
   "outputs": [],
   "source": [
    "import pandas as pd\n",
    "import numpy as np\n",
    "import plotly.express as px\n",
    "from IPython.display import Image\n",
    "import matplotlib.pyplot as plt\n",
    "import warnings\n",
    "warnings.filterwarnings(\"ignore\")\n",
    "import scipy.stats as stats\n",
    "from plotly.subplots import make_subplots\n",
    "import plotly.graph_objects as go\n",
    "import seaborn as sns"
   ]
  },
  {
   "cell_type": "markdown",
   "id": "6520aece",
   "metadata": {},
   "source": [
    "## 1) Use the state data generated in Stage II to fit a distribution to the number of COVID-19 new cases using any of MoM, MLE, and KDE methods.\n",
    "\n",
    "- ### Graphically plot the distribution.\n",
    "- ### Describe the type of distribution and its statistics (moments of a distribution - center, variance, skewness, kurtosis) in the notebook.\n",
    "- ### Compare the distribution and its statistics to 3 other states of your choosing. Describe if the distributions look different and what does that imply."
   ]
  },
  {
   "cell_type": "markdown",
   "id": "59c9414a",
   "metadata": {},
   "source": [
    "Reading the California state data generated in the Stage-II"
   ]
  },
  {
   "cell_type": "code",
   "execution_count": 2,
   "id": "29c4a4e5",
   "metadata": {},
   "outputs": [
    {
     "data": {
      "text/html": [
       "<div>\n",
       "<style scoped>\n",
       "    .dataframe tbody tr th:only-of-type {\n",
       "        vertical-align: middle;\n",
       "    }\n",
       "\n",
       "    .dataframe tbody tr th {\n",
       "        vertical-align: top;\n",
       "    }\n",
       "\n",
       "    .dataframe thead th {\n",
       "        text-align: right;\n",
       "    }\n",
       "</style>\n",
       "<table border=\"1\" class=\"dataframe\">\n",
       "  <thead>\n",
       "    <tr style=\"text-align: right;\">\n",
       "      <th></th>\n",
       "      <th>Dates</th>\n",
       "      <th>cases</th>\n",
       "      <th>deaths</th>\n",
       "      <th>population</th>\n",
       "      <th>new_cases</th>\n",
       "      <th>new_deaths</th>\n",
       "    </tr>\n",
       "  </thead>\n",
       "  <tbody>\n",
       "    <tr>\n",
       "      <th>0</th>\n",
       "      <td>2022-05-30</td>\n",
       "      <td>8967578</td>\n",
       "      <td>90624</td>\n",
       "      <td>39512223</td>\n",
       "      <td>16380.0</td>\n",
       "      <td>90.0</td>\n",
       "    </tr>\n",
       "    <tr>\n",
       "      <th>1</th>\n",
       "      <td>2022-05-31</td>\n",
       "      <td>8973066</td>\n",
       "      <td>90626</td>\n",
       "      <td>39512223</td>\n",
       "      <td>5488.0</td>\n",
       "      <td>2.0</td>\n",
       "    </tr>\n",
       "    <tr>\n",
       "      <th>2</th>\n",
       "      <td>2022-06-01</td>\n",
       "      <td>8984553</td>\n",
       "      <td>90627</td>\n",
       "      <td>39512223</td>\n",
       "      <td>11487.0</td>\n",
       "      <td>1.0</td>\n",
       "    </tr>\n",
       "    <tr>\n",
       "      <th>3</th>\n",
       "      <td>2022-06-02</td>\n",
       "      <td>8986351</td>\n",
       "      <td>90627</td>\n",
       "      <td>39512223</td>\n",
       "      <td>1798.0</td>\n",
       "      <td>0.0</td>\n",
       "    </tr>\n",
       "    <tr>\n",
       "      <th>4</th>\n",
       "      <td>2022-06-03</td>\n",
       "      <td>8986351</td>\n",
       "      <td>90627</td>\n",
       "      <td>39512223</td>\n",
       "      <td>0.0</td>\n",
       "      <td>0.0</td>\n",
       "    </tr>\n",
       "    <tr>\n",
       "      <th>...</th>\n",
       "      <td>...</td>\n",
       "      <td>...</td>\n",
       "      <td>...</td>\n",
       "      <td>...</td>\n",
       "      <td>...</td>\n",
       "      <td>...</td>\n",
       "    </tr>\n",
       "    <tr>\n",
       "      <th>213</th>\n",
       "      <td>2022-12-29</td>\n",
       "      <td>10883092</td>\n",
       "      <td>97562</td>\n",
       "      <td>39512223</td>\n",
       "      <td>0.0</td>\n",
       "      <td>0.0</td>\n",
       "    </tr>\n",
       "    <tr>\n",
       "      <th>214</th>\n",
       "      <td>2022-12-30</td>\n",
       "      <td>10883092</td>\n",
       "      <td>97562</td>\n",
       "      <td>39512223</td>\n",
       "      <td>0.0</td>\n",
       "      <td>0.0</td>\n",
       "    </tr>\n",
       "    <tr>\n",
       "      <th>215</th>\n",
       "      <td>2022-12-31</td>\n",
       "      <td>10883092</td>\n",
       "      <td>97562</td>\n",
       "      <td>39512223</td>\n",
       "      <td>0.0</td>\n",
       "      <td>0.0</td>\n",
       "    </tr>\n",
       "    <tr>\n",
       "      <th>216</th>\n",
       "      <td>2023-01-01</td>\n",
       "      <td>10883092</td>\n",
       "      <td>97562</td>\n",
       "      <td>39512223</td>\n",
       "      <td>0.0</td>\n",
       "      <td>0.0</td>\n",
       "    </tr>\n",
       "    <tr>\n",
       "      <th>217</th>\n",
       "      <td>2023-01-02</td>\n",
       "      <td>10883092</td>\n",
       "      <td>97562</td>\n",
       "      <td>39512223</td>\n",
       "      <td>0.0</td>\n",
       "      <td>0.0</td>\n",
       "    </tr>\n",
       "  </tbody>\n",
       "</table>\n",
       "<p>218 rows × 6 columns</p>\n",
       "</div>"
      ],
      "text/plain": [
       "          Dates     cases  deaths  population  new_cases  new_deaths\n",
       "0    2022-05-30   8967578   90624    39512223    16380.0        90.0\n",
       "1    2022-05-31   8973066   90626    39512223     5488.0         2.0\n",
       "2    2022-06-01   8984553   90627    39512223    11487.0         1.0\n",
       "3    2022-06-02   8986351   90627    39512223     1798.0         0.0\n",
       "4    2022-06-03   8986351   90627    39512223        0.0         0.0\n",
       "..          ...       ...     ...         ...        ...         ...\n",
       "213  2022-12-29  10883092   97562    39512223        0.0         0.0\n",
       "214  2022-12-30  10883092   97562    39512223        0.0         0.0\n",
       "215  2022-12-31  10883092   97562    39512223        0.0         0.0\n",
       "216  2023-01-01  10883092   97562    39512223        0.0         0.0\n",
       "217  2023-01-02  10883092   97562    39512223        0.0         0.0\n",
       "\n",
       "[218 rows x 6 columns]"
      ]
     },
     "execution_count": 2,
     "metadata": {},
     "output_type": "execute_result"
    }
   ],
   "source": [
    "ca_state = pd.read_csv('../../../../data/Stage_2/state_data_daily.csv')\n",
    "ca_state"
   ]
  },
  {
   "cell_type": "markdown",
   "id": "91ae7615",
   "metadata": {},
   "source": [
    "Plotting the histogram for the new cases across the California State from 30th May 2023 to 2nd Jan 2023"
   ]
  },
  {
   "cell_type": "code",
   "execution_count": 3,
   "id": "03710d21",
   "metadata": {},
   "outputs": [
    {
     "data": {
      "image/png": "[encoded data removed]",
      "text/plain": [
       "<Figure size 864x576 with 1 Axes>"
      ]
     },
     "metadata": {
      "needs_background": "light"
     },
     "output_type": "display_data"
    }
   ],
   "source": [
    "ax=ca_state.new_cases.hist(density = True,ec='white',figsize = (12,8))"
   ]
  },
  {
   "cell_type": "markdown",
   "id": "90cb33b7",
   "metadata": {},
   "source": [
    "Now we need a distribution to fit the new cases. Let us see if we can fit gamma distribution using mom method on new cases histogram. For implementing gamma distribution using mom method we need to find out the mean and variance as MoM depends on the mean and variance. Using this mean and variance values calculate the alpha and beta parameters as they are essential parameters for the gamma distribution."
   ]
  },
  {
   "cell_type": "code",
   "execution_count": 4,
   "id": "3af75ef3",
   "metadata": {},
   "outputs": [],
   "source": [
    "ca_state_mean = ca_state.new_cases.mean() #mean of the new cases\n",
    "ca_state_var = ca_state.new_cases.var() #Variance of the new cases\n",
    "alpha_mom = ca_state_mean **2/ca_state_var #Alpha parameter using mom method\n",
    "beta_mom = ca_state_var/ca_state_mean #Beta parameter using mom method"
   ]
  },
  {
   "cell_type": "code",
   "execution_count": 5,
   "id": "a4613b6b",
   "metadata": {},
   "outputs": [
    {
     "data": {
      "text/plain": [
       "0.27426724620239956"
      ]
     },
     "execution_count": 5,
     "metadata": {},
     "output_type": "execute_result"
    }
   ],
   "source": [
    "alpha_mom"
   ]
  },
  {
   "cell_type": "code",
   "execution_count": 6,
   "id": "f7bc9a3f",
   "metadata": {},
   "outputs": [
    {
     "data": {
      "text/plain": [
       "32311.18263399574"
      ]
     },
     "execution_count": 6,
     "metadata": {},
     "output_type": "execute_result"
    }
   ],
   "source": [
    "beta_mom"
   ]
  },
  {
   "cell_type": "code",
   "execution_count": 7,
   "id": "e12b5714",
   "metadata": {},
   "outputs": [
    {
     "data": {
      "text/plain": [
       "8861.899082568807"
      ]
     },
     "execution_count": 7,
     "metadata": {},
     "output_type": "execute_result"
    }
   ],
   "source": [
    "ca_state_mean"
   ]
  },
  {
   "cell_type": "code",
   "execution_count": 8,
   "id": "58f2cc98",
   "metadata": {},
   "outputs": [
    {
     "data": {
      "text/plain": [
       "286338439.74092"
      ]
     },
     "execution_count": 8,
     "metadata": {},
     "output_type": "execute_result"
    }
   ],
   "source": [
    "ca_state_var"
   ]
  },
  {
   "cell_type": "markdown",
   "id": "29717f2a",
   "metadata": {},
   "source": [
    "Using the obtained alpha and beta parameters plotting the distribution over the histogram"
   ]
  },
  {
   "cell_type": "code",
   "execution_count": 9,
   "id": "27bd15dd",
   "metadata": {},
   "outputs": [
    {
     "name": "stdout",
     "output_type": "stream",
     "text": [
      "Moment of Distribution = 0.27426724620239956 0.27426724620239956 3.818941648931559 21.87647297691614\n"
     ]
    },
    {
     "data": {
      "image/png": "[encoded data removed]",
      "text/plain": [
       "<Figure size 864x576 with 1 Axes>"
      ]
     },
     "metadata": {
      "needs_background": "light"
     },
     "output_type": "display_data"
    }
   ],
   "source": [
    "mean_gamma, var_gamma, skew_gamma, kurt_gamma = stats.gamma.stats(alpha_mom,moments='mvsk')\n",
    "print('Moment of Distribution =',mean_gamma, var_gamma, skew_gamma, kurt_gamma)\n",
    "\n",
    "plt.figure(figsize=(12,8))\n",
    "plt.grid()\n",
    "plt.hist(ca_state['new_cases'],density=True, bins=17, ec='white')\n",
    "label = 'alpha = {0:.2f}\\nbeta = {1:.2f}'.format(alpha_mom, beta_mom)\n",
    "plt.annotate(label, xy=(80000, 0.00008))\n",
    "plt.plot(np.linspace(ca_state.new_cases.min(),ca_state.new_cases.max() ), stats.gamma.pdf(np.linspace(ca_state.new_cases.min(),ca_state.new_cases.max()), alpha_mom, scale = beta_mom),'r')\n",
    "plt.title('Gamma Distribution for the CA State')\n",
    "plt.xlabel('New Cases')\n",
    "plt.ylabel('Density')\n",
    "plt.show()"
   ]
  },
  {
   "cell_type": "markdown",
   "id": "3a582aa7",
   "metadata": {},
   "source": [
    "From the above plot we can observe that gamma distribution using mom didn’t fit correctly for some part of the histogram on the new cases."
   ]
  },
  {
   "cell_type": "markdown",
   "id": "798f2e8f",
   "metadata": {},
   "source": [
    "Let us see if we can fit poisson distribution using mom method on new cases histogram. In poisson distribution we know that mean is equal to variance. So find the mean of the new cases. Using the mean value plotting the poisson distribution on the new cases histogram"
   ]
  },
  {
   "cell_type": "code",
   "execution_count": 10,
   "id": "16f9d64c",
   "metadata": {},
   "outputs": [
    {
     "name": "stdout",
     "output_type": "stream",
     "text": [
      "Moments of Distribution =  8861.899082568807 8861.899082568807 0.010622741175524742 0.00011284263008218878\n"
     ]
    },
    {
     "data": {
      "image/png": "[encoded data removed]",
      "text/plain": [
       "<Figure size 864x576 with 1 Axes>"
      ]
     },
     "metadata": {
      "needs_background": "light"
     },
     "output_type": "display_data"
    }
   ],
   "source": [
    "mu = ca_state[\"new_cases\"].mean() \n",
    "\n",
    "mean_poisson, var_poisson, skew_poisson, kurt_poisson = stats.poisson.stats(mu= ca_state['new_cases'].mean(), moments='mvsk')\n",
    "print('Moments of Distribution = ',mean_poisson, var_poisson, skew_poisson, kurt_poisson)\n",
    "\n",
    "\n",
    "ax=sns.histplot(ca_state[\"new_cases\"],bins=10,ec='white')\n",
    "ca_state.new_cases.hist(density = True,ec='white',figsize=(12,8))\n",
    "l2,=plt.plot(np.arange(ca_state['new_cases'].min(),ca_state['new_cases'].max() ,20000), [stats.poisson.pmf(np.arange(i, i+20000), mu).sum()*len(ca_state[\"new_cases\"])\n",
    "                                  for i in np.arange(ca_state['new_cases'].min(),ca_state['new_cases'].max() ,20000)], 'r--')\n",
    "plt.legend(handles=[l2])\n",
    "\n",
    "plt.show()"
   ]
  },
  {
   "cell_type": "markdown",
   "id": "4c9ce608",
   "metadata": {},
   "source": [
    "From the above plot we can observe that poisson distribution is not so good fit for the California State data as the data is widely spread i.e., data is over-dispersed. If the data is widely spread then that poisson distribution is not good. Also if you observe the mean and variance differ very much. But in poisson mean and variance are equal. So poisson distribution is not a good fit for this data "
   ]
  },
  {
   "cell_type": "code",
   "execution_count": 11,
   "id": "7dbcbe2a",
   "metadata": {},
   "outputs": [
    {
     "data": {
      "text/plain": [
       "[<matplotlib.lines.Line2D at 0x7fd1863fe910>]"
      ]
     },
     "execution_count": 11,
     "metadata": {},
     "output_type": "execute_result"
    },
    {
     "data": {
      "image/png": "[encoded data removed]",
      "text/plain": [
       "<Figure size 864x576 with 1 Axes>"
      ]
     },
     "metadata": {
      "needs_background": "light"
     },
     "output_type": "display_data"
    }
   ],
   "source": [
    "binwidth = 10000\n",
    "xstart = ca_state.new_cases.min()\n",
    "xend = ca_state.new_cases.max()\n",
    "bins = np.arange(xstart,xend,binwidth)\n",
    "\n",
    "mu = ca_state[\"new_cases\"].mean()\n",
    "n = len(ca_state)\n",
    "\n",
    "plt.figure(figsize=(12,8))\n",
    "\n",
    "o = sns.histplot(data=ca_state[\"new_cases\"],bins=bins,ec='white')\n",
    "\n",
    "plt.plot(bins + binwidth/2 , n*(stats.poisson.cdf(bins+binwidth,mu) - stats.poisson.cdf(bins,mu)), color='red')"
   ]
  },
  {
   "cell_type": "markdown",
   "id": "2882983d",
   "metadata": {},
   "source": [
    "As we came to know that our data is widely spread let us know try negative binomial distribution which is somewhat good in this type of cases. Now let us try to fit the negative binomial distribution using the MoM method. For that let us first find the variance and  mean. Using this mean and variance let us find the n,p and r values. After that using these values plot the negative binomial distribution on the new cases histogram."
   ]
  },
  {
   "cell_type": "code",
   "execution_count": 12,
   "id": "4ff12f59",
   "metadata": {},
   "outputs": [
    {
     "name": "stdout",
     "output_type": "stream",
     "text": [
      "Moment of Distribution=  8861.899082568807 286338439.74092007 3.818882552647585 21.87579592462802\n"
     ]
    },
    {
     "data": {
      "text/plain": [
       "[<matplotlib.lines.Line2D at 0x7fd1865df130>]"
      ]
     },
     "execution_count": 12,
     "metadata": {},
     "output_type": "execute_result"
    },
    {
     "data": {
      "image/png": "[encoded data removed]",
      "text/plain": [
       "<Figure size 864x576 with 1 Axes>"
      ]
     },
     "metadata": {
      "needs_background": "light"
     },
     "output_type": "display_data"
    }
   ],
   "source": [
    "binwidth = 10000\n",
    "xstart = ca_state.new_cases.min()\n",
    "xend = ca_state.new_cases.max()\n",
    "bins = np.arange(xstart,xend,binwidth)\n",
    "\n",
    "Var = ca_state[\"new_cases\"].var() # Variance\n",
    "mu = ca_state[\"new_cases\"].mean() #Mean \n",
    "p =  (mu/Var) #probability of sucess\n",
    "r = mu**2 / (Var-mu) \n",
    "n = len(ca_state)\n",
    "\n",
    "mean_nbinom, var_nbinom, skew_nbinom, kurt_nbiom = stats.nbinom.stats(r, p, moments='mvsk')\n",
    "print('Moment of Distribution= ',mean_nbinom, var_nbinom, skew_nbinom, kurt_nbiom)\n",
    "\n",
    "\n",
    "plt.figure(figsize=(12,8))\n",
    "\n",
    "o = sns.histplot(data=ca_state[\"new_cases\"],bins=bins,ec='white')\n",
    "\n",
    "plt.plot(bins + binwidth/2 , \n",
    "         n*(stats.nbinom.cdf(bins+binwidth,r,p) - stats.nbinom.cdf(bins,r,p)), \n",
    "         color='red')"
   ]
  },
  {
   "cell_type": "markdown",
   "id": "9619d27a",
   "metadata": {},
   "source": [
    "From the above plot we can see that negative binomial distribution using MoM fitted good for the California state new cases data compared to the poisson and gamma using MoM. "
   ]
  },
  {
   "cell_type": "code",
   "execution_count": 13,
   "id": "6ef39e11",
   "metadata": {},
   "outputs": [
    {
     "data": {
      "text/plain": [
       "<AxesSubplot:>"
      ]
     },
     "execution_count": 13,
     "metadata": {},
     "output_type": "execute_result"
    },
    {
     "data": {
      "image/png": "[encoded data removed]",
      "text/plain": [
       "<Figure size 432x288 with 2 Axes>"
      ]
     },
     "metadata": {
      "needs_background": "light"
     },
     "output_type": "display_data"
    }
   ],
   "source": [
    "ax=ca_state.new_cases.plot(kind='hist',ec = 'white')\n",
    "ca_state.new_cases.plot(kind='kde', ax=ax, secondary_y=True)"
   ]
  },
  {
   "cell_type": "markdown",
   "id": "d40d9702",
   "metadata": {},
   "source": [
    "Till now we tried to implement the distributions using MoM method. Now let us try to implement using the Kernel Density Estimation Method. We know that the Kernel Density Estimation is a non-parametric method of estimating the PDF function. It is non-parametric method because it does not assume any underlying distribution. In Kernel Density estimation we use the gaussian kernel. The advantage of Gaussian kernel is that it automatically determines the bandwidth which is the important parameter of the kernel density estimator. Now plotting the kernel density estimation using the scipy stats kde on the new cases histogram"
   ]
  },
  {
   "cell_type": "code",
   "execution_count": 14,
   "id": "c42e7093",
   "metadata": {},
   "outputs": [
    {
     "name": "stdout",
     "output_type": "stream",
     "text": [
      "Moments of Distribution =  0.0 285024960.6595404 2.3749707776792013 6.803399438550649\n"
     ]
    },
    {
     "data": {
      "text/plain": [
       "<matplotlib.legend.Legend at 0x7fd186bf11c0>"
      ]
     },
     "execution_count": 14,
     "metadata": {},
     "output_type": "execute_result"
    },
    {
     "data": {
      "image/png": "[encoded data removed]",
      "text/plain": [
       "<Figure size 864x576 with 1 Axes>"
      ]
     },
     "metadata": {
      "needs_background": "light"
     },
     "output_type": "display_data"
    }
   ],
   "source": [
    "new_cases = ca_state.new_cases\n",
    "Mean = stats.moment(new_cases,moment=1)\n",
    "Variance = stats.moment(new_cases,moment=2)\n",
    "Skewness = stats.moment(new_cases,moment=3)/Variance**1.5\n",
    "Kurtosis = stats.moment(new_cases,moment=4)/Variance**2-3\n",
    "print('Moments of Distribution = ',Mean, Variance,Skewness,Kurtosis)\n",
    "ax = new_cases.hist(density=True, grid=False, ec='white', figsize=(12,8))\n",
    "x = np.linspace(new_cases.min(), new_cases.max())\n",
    "density = stats.kde.gaussian_kde(new_cases, bw_method=None)\n",
    "l3,=plt.plot(x, density(x), 'r--', label=\"Kernel Density Estimation\")\n",
    "plt.legend(handles=[l3])"
   ]
  },
  {
   "cell_type": "markdown",
   "id": "880a030d",
   "metadata": {},
   "source": [
    "From the above plot we can observe that the Kernel Density Estimation method is a very good fit compared to the MoM method. If we try to adjust the bandwidth between 0.1-0.5 then we could get optimally smoothed kernel density estimate for the new cases data of CA State."
   ]
  },
  {
   "cell_type": "markdown",
   "id": "65fabe52",
   "metadata": {},
   "source": [
    "If we give the bandwidth=0.3 then below is the kernel density estimate"
   ]
  },
  {
   "cell_type": "code",
   "execution_count": 15,
   "id": "91718514",
   "metadata": {},
   "outputs": [
    {
     "data": {
      "text/plain": [
       "<matplotlib.legend.Legend at 0x7fd186bf1220>"
      ]
     },
     "execution_count": 15,
     "metadata": {},
     "output_type": "execute_result"
    },
    {
     "data": {
      "image/png": "[encoded data removed]",
      "text/plain": [
       "<Figure size 864x576 with 1 Axes>"
      ]
     },
     "metadata": {
      "needs_background": "light"
     },
     "output_type": "display_data"
    }
   ],
   "source": [
    "new_cases = ca_state.new_cases\n",
    "ax = new_cases.hist(density=True, grid=False, ec='white', figsize=(12,8))\n",
    "x = np.linspace(new_cases.min(), new_cases.max())\n",
    "density = stats.kde.gaussian_kde(new_cases, bw_method=0.3)\n",
    "l3,=plt.plot(x, density(x), 'r--', label=\"Kernel Density Estimation\")\n",
    "plt.legend(handles=[l3])"
   ]
  },
  {
   "cell_type": "markdown",
   "id": "b41fbcb5",
   "metadata": {},
   "source": [
    "Moments of Distribution for California State when calculated separately"
   ]
  },
  {
   "cell_type": "code",
   "execution_count": 16,
   "id": "7247e263",
   "metadata": {},
   "outputs": [
    {
     "name": "stdout",
     "output_type": "stream",
     "text": [
      "Mean of CA State =  8861.899082568807\n",
      "Variance of CA State =  286338439.74092\n",
      "Skewness of CA State =  2.3914573111930033\n",
      "Kurtosis of CA State = 6.990093701943205\n"
     ]
    }
   ],
   "source": [
    "mean = ca_state['new_cases'].mean()\n",
    "var = ca_state['new_cases'].var()\n",
    "skewness = ca_state['new_cases'].skew()\n",
    "kurtosis = ca_state['new_cases'].kurtosis()\n",
    "print('Mean of CA State = ',mean)\n",
    "print('Variance of CA State = ',var)\n",
    "print('Skewness of CA State = ',skewness)\n",
    "print('Kurtosis of CA State =',kurtosis)"
   ]
  },
  {
   "cell_type": "markdown",
   "id": "ad3dfe7a",
   "metadata": {},
   "source": [
    "Reading the data of selected states in the Stage-II"
   ]
  },
  {
   "cell_type": "code",
   "execution_count": 17,
   "id": "f9b9e804",
   "metadata": {},
   "outputs": [
    {
     "data": {
      "text/html": [
       "<div>\n",
       "<style scoped>\n",
       "    .dataframe tbody tr th:only-of-type {\n",
       "        vertical-align: middle;\n",
       "    }\n",
       "\n",
       "    .dataframe tbody tr th {\n",
       "        vertical-align: top;\n",
       "    }\n",
       "\n",
       "    .dataframe thead th {\n",
       "        text-align: right;\n",
       "    }\n",
       "</style>\n",
       "<table border=\"1\" class=\"dataframe\">\n",
       "  <thead>\n",
       "    <tr style=\"text-align: right;\">\n",
       "      <th></th>\n",
       "      <th>State</th>\n",
       "      <th>Dates</th>\n",
       "      <th>cases</th>\n",
       "      <th>deaths</th>\n",
       "      <th>population</th>\n",
       "      <th>new_cases</th>\n",
       "      <th>new_deaths</th>\n",
       "    </tr>\n",
       "  </thead>\n",
       "  <tbody>\n",
       "    <tr>\n",
       "      <th>0</th>\n",
       "      <td>CA</td>\n",
       "      <td>2022-05-30</td>\n",
       "      <td>8967578</td>\n",
       "      <td>90624</td>\n",
       "      <td>39512223</td>\n",
       "      <td>16380.0</td>\n",
       "      <td>90.0</td>\n",
       "    </tr>\n",
       "    <tr>\n",
       "      <th>1</th>\n",
       "      <td>CA</td>\n",
       "      <td>2022-05-31</td>\n",
       "      <td>8973066</td>\n",
       "      <td>90626</td>\n",
       "      <td>39512223</td>\n",
       "      <td>5488.0</td>\n",
       "      <td>2.0</td>\n",
       "    </tr>\n",
       "    <tr>\n",
       "      <th>2</th>\n",
       "      <td>CA</td>\n",
       "      <td>2022-06-01</td>\n",
       "      <td>8984553</td>\n",
       "      <td>90627</td>\n",
       "      <td>39512223</td>\n",
       "      <td>11487.0</td>\n",
       "      <td>1.0</td>\n",
       "    </tr>\n",
       "    <tr>\n",
       "      <th>3</th>\n",
       "      <td>CA</td>\n",
       "      <td>2022-06-02</td>\n",
       "      <td>8986351</td>\n",
       "      <td>90627</td>\n",
       "      <td>39512223</td>\n",
       "      <td>1798.0</td>\n",
       "      <td>0.0</td>\n",
       "    </tr>\n",
       "    <tr>\n",
       "      <th>4</th>\n",
       "      <td>CA</td>\n",
       "      <td>2022-06-03</td>\n",
       "      <td>8986351</td>\n",
       "      <td>90627</td>\n",
       "      <td>39512223</td>\n",
       "      <td>0.0</td>\n",
       "      <td>0.0</td>\n",
       "    </tr>\n",
       "    <tr>\n",
       "      <th>...</th>\n",
       "      <td>...</td>\n",
       "      <td>...</td>\n",
       "      <td>...</td>\n",
       "      <td>...</td>\n",
       "      <td>...</td>\n",
       "      <td>...</td>\n",
       "      <td>...</td>\n",
       "    </tr>\n",
       "    <tr>\n",
       "      <th>867</th>\n",
       "      <td>NY</td>\n",
       "      <td>2022-12-29</td>\n",
       "      <td>6439014</td>\n",
       "      <td>73867</td>\n",
       "      <td>19453561</td>\n",
       "      <td>44889.0</td>\n",
       "      <td>0.0</td>\n",
       "    </tr>\n",
       "    <tr>\n",
       "      <th>868</th>\n",
       "      <td>NY</td>\n",
       "      <td>2022-12-30</td>\n",
       "      <td>6439014</td>\n",
       "      <td>74252</td>\n",
       "      <td>19453561</td>\n",
       "      <td>0.0</td>\n",
       "      <td>385.0</td>\n",
       "    </tr>\n",
       "    <tr>\n",
       "      <th>869</th>\n",
       "      <td>NY</td>\n",
       "      <td>2022-12-31</td>\n",
       "      <td>6439014</td>\n",
       "      <td>74252</td>\n",
       "      <td>19453561</td>\n",
       "      <td>0.0</td>\n",
       "      <td>0.0</td>\n",
       "    </tr>\n",
       "    <tr>\n",
       "      <th>870</th>\n",
       "      <td>NY</td>\n",
       "      <td>2023-01-01</td>\n",
       "      <td>6439014</td>\n",
       "      <td>74252</td>\n",
       "      <td>19453561</td>\n",
       "      <td>0.0</td>\n",
       "      <td>0.0</td>\n",
       "    </tr>\n",
       "    <tr>\n",
       "      <th>871</th>\n",
       "      <td>NY</td>\n",
       "      <td>2023-01-02</td>\n",
       "      <td>6439014</td>\n",
       "      <td>74252</td>\n",
       "      <td>19453561</td>\n",
       "      <td>0.0</td>\n",
       "      <td>0.0</td>\n",
       "    </tr>\n",
       "  </tbody>\n",
       "</table>\n",
       "<p>872 rows × 7 columns</p>\n",
       "</div>"
      ],
      "text/plain": [
       "    State       Dates    cases  deaths  population  new_cases  new_deaths\n",
       "0      CA  2022-05-30  8967578   90624    39512223    16380.0        90.0\n",
       "1      CA  2022-05-31  8973066   90626    39512223     5488.0         2.0\n",
       "2      CA  2022-06-01  8984553   90627    39512223    11487.0         1.0\n",
       "3      CA  2022-06-02  8986351   90627    39512223     1798.0         0.0\n",
       "4      CA  2022-06-03  8986351   90627    39512223        0.0         0.0\n",
       "..    ...         ...      ...     ...         ...        ...         ...\n",
       "867    NY  2022-12-29  6439014   73867    19453561    44889.0         0.0\n",
       "868    NY  2022-12-30  6439014   74252    19453561        0.0       385.0\n",
       "869    NY  2022-12-31  6439014   74252    19453561        0.0         0.0\n",
       "870    NY  2023-01-01  6439014   74252    19453561        0.0         0.0\n",
       "871    NY  2023-01-02  6439014   74252    19453561        0.0         0.0\n",
       "\n",
       "[872 rows x 7 columns]"
      ]
     },
     "execution_count": 17,
     "metadata": {},
     "output_type": "execute_result"
    }
   ],
   "source": [
    "selected_states = pd.read_csv('../../../../data/Stage_2/selected_states_data_daily.csv')\n",
    "selected_states"
   ]
  },
  {
   "cell_type": "code",
   "execution_count": 18,
   "id": "e177408e",
   "metadata": {},
   "outputs": [],
   "source": [
    "c = selected_states.State.value_counts()#Count of unique states in the dataframe"
   ]
  },
  {
   "cell_type": "code",
   "execution_count": 19,
   "id": "766e506d",
   "metadata": {},
   "outputs": [],
   "source": [
    "new_cases_list = selected_states['new_cases'].tolist() #Taking new cases column into a list"
   ]
  },
  {
   "cell_type": "markdown",
   "id": "6044c139",
   "metadata": {},
   "source": [
    "Finding the alpha and beta parameters of the gamma distribution for each state using the Method of Moments methods"
   ]
  },
  {
   "cell_type": "code",
   "execution_count": 20,
   "id": "d70aef97",
   "metadata": {},
   "outputs": [],
   "source": [
    "def alpha_beta_mom(selected_states,new_cases_list,c):\n",
    "    alpha_mom,beta_mom,mean,var = [],[],[],[]\n",
    "    for i in range(len(c)):\n",
    "        mean.append(np.mean(new_cases_list[i*int(len(selected_states)/len(c)):(i+1)*int(len(selected_states)/len(c))]))\n",
    "        var.append(np.var(new_cases_list[i*int(len(selected_states)/len(c)):(i+1)*int(len(selected_states)/len(c))]))\n",
    "    for i in range(len(c)):\n",
    "        alpha_mom.append(mean[i]**2/var[i])\n",
    "        beta_mom.append(var[i]/mean[i])\n",
    "    return alpha_mom,beta_mom    "
   ]
  },
  {
   "cell_type": "code",
   "execution_count": 21,
   "id": "b138dc3a",
   "metadata": {},
   "outputs": [],
   "source": [
    "alpha_mom,beta_mom = alpha_beta_mom(selected_states,new_cases_list,c)"
   ]
  },
  {
   "cell_type": "code",
   "execution_count": 22,
   "id": "37a9a8a5",
   "metadata": {},
   "outputs": [
    {
     "data": {
      "text/plain": [
       "[0.27553115056277855,\n",
       " 0.12755008224764702,\n",
       " 0.2908132252655336,\n",
       " 0.5158161144245607]"
      ]
     },
     "execution_count": 22,
     "metadata": {},
     "output_type": "execute_result"
    }
   ],
   "source": [
    "alpha_mom"
   ]
  },
  {
   "cell_type": "code",
   "execution_count": 23,
   "id": "02ca37a4",
   "metadata": {},
   "outputs": [
    {
     "data": {
      "text/plain": [
       "[32162.966199894927, 20566.80888722836, 8185.035297442426, 9365.927498532597]"
      ]
     },
     "execution_count": 23,
     "metadata": {},
     "output_type": "execute_result"
    }
   ],
   "source": [
    "beta_mom"
   ]
  },
  {
   "cell_type": "markdown",
   "id": "9f866ead",
   "metadata": {},
   "source": [
    "Now with the help of the alpha and beta parameters plotting the gamma distribution of each state and calculating the moments of distribution of gamma distribution"
   ]
  },
  {
   "cell_type": "code",
   "execution_count": 24,
   "id": "4318bdd5",
   "metadata": {
    "scrolled": false
   },
   "outputs": [
    {
     "name": "stdout",
     "output_type": "stream",
     "text": [
      "Moments of Distribution =  0.27553115056277855 0.27553115056277855 3.810172540576442 21.776122183444105\n"
     ]
    },
    {
     "data": {
      "image/png": "[encoded data removed]",
      "text/plain": [
       "<Figure size 864x576 with 1 Axes>"
      ]
     },
     "metadata": {
      "needs_background": "light"
     },
     "output_type": "display_data"
    },
    {
     "name": "stdout",
     "output_type": "stream",
     "text": [
      "Moments of Distribution =  0.12755008224764702 0.12755008224764702 5.600020594613261 47.04034599013898\n"
     ]
    },
    {
     "data": {
      "image/png": "[encoded data removed]",
      "text/plain": [
       "<Figure size 864x576 with 1 Axes>"
      ]
     },
     "metadata": {
      "needs_background": "light"
     },
     "output_type": "display_data"
    },
    {
     "name": "stdout",
     "output_type": "stream",
     "text": [
      "Moments of Distribution =  0.2908132252655336 0.2908132252655336 3.7087103746771097 20.631798964856443\n"
     ]
    },
    {
     "data": {
      "image/png": "[encoded data removed]",
      "text/plain": [
       "<Figure size 864x576 with 1 Axes>"
      ]
     },
     "metadata": {
      "needs_background": "light"
     },
     "output_type": "display_data"
    },
    {
     "name": "stdout",
     "output_type": "stream",
     "text": [
      "Moments of Distribution =  0.5158161144245607 0.5158161144245607 2.7847264690208893 11.632052260898325\n"
     ]
    },
    {
     "data": {
      "image/png": "[encoded data removed]",
      "text/plain": [
       "<Figure size 864x576 with 1 Axes>"
      ]
     },
     "metadata": {
      "needs_background": "light"
     },
     "output_type": "display_data"
    }
   ],
   "source": [
    "x=0\n",
    "for i in selected_states.State.unique():\n",
    "    df = selected_states[selected_states['State']==i]\n",
    "    x=x+1\n",
    "    mean_gamma, var_gamma, skew_gamma,kurt_var = stats.gamma.stats(alpha_mom[x-1],moments='mvsk')\n",
    "    print('Moments of Distribution = ',mean_gamma, var_gamma, skew_gamma,kurt_var)\n",
    "    plt.figure(figsize=(12,8))\n",
    "    plt.grid()\n",
    "    plt.hist(df['new_cases'],density=True, bins=17, ec='white')\n",
    "    label = 'alpha = {0:.2f}\\nbeta = {1:.2f}'.format(alpha_mom[x-1], beta_mom[x-1])\n",
    "    plt.annotate(label, xy=(20000, 0.00008))\n",
    "    plt.plot(np.linspace(df.new_cases.min(),df.new_cases.max() ), stats.gamma.pdf(np.linspace(df.new_cases.min(),df.new_cases.max()), alpha_mom[x-1], scale = beta_mom[x-1]),'r',label ='Gamma Distribution')\n",
    "    plt.title('Gamma Distribution for the State '+i)\n",
    "    plt.xlabel('New Cases')\n",
    "    plt.ylabel('Density')\n",
    "    plt.show()\n",
    "   \n",
    "    "
   ]
  },
  {
   "cell_type": "markdown",
   "id": "e3ce53fa",
   "metadata": {},
   "source": [
    "Plotting the poisson distribution and calculating the moments of distribution for each state in the dataframe"
   ]
  },
  {
   "cell_type": "code",
   "execution_count": 25,
   "id": "bc9aae29",
   "metadata": {
    "scrolled": false
   },
   "outputs": [
    {
     "name": "stdout",
     "output_type": "stream",
     "text": [
      "Moments of Distribution =  8861.899082568807 8861.899082568807 0.010622741175524742 0.00011284263008218878\n"
     ]
    },
    {
     "data": {
      "image/png": "[encoded data removed]",
      "text/plain": [
       "<Figure size 864x576 with 1 Axes>"
      ]
     },
     "metadata": {
      "needs_background": "light"
     },
     "output_type": "display_data"
    },
    {
     "name": "stdout",
     "output_type": "stream",
     "text": [
      "Moments of Distribution =  2623.298165137615 2623.298165137615 0.01952433147328663 0.00038119951947877085\n"
     ]
    },
    {
     "data": {
      "image/png": "[encoded data removed]",
      "text/plain": [
       "<Figure size 864x576 with 1 Axes>"
      ]
     },
     "metadata": {
      "needs_background": "light"
     },
     "output_type": "display_data"
    },
    {
     "name": "stdout",
     "output_type": "stream",
     "text": [
      "Moments of Distribution =  2380.316513761468 2380.316513761468 0.020496638674091523 0.0004201121969362644\n"
     ]
    },
    {
     "data": {
      "image/png": "[encoded data removed]",
      "text/plain": [
       "<Figure size 864x576 with 1 Axes>"
      ]
     },
     "metadata": {
      "needs_background": "light"
     },
     "output_type": "display_data"
    },
    {
     "name": "stdout",
     "output_type": "stream",
     "text": [
      "Moments of Distribution =  4831.09633027523 4831.09633027523 0.014387228837635707 0.00020699235362649652\n"
     ]
    },
    {
     "data": {
      "image/png": "[encoded data removed]",
      "text/plain": [
       "<Figure size 864x576 with 1 Axes>"
      ]
     },
     "metadata": {
      "needs_background": "light"
     },
     "output_type": "display_data"
    }
   ],
   "source": [
    "for i in selected_states.State.unique():\n",
    "    df = selected_states[selected_states['State']==i]\n",
    "    mean_poisson, var_poisson, skew_poisson, kurt_poisson = stats.poisson.stats(mu= df['new_cases'].mean(), moments='mvsk')\n",
    "    print('Moments of Distribution = ',mean_poisson, var_poisson, skew_poisson, kurt_poisson)\n",
    "\n",
    "    binwidth = 10000\n",
    "    xstart = df.new_cases.min()\n",
    "    xend = df.new_cases.max()\n",
    "    bins = np.arange(xstart,xend,binwidth)\n",
    "\n",
    "    mu = df[\"new_cases\"].mean()\n",
    "    n = len(df)\n",
    "\n",
    "    plt.figure(figsize=(12,8))\n",
    "    plt.grid(False)\n",
    "\n",
    "    o = sns.histplot(data=df[\"new_cases\"],bins=bins)\n",
    "\n",
    "    plt.plot(bins + binwidth/2 , n*(stats.poisson.cdf(bins+binwidth,mu) - stats.poisson.cdf(bins,mu)), 'r--',label = 'Poisson Distribution')\n",
    "    plt.title('Poisson Distribution for State '+i)\n",
    "    plt.show()"
   ]
  },
  {
   "cell_type": "markdown",
   "id": "4e020684",
   "metadata": {},
   "source": [
    "Plotting the negative binomial distribution and calculating the moment of distributions for each state in the dataframe"
   ]
  },
  {
   "cell_type": "code",
   "execution_count": 26,
   "id": "7856f995",
   "metadata": {
    "scrolled": false
   },
   "outputs": [
    {
     "name": "stdout",
     "output_type": "stream",
     "text": [
      "Moments of Distribution =  8861.899082568807 286338439.74092007 3.818882552647585 21.87579592462802\n"
     ]
    },
    {
     "data": {
      "image/png": "[encoded data removed]",
      "text/plain": [
       "<Figure size 864x576 with 1 Axes>"
      ]
     },
     "metadata": {
      "needs_background": "light"
     },
     "output_type": "display_data"
    },
    {
     "name": "stdout",
     "output_type": "stream",
     "text": [
      "Moments of Distribution =  2623.2981651376144 54201502.76322223 5.6127732069313385 47.25483459944462\n"
     ]
    },
    {
     "data": {
      "image/png": "[encoded data removed]",
      "text/plain": [
       "<Figure size 864x576 with 1 Axes>"
      ]
     },
     "metadata": {
      "needs_background": "light"
     },
     "output_type": "display_data"
    },
    {
     "name": "stdout",
     "output_type": "stream",
     "text": [
      "Moments of Distribution =  2380.316513761468 19572757.977698427 3.717019933844547 20.72435575735087\n"
     ]
    },
    {
     "data": {
      "image/png": "[encoded data removed]",
      "text/plain": [
       "<Figure size 864x576 with 1 Axes>"
      ]
     },
     "metadata": {
      "needs_background": "light"
     },
     "output_type": "display_data"
    },
    {
     "name": "stdout",
     "output_type": "stream",
     "text": [
      "Moments of Distribution =  4831.09633027523 45456212.70496342 2.790987193001183 11.684414256245335\n"
     ]
    },
    {
     "data": {
      "image/png": "[encoded data removed]",
      "text/plain": [
       "<Figure size 864x576 with 1 Axes>"
      ]
     },
     "metadata": {
      "needs_background": "light"
     },
     "output_type": "display_data"
    }
   ],
   "source": [
    "for i in selected_states.State.unique():\n",
    "    df = selected_states[selected_states['State']==i]\n",
    "    \n",
    "    \n",
    "    \n",
    "\n",
    "    binwidth = 10000\n",
    "    xstart = df.new_cases.min()\n",
    "    xend = df.new_cases.max()\n",
    "    bins = np.arange(xstart,xend,binwidth)\n",
    "\n",
    "    Var = df[\"new_cases\"].var()\n",
    "    mu = df[\"new_cases\"].mean()\n",
    "    p =  (mu/Var)\n",
    "    r = mu**2 / (Var-mu)\n",
    "    n = len(df)\n",
    "    \n",
    "    mean_nbinom, var_nbinom, skew_nbinom, kurt_nbiom = stats.nbinom.stats(r, p, moments='mvsk')\n",
    "    print('Moments of Distribution = ',mean_nbinom, var_nbinom, skew_nbinom, kurt_nbiom)\n",
    "    \n",
    "    plt.figure(figsize=(12,8))\n",
    "\n",
    "    o = sns.histplot(data=df[\"new_cases\"],bins=bins)\n",
    "\n",
    "    plt.plot(bins + binwidth/2 , \n",
    "         n*(stats.nbinom.cdf(bins+binwidth,r,p) - stats.nbinom.cdf(bins,r,p)), \n",
    "         'r--')\n",
    "    plt.title('Binomial Distribution for State '+i)\n",
    "    plt.show()"
   ]
  },
  {
   "cell_type": "markdown",
   "id": "52187906",
   "metadata": {},
   "source": [
    "Plotting the Kernel Denisty Estimation method for each state in states dataframe. Here I selected the input for bandwidth as 0.3 by trail and error as we can see the optimally smoothed kernel density estimate for each state."
   ]
  },
  {
   "cell_type": "code",
   "execution_count": 27,
   "id": "3ebaeb70",
   "metadata": {
    "scrolled": false
   },
   "outputs": [
    {
     "name": "stdout",
     "output_type": "stream",
     "text": [
      "Moments of Distribution =  0.0 285024960.6595404 2.3749707776792013 6.803399438550649\n"
     ]
    },
    {
     "data": {
      "image/png": "[encoded data removed]",
      "text/plain": [
       "<Figure size 864x576 with 1 Axes>"
      ]
     },
     "metadata": {
      "needs_background": "light"
     },
     "output_type": "display_data"
    },
    {
     "name": "stdout",
     "output_type": "stream",
     "text": [
      "Moments of Distribution =  0.0 53952872.01660214 2.799712045322046 6.647819084501451\n"
     ]
    },
    {
     "data": {
      "image/png": "[encoded data removed]",
      "text/plain": [
       "<Figure size 864x576 with 1 Axes>"
      ]
     },
     "metadata": {
      "needs_background": "light"
     },
     "output_type": "display_data"
    },
    {
     "name": "stdout",
     "output_type": "stream",
     "text": [
      "Moments of Distribution =  0.0 19482974.684222713 2.367864874901551 6.013621275751568\n"
     ]
    },
    {
     "data": {
      "image/png": "[encoded data removed]",
      "text/plain": [
       "<Figure size 864x576 with 1 Axes>"
      ]
     },
     "metadata": {
      "needs_background": "light"
     },
     "output_type": "display_data"
    },
    {
     "name": "stdout",
     "output_type": "stream",
     "text": [
      "Moments of Distribution =  0.0 45247697.967784695 2.720357553107269 10.184112477132183\n"
     ]
    },
    {
     "data": {
      "image/png": "[encoded data removed]",
      "text/plain": [
       "<Figure size 864x576 with 1 Axes>"
      ]
     },
     "metadata": {
      "needs_background": "light"
     },
     "output_type": "display_data"
    }
   ],
   "source": [
    "#bw = [0.3,0.01,0.2,0.02]\n",
    "#indices = np.random.choice(range(len(bw)))\n",
    "#bw1 = np.array(bw).astype(int)\n",
    "#print(bw1)\n",
    "#x=0\n",
    "for i in selected_states.State.unique():\n",
    "    df = selected_states[selected_states['State']==i]\n",
    "    #x= x+1\n",
    "    new_cases = df.new_cases\n",
    "    Mean = stats.moment(df.new_cases,moment=1)\n",
    "    Variance = stats.moment(df.new_cases,moment=2)\n",
    "    Skewness = stats.moment(df.new_cases,moment=3)/Variance**1.5\n",
    "    Kurtosis = stats.moment(df.new_cases,moment=4)/Variance**2-3\n",
    "    print('Moments of Distribution = ',Mean, Variance,Skewness,Kurtosis)\n",
    "    ax = new_cases.hist(density=True, grid=False, ec='white', figsize=(12,8))\n",
    "    x = np.linspace(new_cases.min(), new_cases.max())\n",
    "    density = stats.kde.gaussian_kde(new_cases, bw_method=0.3)\n",
    "    l3,=plt.plot(x, density(x), 'r--', label=\"Kernel Density Estimation\")\n",
    "    plt.legend(handles=[l3])\n",
    "    plt.title('Kernel Density Estimation for the State '+i)\n",
    "    plt.xlabel('New Cases')\n",
    "    plt.ylabel('Density')\n",
    "    plt.show()"
   ]
  },
  {
   "cell_type": "markdown",
   "id": "750c72f3",
   "metadata": {},
   "source": [
    "Function which calculates the moments of distribution separately for each state in the dataframe"
   ]
  },
  {
   "cell_type": "code",
   "execution_count": 28,
   "id": "217d5a17",
   "metadata": {},
   "outputs": [],
   "source": [
    "def mod(selected_states,new_cases_list,c):\n",
    "    mean,var,skew,kurtosis= [],[],[],[]\n",
    "    for i in range(len(c)):\n",
    "        mean.append(np.mean(new_cases_list[i*int(len(selected_states)/len(c)):(i+1)*int(len(selected_states)/len(c))]))\n",
    "        var.append(np.var(new_cases_list[i*int(len(selected_states)/len(c)):(i+1)*int(len(selected_states)/len(c))]).round(decimals=1))\n",
    "        skew.append(stats.skew(new_cases_list[i*int(len(selected_states)/len(c)):(i+1)*int(len(selected_states)/len(c))]))\n",
    "        kurtosis.append(stats.kurtosis(new_cases_list[i*int(len(selected_states)/len(c)):(i+1)*int(len(selected_states)/len(c))]))  \n",
    "    return mean,var,skew,kurtosis\n",
    "    "
   ]
  },
  {
   "cell_type": "code",
   "execution_count": 29,
   "id": "2d71dcaa",
   "metadata": {},
   "outputs": [],
   "source": [
    "mean,var,skew,kurtosis = mod(selected_states,new_cases_list,c)"
   ]
  },
  {
   "cell_type": "code",
   "execution_count": 30,
   "id": "0fe87641",
   "metadata": {},
   "outputs": [
    {
     "data": {
      "text/plain": [
       "['CA', 'NC', 'NJ', 'NY']"
      ]
     },
     "execution_count": 30,
     "metadata": {},
     "output_type": "execute_result"
    }
   ],
   "source": [
    "states = selected_states['State'].unique().tolist()\n",
    "states"
   ]
  },
  {
   "cell_type": "markdown",
   "id": "5fcfdecd",
   "metadata": {},
   "source": [
    "Moments of distributions obtained for each state"
   ]
  },
  {
   "cell_type": "code",
   "execution_count": 31,
   "id": "a9947c35",
   "metadata": {},
   "outputs": [
    {
     "data": {
      "text/html": [
       "<div>\n",
       "<style scoped>\n",
       "    .dataframe tbody tr th:only-of-type {\n",
       "        vertical-align: middle;\n",
       "    }\n",
       "\n",
       "    .dataframe tbody tr th {\n",
       "        vertical-align: top;\n",
       "    }\n",
       "\n",
       "    .dataframe thead th {\n",
       "        text-align: right;\n",
       "    }\n",
       "</style>\n",
       "<table border=\"1\" class=\"dataframe\">\n",
       "  <thead>\n",
       "    <tr style=\"text-align: right;\">\n",
       "      <th></th>\n",
       "      <th>State</th>\n",
       "      <th>Mean</th>\n",
       "      <th>Variance</th>\n",
       "      <th>Skewness</th>\n",
       "      <th>Kurtosis</th>\n",
       "    </tr>\n",
       "  </thead>\n",
       "  <tbody>\n",
       "    <tr>\n",
       "      <th>0</th>\n",
       "      <td>CA</td>\n",
       "      <td>8861.899083</td>\n",
       "      <td>285024960.7</td>\n",
       "      <td>2.374971</td>\n",
       "      <td>6.803399</td>\n",
       "    </tr>\n",
       "    <tr>\n",
       "      <th>1</th>\n",
       "      <td>NC</td>\n",
       "      <td>2623.298165</td>\n",
       "      <td>53952872.0</td>\n",
       "      <td>2.799712</td>\n",
       "      <td>6.647819</td>\n",
       "    </tr>\n",
       "    <tr>\n",
       "      <th>2</th>\n",
       "      <td>NJ</td>\n",
       "      <td>2380.316514</td>\n",
       "      <td>19482974.7</td>\n",
       "      <td>2.367865</td>\n",
       "      <td>6.013621</td>\n",
       "    </tr>\n",
       "    <tr>\n",
       "      <th>3</th>\n",
       "      <td>NY</td>\n",
       "      <td>4831.096330</td>\n",
       "      <td>45247698.0</td>\n",
       "      <td>2.720358</td>\n",
       "      <td>10.184112</td>\n",
       "    </tr>\n",
       "  </tbody>\n",
       "</table>\n",
       "</div>"
      ],
      "text/plain": [
       "  State         Mean     Variance  Skewness   Kurtosis\n",
       "0    CA  8861.899083  285024960.7  2.374971   6.803399\n",
       "1    NC  2623.298165   53952872.0  2.799712   6.647819\n",
       "2    NJ  2380.316514   19482974.7  2.367865   6.013621\n",
       "3    NY  4831.096330   45247698.0  2.720358  10.184112"
      ]
     },
     "execution_count": 31,
     "metadata": {},
     "output_type": "execute_result"
    }
   ],
   "source": [
    "mod_df = pd.DataFrame({'State':states,'Mean':mean,'Variance':var,'Skewness':skew,'Kurtosis':kurtosis})\n",
    "mod_df"
   ]
  },
  {
   "cell_type": "markdown",
   "id": "2e3276e5",
   "metadata": {},
   "source": [
    "From the above moments of distribution for each state we can see each state follows the same trends.Coming to the Skewness the values are almost same for each state and are positive that means each state data are right skewed. Right tails are more compared to the left tails. Coming to the kurtosis the NY state has the highest kurtosis remaining states are almost similar. So the NY state data is highly tailed."
   ]
  },
  {
   "cell_type": "markdown",
   "id": "76f6756a",
   "metadata": {},
   "source": [
    "Distributions for each state looks different because each state registers different number of cases. Histogram spread depends on the number of new cases so the spread would be different from one state to another. So the distributions differ."
   ]
  },
  {
   "cell_type": "markdown",
   "id": "c6f57e98",
   "metadata": {},
   "source": [
    "Coming to the distributions for each state, negative binomial distribution using MoM is more suitable for state whose data is more widely spread followed by the gamma distribution. If state data is not widely spread then the poisson distribution will be a very good fit. Also if we observe the state data which we have with us it is a discrete data not continous. So discrete distribution fits good for our data. \n",
    "\n",
    "Apart from all these distribution Kernel density estimation method works very good compared to the method of moments method. We can get best kernel density estimate by giving the bandwidth parameter. If we select between 0.1-0.5 then we can see optimally smoothed kernel density estimate."
   ]
  },
  {
   "cell_type": "markdown",
   "id": "57b1a0b2",
   "metadata": {},
   "source": [
    "Reading the census_demographic dataset that is generated after cleaning and selecting required columns in the Stage_I"
   ]
  },
  {
   "cell_type": "markdown",
   "id": "409abb86",
   "metadata": {},
   "source": [
    "## 2) Based on the results in Stage I, perform corelation between Enrichment data valiables and COVID-19 cases to observe any patterns. \n",
    "\n",
    "- ### You can compare either within your chosen specific state or among different states with the different enrichment variables. Within the state you can compare the county based covid data to enrichment data for correlation. Between states you would need to aggregate to state level data and then perform correlation. Both covid and enrichment data will need to be normalized for population. For number of covid cases you can use a measure of center value (median or mean) to compare the number of cases"
   ]
  },
  {
   "cell_type": "code",
   "execution_count": 32,
   "id": "492950b7",
   "metadata": {},
   "outputs": [
    {
     "data": {
      "text/html": [
       "<div>\n",
       "<style scoped>\n",
       "    .dataframe tbody tr th:only-of-type {\n",
       "        vertical-align: middle;\n",
       "    }\n",
       "\n",
       "    .dataframe tbody tr th {\n",
       "        vertical-align: top;\n",
       "    }\n",
       "\n",
       "    .dataframe thead th {\n",
       "        text-align: right;\n",
       "    }\n",
       "</style>\n",
       "<table border=\"1\" class=\"dataframe\">\n",
       "  <thead>\n",
       "    <tr style=\"text-align: right;\">\n",
       "      <th></th>\n",
       "      <th>countyFIPS</th>\n",
       "      <th>County Name</th>\n",
       "      <th>State</th>\n",
       "      <th>Male population</th>\n",
       "      <th>Female population</th>\n",
       "      <th>Under 5years</th>\n",
       "      <th>5 to 9years</th>\n",
       "      <th>10 to 14years</th>\n",
       "      <th>15 to 19years</th>\n",
       "      <th>20 to 24years</th>\n",
       "      <th>...</th>\n",
       "      <th>Male(65years and above)</th>\n",
       "      <th>Female(65years and over)</th>\n",
       "      <th>One race population</th>\n",
       "      <th>White population</th>\n",
       "      <th>Black population</th>\n",
       "      <th>Asian population</th>\n",
       "      <th>Total Housing units</th>\n",
       "      <th>Voting population</th>\n",
       "      <th>Male voting population</th>\n",
       "      <th>Female voting population</th>\n",
       "    </tr>\n",
       "  </thead>\n",
       "  <tbody>\n",
       "    <tr>\n",
       "      <th>0</th>\n",
       "      <td>1001</td>\n",
       "      <td>Autauga County</td>\n",
       "      <td>AL</td>\n",
       "      <td>28206</td>\n",
       "      <td>30033</td>\n",
       "      <td>3318</td>\n",
       "      <td>3716</td>\n",
       "      <td>4004</td>\n",
       "      <td>3939</td>\n",
       "      <td>3648</td>\n",
       "      <td>...</td>\n",
       "      <td>3919</td>\n",
       "      <td>4896</td>\n",
       "      <td>56166</td>\n",
       "      <td>43755</td>\n",
       "      <td>11470</td>\n",
       "      <td>647</td>\n",
       "      <td>24170</td>\n",
       "      <td>43906</td>\n",
       "      <td>21018</td>\n",
       "      <td>22888</td>\n",
       "    </tr>\n",
       "    <tr>\n",
       "      <th>1</th>\n",
       "      <td>1003</td>\n",
       "      <td>Baldwin County</td>\n",
       "      <td>AL</td>\n",
       "      <td>110781</td>\n",
       "      <td>116350</td>\n",
       "      <td>12035</td>\n",
       "      <td>11730</td>\n",
       "      <td>16407</td>\n",
       "      <td>13801</td>\n",
       "      <td>11181</td>\n",
       "      <td>...</td>\n",
       "      <td>21795</td>\n",
       "      <td>25010</td>\n",
       "      <td>219535</td>\n",
       "      <td>192034</td>\n",
       "      <td>19895</td>\n",
       "      <td>2175</td>\n",
       "      <td>121763</td>\n",
       "      <td>174686</td>\n",
       "      <td>83847</td>\n",
       "      <td>90839</td>\n",
       "    </tr>\n",
       "    <tr>\n",
       "      <th>2</th>\n",
       "      <td>1005</td>\n",
       "      <td>Barbour County</td>\n",
       "      <td>AL</td>\n",
       "      <td>13361</td>\n",
       "      <td>11898</td>\n",
       "      <td>1320</td>\n",
       "      <td>1601</td>\n",
       "      <td>1422</td>\n",
       "      <td>1487</td>\n",
       "      <td>1434</td>\n",
       "      <td>...</td>\n",
       "      <td>2084</td>\n",
       "      <td>2717</td>\n",
       "      <td>24641</td>\n",
       "      <td>11495</td>\n",
       "      <td>11985</td>\n",
       "      <td>106</td>\n",
       "      <td>11667</td>\n",
       "      <td>19623</td>\n",
       "      <td>10571</td>\n",
       "      <td>9052</td>\n",
       "    </tr>\n",
       "    <tr>\n",
       "      <th>3</th>\n",
       "      <td>1007</td>\n",
       "      <td>Bibb County</td>\n",
       "      <td>AL</td>\n",
       "      <td>12300</td>\n",
       "      <td>10112</td>\n",
       "      <td>1196</td>\n",
       "      <td>1274</td>\n",
       "      <td>1230</td>\n",
       "      <td>1463</td>\n",
       "      <td>1192</td>\n",
       "      <td>...</td>\n",
       "      <td>1629</td>\n",
       "      <td>1965</td>\n",
       "      <td>22111</td>\n",
       "      <td>17020</td>\n",
       "      <td>5003</td>\n",
       "      <td>46</td>\n",
       "      <td>9013</td>\n",
       "      <td>17682</td>\n",
       "      <td>9690</td>\n",
       "      <td>7992</td>\n",
       "    </tr>\n",
       "    <tr>\n",
       "      <th>4</th>\n",
       "      <td>1009</td>\n",
       "      <td>Blount County</td>\n",
       "      <td>AL</td>\n",
       "      <td>29530</td>\n",
       "      <td>29354</td>\n",
       "      <td>3467</td>\n",
       "      <td>3578</td>\n",
       "      <td>4194</td>\n",
       "      <td>3591</td>\n",
       "      <td>3386</td>\n",
       "      <td>...</td>\n",
       "      <td>4726</td>\n",
       "      <td>5858</td>\n",
       "      <td>56921</td>\n",
       "      <td>54439</td>\n",
       "      <td>760</td>\n",
       "      <td>216</td>\n",
       "      <td>24527</td>\n",
       "      <td>43633</td>\n",
       "      <td>21535</td>\n",
       "      <td>22098</td>\n",
       "    </tr>\n",
       "    <tr>\n",
       "      <th>...</th>\n",
       "      <td>...</td>\n",
       "      <td>...</td>\n",
       "      <td>...</td>\n",
       "      <td>...</td>\n",
       "      <td>...</td>\n",
       "      <td>...</td>\n",
       "      <td>...</td>\n",
       "      <td>...</td>\n",
       "      <td>...</td>\n",
       "      <td>...</td>\n",
       "      <td>...</td>\n",
       "      <td>...</td>\n",
       "      <td>...</td>\n",
       "      <td>...</td>\n",
       "      <td>...</td>\n",
       "      <td>...</td>\n",
       "      <td>...</td>\n",
       "      <td>...</td>\n",
       "      <td>...</td>\n",
       "      <td>...</td>\n",
       "      <td>...</td>\n",
       "    </tr>\n",
       "    <tr>\n",
       "      <th>3138</th>\n",
       "      <td>56037</td>\n",
       "      <td>Sweetwater County</td>\n",
       "      <td>WY</td>\n",
       "      <td>21850</td>\n",
       "      <td>20609</td>\n",
       "      <td>2657</td>\n",
       "      <td>3456</td>\n",
       "      <td>3008</td>\n",
       "      <td>3017</td>\n",
       "      <td>2505</td>\n",
       "      <td>...</td>\n",
       "      <td>2608</td>\n",
       "      <td>2782</td>\n",
       "      <td>39597</td>\n",
       "      <td>36867</td>\n",
       "      <td>525</td>\n",
       "      <td>487</td>\n",
       "      <td>19174</td>\n",
       "      <td>30055</td>\n",
       "      <td>15515</td>\n",
       "      <td>14540</td>\n",
       "    </tr>\n",
       "    <tr>\n",
       "      <th>3139</th>\n",
       "      <td>56039</td>\n",
       "      <td>Teton County</td>\n",
       "      <td>WY</td>\n",
       "      <td>12280</td>\n",
       "      <td>11039</td>\n",
       "      <td>1068</td>\n",
       "      <td>1032</td>\n",
       "      <td>1475</td>\n",
       "      <td>1144</td>\n",
       "      <td>941</td>\n",
       "      <td>...</td>\n",
       "      <td>1829</td>\n",
       "      <td>1780</td>\n",
       "      <td>22643</td>\n",
       "      <td>19873</td>\n",
       "      <td>166</td>\n",
       "      <td>369</td>\n",
       "      <td>13255</td>\n",
       "      <td>17273</td>\n",
       "      <td>9135</td>\n",
       "      <td>8138</td>\n",
       "    </tr>\n",
       "    <tr>\n",
       "      <th>3140</th>\n",
       "      <td>56041</td>\n",
       "      <td>Uinta County</td>\n",
       "      <td>WY</td>\n",
       "      <td>10437</td>\n",
       "      <td>10077</td>\n",
       "      <td>1413</td>\n",
       "      <td>1712</td>\n",
       "      <td>1762</td>\n",
       "      <td>1327</td>\n",
       "      <td>1067</td>\n",
       "      <td>...</td>\n",
       "      <td>1540</td>\n",
       "      <td>1482</td>\n",
       "      <td>19536</td>\n",
       "      <td>18899</td>\n",
       "      <td>52</td>\n",
       "      <td>37</td>\n",
       "      <td>8819</td>\n",
       "      <td>14203</td>\n",
       "      <td>7206</td>\n",
       "      <td>6997</td>\n",
       "    </tr>\n",
       "    <tr>\n",
       "      <th>3141</th>\n",
       "      <td>56043</td>\n",
       "      <td>Washakie County</td>\n",
       "      <td>WY</td>\n",
       "      <td>4004</td>\n",
       "      <td>3764</td>\n",
       "      <td>399</td>\n",
       "      <td>321</td>\n",
       "      <td>606</td>\n",
       "      <td>633</td>\n",
       "      <td>386</td>\n",
       "      <td>...</td>\n",
       "      <td>824</td>\n",
       "      <td>906</td>\n",
       "      <td>7328</td>\n",
       "      <td>6655</td>\n",
       "      <td>1</td>\n",
       "      <td>31</td>\n",
       "      <td>3842</td>\n",
       "      <td>5993</td>\n",
       "      <td>3013</td>\n",
       "      <td>2980</td>\n",
       "    </tr>\n",
       "    <tr>\n",
       "      <th>3142</th>\n",
       "      <td>56045</td>\n",
       "      <td>Weston County</td>\n",
       "      <td>WY</td>\n",
       "      <td>3684</td>\n",
       "      <td>3207</td>\n",
       "      <td>308</td>\n",
       "      <td>542</td>\n",
       "      <td>227</td>\n",
       "      <td>540</td>\n",
       "      <td>382</td>\n",
       "      <td>...</td>\n",
       "      <td>697</td>\n",
       "      <td>719</td>\n",
       "      <td>6406</td>\n",
       "      <td>6154</td>\n",
       "      <td>25</td>\n",
       "      <td>52</td>\n",
       "      <td>3431</td>\n",
       "      <td>5413</td>\n",
       "      <td>2848</td>\n",
       "      <td>2565</td>\n",
       "    </tr>\n",
       "  </tbody>\n",
       "</table>\n",
       "<p>3143 rows × 33 columns</p>\n",
       "</div>"
      ],
      "text/plain": [
       "      countyFIPS        County Name State  Male population  Female population  \\\n",
       "0           1001     Autauga County    AL            28206              30033   \n",
       "1           1003     Baldwin County    AL           110781             116350   \n",
       "2           1005     Barbour County    AL            13361              11898   \n",
       "3           1007        Bibb County    AL            12300              10112   \n",
       "4           1009      Blount County    AL            29530              29354   \n",
       "...          ...                ...   ...              ...                ...   \n",
       "3138       56037  Sweetwater County    WY            21850              20609   \n",
       "3139       56039       Teton County    WY            12280              11039   \n",
       "3140       56041       Uinta County    WY            10437              10077   \n",
       "3141       56043    Washakie County    WY             4004               3764   \n",
       "3142       56045      Weston County    WY             3684               3207   \n",
       "\n",
       "      Under 5years  5 to 9years  10 to 14years  15 to 19years  20 to 24years  \\\n",
       "0             3318         3716           4004           3939           3648   \n",
       "1            12035        11730          16407          13801          11181   \n",
       "2             1320         1601           1422           1487           1434   \n",
       "3             1196         1274           1230           1463           1192   \n",
       "4             3467         3578           4194           3591           3386   \n",
       "...            ...          ...            ...            ...            ...   \n",
       "3138          2657         3456           3008           3017           2505   \n",
       "3139          1068         1032           1475           1144            941   \n",
       "3140          1413         1712           1762           1327           1067   \n",
       "3141           399          321            606            633            386   \n",
       "3142           308          542            227            540            382   \n",
       "\n",
       "      ...  Male(65years and above)  Female(65years and over)  \\\n",
       "0     ...                     3919                      4896   \n",
       "1     ...                    21795                     25010   \n",
       "2     ...                     2084                      2717   \n",
       "3     ...                     1629                      1965   \n",
       "4     ...                     4726                      5858   \n",
       "...   ...                      ...                       ...   \n",
       "3138  ...                     2608                      2782   \n",
       "3139  ...                     1829                      1780   \n",
       "3140  ...                     1540                      1482   \n",
       "3141  ...                      824                       906   \n",
       "3142  ...                      697                       719   \n",
       "\n",
       "      One race population  White population  Black population  \\\n",
       "0                   56166             43755             11470   \n",
       "1                  219535            192034             19895   \n",
       "2                   24641             11495             11985   \n",
       "3                   22111             17020              5003   \n",
       "4                   56921             54439               760   \n",
       "...                   ...               ...               ...   \n",
       "3138                39597             36867               525   \n",
       "3139                22643             19873               166   \n",
       "3140                19536             18899                52   \n",
       "3141                 7328              6655                 1   \n",
       "3142                 6406              6154                25   \n",
       "\n",
       "      Asian population  Total Housing units  Voting population  \\\n",
       "0                  647                24170              43906   \n",
       "1                 2175               121763             174686   \n",
       "2                  106                11667              19623   \n",
       "3                   46                 9013              17682   \n",
       "4                  216                24527              43633   \n",
       "...                ...                  ...                ...   \n",
       "3138               487                19174              30055   \n",
       "3139               369                13255              17273   \n",
       "3140                37                 8819              14203   \n",
       "3141                31                 3842               5993   \n",
       "3142                52                 3431               5413   \n",
       "\n",
       "      Male voting population  Female voting population  \n",
       "0                      21018                     22888  \n",
       "1                      83847                     90839  \n",
       "2                      10571                      9052  \n",
       "3                       9690                      7992  \n",
       "4                      21535                     22098  \n",
       "...                      ...                       ...  \n",
       "3138                   15515                     14540  \n",
       "3139                    9135                      8138  \n",
       "3140                    7206                      6997  \n",
       "3141                    3013                      2980  \n",
       "3142                    2848                      2565  \n",
       "\n",
       "[3143 rows x 33 columns]"
      ]
     },
     "execution_count": 32,
     "metadata": {},
     "output_type": "execute_result"
    }
   ],
   "source": [
    "census_demographic= pd.read_csv('../../../../data/Stage_1/census_demographic.csv')\n",
    "census_demographic"
   ]
  },
  {
   "cell_type": "markdown",
   "id": "1f6656c5",
   "metadata": {},
   "source": [
    "Selecting the data of selected states i.e., CA,NC,NJ and NY and aggregating the sum of data for the each selected states"
   ]
  },
  {
   "cell_type": "code",
   "execution_count": 33,
   "id": "7ac1433b",
   "metadata": {},
   "outputs": [
    {
     "data": {
      "text/html": [
       "<div>\n",
       "<style scoped>\n",
       "    .dataframe tbody tr th:only-of-type {\n",
       "        vertical-align: middle;\n",
       "    }\n",
       "\n",
       "    .dataframe tbody tr th {\n",
       "        vertical-align: top;\n",
       "    }\n",
       "\n",
       "    .dataframe thead th {\n",
       "        text-align: right;\n",
       "    }\n",
       "</style>\n",
       "<table border=\"1\" class=\"dataframe\">\n",
       "  <thead>\n",
       "    <tr style=\"text-align: right;\">\n",
       "      <th></th>\n",
       "      <th>State</th>\n",
       "      <th>countyFIPS</th>\n",
       "      <th>Male population</th>\n",
       "      <th>Female population</th>\n",
       "      <th>Under 5years</th>\n",
       "      <th>5 to 9years</th>\n",
       "      <th>10 to 14years</th>\n",
       "      <th>15 to 19years</th>\n",
       "      <th>20 to 24years</th>\n",
       "      <th>25 to 34years</th>\n",
       "      <th>...</th>\n",
       "      <th>Male(65years and above)</th>\n",
       "      <th>Female(65years and over)</th>\n",
       "      <th>One race population</th>\n",
       "      <th>White population</th>\n",
       "      <th>Black population</th>\n",
       "      <th>Asian population</th>\n",
       "      <th>Total Housing units</th>\n",
       "      <th>Voting population</th>\n",
       "      <th>Male voting population</th>\n",
       "      <th>Female voting population</th>\n",
       "    </tr>\n",
       "  </thead>\n",
       "  <tbody>\n",
       "    <tr>\n",
       "      <th>0</th>\n",
       "      <td>CA</td>\n",
       "      <td>351364</td>\n",
       "      <td>19714044</td>\n",
       "      <td>19741309</td>\n",
       "      <td>2350335</td>\n",
       "      <td>2434113</td>\n",
       "      <td>2658361</td>\n",
       "      <td>2588625</td>\n",
       "      <td>2626849</td>\n",
       "      <td>5941622</td>\n",
       "      <td>...</td>\n",
       "      <td>2549526</td>\n",
       "      <td>3120353</td>\n",
       "      <td>35220136</td>\n",
       "      <td>20553732</td>\n",
       "      <td>2233258</td>\n",
       "      <td>5887396</td>\n",
       "      <td>14328539</td>\n",
       "      <td>25916215</td>\n",
       "      <td>12796956</td>\n",
       "      <td>13119259</td>\n",
       "    </tr>\n",
       "    <tr>\n",
       "      <th>1</th>\n",
       "      <td>NC</td>\n",
       "      <td>3710000</td>\n",
       "      <td>5067666</td>\n",
       "      <td>5299356</td>\n",
       "      <td>594004</td>\n",
       "      <td>627382</td>\n",
       "      <td>675846</td>\n",
       "      <td>698427</td>\n",
       "      <td>686487</td>\n",
       "      <td>1376001</td>\n",
       "      <td>...</td>\n",
       "      <td>746168</td>\n",
       "      <td>940067</td>\n",
       "      <td>9866564</td>\n",
       "      <td>6865508</td>\n",
       "      <td>2193147</td>\n",
       "      <td>314690</td>\n",
       "      <td>4673933</td>\n",
       "      <td>7615601</td>\n",
       "      <td>3656483</td>\n",
       "      <td>3959118</td>\n",
       "    </tr>\n",
       "    <tr>\n",
       "      <th>2</th>\n",
       "      <td>NJ</td>\n",
       "      <td>714441</td>\n",
       "      <td>4539311</td>\n",
       "      <td>4694713</td>\n",
       "      <td>530376</td>\n",
       "      <td>557847</td>\n",
       "      <td>590073</td>\n",
       "      <td>584965</td>\n",
       "      <td>559157</td>\n",
       "      <td>1179836</td>\n",
       "      <td>...</td>\n",
       "      <td>653101</td>\n",
       "      <td>841415</td>\n",
       "      <td>8616754</td>\n",
       "      <td>5787873</td>\n",
       "      <td>1225321</td>\n",
       "      <td>900516</td>\n",
       "      <td>3738342</td>\n",
       "      <td>6384667</td>\n",
       "      <td>3086484</td>\n",
       "      <td>3298183</td>\n",
       "    </tr>\n",
       "    <tr>\n",
       "      <th>3</th>\n",
       "      <td>NY</td>\n",
       "      <td>2235844</td>\n",
       "      <td>9821711</td>\n",
       "      <td>10293034</td>\n",
       "      <td>1154376</td>\n",
       "      <td>1131385</td>\n",
       "      <td>1207089</td>\n",
       "      <td>1243126</td>\n",
       "      <td>1297689</td>\n",
       "      <td>2904643</td>\n",
       "      <td>...</td>\n",
       "      <td>1451787</td>\n",
       "      <td>1878372</td>\n",
       "      <td>18914032</td>\n",
       "      <td>12215118</td>\n",
       "      <td>3058846</td>\n",
       "      <td>1739196</td>\n",
       "      <td>8449178</td>\n",
       "      <td>14182047</td>\n",
       "      <td>6802513</td>\n",
       "      <td>7379534</td>\n",
       "    </tr>\n",
       "  </tbody>\n",
       "</table>\n",
       "<p>4 rows × 32 columns</p>\n",
       "</div>"
      ],
      "text/plain": [
       "  State  countyFIPS  Male population  Female population  Under 5years  \\\n",
       "0    CA      351364         19714044           19741309       2350335   \n",
       "1    NC     3710000          5067666            5299356        594004   \n",
       "2    NJ      714441          4539311            4694713        530376   \n",
       "3    NY     2235844          9821711           10293034       1154376   \n",
       "\n",
       "   5 to 9years  10 to 14years  15 to 19years  20 to 24years  25 to 34years  \\\n",
       "0      2434113        2658361        2588625        2626849        5941622   \n",
       "1       627382         675846         698427         686487        1376001   \n",
       "2       557847         590073         584965         559157        1179836   \n",
       "3      1131385        1207089        1243126        1297689        2904643   \n",
       "\n",
       "   ...  Male(65years and above)  Female(65years and over)  \\\n",
       "0  ...                  2549526                   3120353   \n",
       "1  ...                   746168                    940067   \n",
       "2  ...                   653101                    841415   \n",
       "3  ...                  1451787                   1878372   \n",
       "\n",
       "   One race population  White population  Black population  Asian population  \\\n",
       "0             35220136          20553732           2233258           5887396   \n",
       "1              9866564           6865508           2193147            314690   \n",
       "2              8616754           5787873           1225321            900516   \n",
       "3             18914032          12215118           3058846           1739196   \n",
       "\n",
       "   Total Housing units  Voting population  Male voting population  \\\n",
       "0             14328539           25916215                12796956   \n",
       "1              4673933            7615601                 3656483   \n",
       "2              3738342            6384667                 3086484   \n",
       "3              8449178           14182047                 6802513   \n",
       "\n",
       "   Female voting population  \n",
       "0                  13119259  \n",
       "1                   3959118  \n",
       "2                   3298183  \n",
       "3                   7379534  \n",
       "\n",
       "[4 rows x 32 columns]"
      ]
     },
     "execution_count": 33,
     "metadata": {},
     "output_type": "execute_result"
    }
   ],
   "source": [
    "census_demographic = census_demographic[census_demographic['State'].isin(['CA','NC','NJ','NY'])]\n",
    "census_demographic = census_demographic.groupby('State').sum().reset_index()\n",
    "census_demographic"
   ]
  },
  {
   "cell_type": "code",
   "execution_count": 34,
   "id": "107b3994",
   "metadata": {},
   "outputs": [
    {
     "data": {
      "text/plain": [
       "State                        object\n",
       "countyFIPS                    int64\n",
       "Male population               int64\n",
       "Female population             int64\n",
       "Under 5years                  int64\n",
       "5 to 9years                   int64\n",
       "10 to 14years                 int64\n",
       "15 to 19years                 int64\n",
       "20 to 24years                 int64\n",
       "25 to 34years                 int64\n",
       "35 to 44 years                int64\n",
       "45 to 54years                 int64\n",
       "55 to 59years                 int64\n",
       "60 to 64years                 int64\n",
       "65 to 74years                 int64\n",
       "75 to 84years                 int64\n",
       "85years and over              int64\n",
       "Under 18years                 int64\n",
       "18years and above             int64\n",
       "65years and above             int64\n",
       "Male(18years and above)       int64\n",
       "Female(18years and above)     int64\n",
       "Male(65years and above)       int64\n",
       "Female(65years and over)      int64\n",
       "One race population           int64\n",
       "White population              int64\n",
       "Black population              int64\n",
       "Asian population              int64\n",
       "Total Housing units           int64\n",
       "Voting population             int64\n",
       "Male voting population        int64\n",
       "Female voting population      int64\n",
       "dtype: object"
      ]
     },
     "execution_count": 34,
     "metadata": {},
     "output_type": "execute_result"
    }
   ],
   "source": [
    "census_demographic.dtypes"
   ]
  },
  {
   "cell_type": "code",
   "execution_count": 35,
   "id": "5dfb7578",
   "metadata": {},
   "outputs": [
    {
     "data": {
      "text/plain": [
       "[39512223, 10488084, 8882190, 19453561]"
      ]
     },
     "execution_count": 35,
     "metadata": {},
     "output_type": "execute_result"
    }
   ],
   "source": [
    "population = selected_states['population'].unique().tolist()\n",
    "population"
   ]
  },
  {
   "cell_type": "markdown",
   "id": "38327f87",
   "metadata": {},
   "source": [
    "Reading the super long covid-19 data"
   ]
  },
  {
   "cell_type": "code",
   "execution_count": 36,
   "id": "205d77c1",
   "metadata": {},
   "outputs": [
    {
     "data": {
      "text/html": [
       "<div>\n",
       "<style scoped>\n",
       "    .dataframe tbody tr th:only-of-type {\n",
       "        vertical-align: middle;\n",
       "    }\n",
       "\n",
       "    .dataframe tbody tr th {\n",
       "        vertical-align: top;\n",
       "    }\n",
       "\n",
       "    .dataframe thead th {\n",
       "        text-align: right;\n",
       "    }\n",
       "</style>\n",
       "<table border=\"1\" class=\"dataframe\">\n",
       "  <thead>\n",
       "    <tr style=\"text-align: right;\">\n",
       "      <th></th>\n",
       "      <th>countyFIPS</th>\n",
       "      <th>County Name</th>\n",
       "      <th>State</th>\n",
       "      <th>StateFIPS</th>\n",
       "      <th>Dates</th>\n",
       "      <th>cases</th>\n",
       "      <th>deaths</th>\n",
       "      <th>population</th>\n",
       "    </tr>\n",
       "  </thead>\n",
       "  <tbody>\n",
       "    <tr>\n",
       "      <th>0</th>\n",
       "      <td>1001</td>\n",
       "      <td>Autauga County</td>\n",
       "      <td>AL</td>\n",
       "      <td>1</td>\n",
       "      <td>2020-01-22</td>\n",
       "      <td>0</td>\n",
       "      <td>0</td>\n",
       "      <td>55869</td>\n",
       "    </tr>\n",
       "    <tr>\n",
       "      <th>1</th>\n",
       "      <td>1001</td>\n",
       "      <td>Autauga County</td>\n",
       "      <td>AL</td>\n",
       "      <td>1</td>\n",
       "      <td>2020-01-23</td>\n",
       "      <td>0</td>\n",
       "      <td>0</td>\n",
       "      <td>55869</td>\n",
       "    </tr>\n",
       "    <tr>\n",
       "      <th>2</th>\n",
       "      <td>1001</td>\n",
       "      <td>Autauga County</td>\n",
       "      <td>AL</td>\n",
       "      <td>1</td>\n",
       "      <td>2020-01-24</td>\n",
       "      <td>0</td>\n",
       "      <td>0</td>\n",
       "      <td>55869</td>\n",
       "    </tr>\n",
       "    <tr>\n",
       "      <th>3</th>\n",
       "      <td>1001</td>\n",
       "      <td>Autauga County</td>\n",
       "      <td>AL</td>\n",
       "      <td>1</td>\n",
       "      <td>2020-01-25</td>\n",
       "      <td>0</td>\n",
       "      <td>0</td>\n",
       "      <td>55869</td>\n",
       "    </tr>\n",
       "    <tr>\n",
       "      <th>4</th>\n",
       "      <td>1001</td>\n",
       "      <td>Autauga County</td>\n",
       "      <td>AL</td>\n",
       "      <td>1</td>\n",
       "      <td>2020-01-26</td>\n",
       "      <td>0</td>\n",
       "      <td>0</td>\n",
       "      <td>55869</td>\n",
       "    </tr>\n",
       "    <tr>\n",
       "      <th>...</th>\n",
       "      <td>...</td>\n",
       "      <td>...</td>\n",
       "      <td>...</td>\n",
       "      <td>...</td>\n",
       "      <td>...</td>\n",
       "      <td>...</td>\n",
       "      <td>...</td>\n",
       "      <td>...</td>\n",
       "    </tr>\n",
       "    <tr>\n",
       "      <th>3427917</th>\n",
       "      <td>56045</td>\n",
       "      <td>Weston County</td>\n",
       "      <td>WY</td>\n",
       "      <td>56</td>\n",
       "      <td>2023-01-12</td>\n",
       "      <td>1881</td>\n",
       "      <td>22</td>\n",
       "      <td>6927</td>\n",
       "    </tr>\n",
       "    <tr>\n",
       "      <th>3427918</th>\n",
       "      <td>56045</td>\n",
       "      <td>Weston County</td>\n",
       "      <td>WY</td>\n",
       "      <td>56</td>\n",
       "      <td>2023-01-13</td>\n",
       "      <td>1881</td>\n",
       "      <td>22</td>\n",
       "      <td>6927</td>\n",
       "    </tr>\n",
       "    <tr>\n",
       "      <th>3427919</th>\n",
       "      <td>56045</td>\n",
       "      <td>Weston County</td>\n",
       "      <td>WY</td>\n",
       "      <td>56</td>\n",
       "      <td>2023-01-14</td>\n",
       "      <td>1881</td>\n",
       "      <td>22</td>\n",
       "      <td>6927</td>\n",
       "    </tr>\n",
       "    <tr>\n",
       "      <th>3427920</th>\n",
       "      <td>56045</td>\n",
       "      <td>Weston County</td>\n",
       "      <td>WY</td>\n",
       "      <td>56</td>\n",
       "      <td>2023-01-15</td>\n",
       "      <td>1881</td>\n",
       "      <td>22</td>\n",
       "      <td>6927</td>\n",
       "    </tr>\n",
       "    <tr>\n",
       "      <th>3427921</th>\n",
       "      <td>56045</td>\n",
       "      <td>Weston County</td>\n",
       "      <td>WY</td>\n",
       "      <td>56</td>\n",
       "      <td>2023-01-16</td>\n",
       "      <td>1881</td>\n",
       "      <td>22</td>\n",
       "      <td>6927</td>\n",
       "    </tr>\n",
       "  </tbody>\n",
       "</table>\n",
       "<p>3427922 rows × 8 columns</p>\n",
       "</div>"
      ],
      "text/plain": [
       "         countyFIPS     County Name State  StateFIPS       Dates  cases  \\\n",
       "0              1001  Autauga County    AL          1  2020-01-22      0   \n",
       "1              1001  Autauga County    AL          1  2020-01-23      0   \n",
       "2              1001  Autauga County    AL          1  2020-01-24      0   \n",
       "3              1001  Autauga County    AL          1  2020-01-25      0   \n",
       "4              1001  Autauga County    AL          1  2020-01-26      0   \n",
       "...             ...             ...   ...        ...         ...    ...   \n",
       "3427917       56045   Weston County    WY         56  2023-01-12   1881   \n",
       "3427918       56045   Weston County    WY         56  2023-01-13   1881   \n",
       "3427919       56045   Weston County    WY         56  2023-01-14   1881   \n",
       "3427920       56045   Weston County    WY         56  2023-01-15   1881   \n",
       "3427921       56045   Weston County    WY         56  2023-01-16   1881   \n",
       "\n",
       "         deaths  population  \n",
       "0             0       55869  \n",
       "1             0       55869  \n",
       "2             0       55869  \n",
       "3             0       55869  \n",
       "4             0       55869  \n",
       "...         ...         ...  \n",
       "3427917      22        6927  \n",
       "3427918      22        6927  \n",
       "3427919      22        6927  \n",
       "3427920      22        6927  \n",
       "3427921      22        6927  \n",
       "\n",
       "[3427922 rows x 8 columns]"
      ]
     },
     "execution_count": 36,
     "metadata": {},
     "output_type": "execute_result"
    }
   ],
   "source": [
    "super_19_df= pd.read_csv('../../../../data/Stage_2/super_19_stage3.csv')\n",
    "super_19_df"
   ]
  },
  {
   "cell_type": "code",
   "execution_count": 37,
   "id": "c4d8ee9d",
   "metadata": {},
   "outputs": [
    {
     "data": {
      "text/html": [
       "<div>\n",
       "<style scoped>\n",
       "    .dataframe tbody tr th:only-of-type {\n",
       "        vertical-align: middle;\n",
       "    }\n",
       "\n",
       "    .dataframe tbody tr th {\n",
       "        vertical-align: top;\n",
       "    }\n",
       "\n",
       "    .dataframe thead th {\n",
       "        text-align: right;\n",
       "    }\n",
       "</style>\n",
       "<table border=\"1\" class=\"dataframe\">\n",
       "  <thead>\n",
       "    <tr style=\"text-align: right;\">\n",
       "      <th></th>\n",
       "      <th>State</th>\n",
       "      <th>Dates</th>\n",
       "      <th>countyFIPS</th>\n",
       "      <th>StateFIPS</th>\n",
       "      <th>cases</th>\n",
       "      <th>deaths</th>\n",
       "      <th>population</th>\n",
       "    </tr>\n",
       "  </thead>\n",
       "  <tbody>\n",
       "    <tr>\n",
       "      <th>0</th>\n",
       "      <td>AK</td>\n",
       "      <td>2020-01-22</td>\n",
       "      <td>62340</td>\n",
       "      <td>58</td>\n",
       "      <td>0</td>\n",
       "      <td>0</td>\n",
       "      <td>731545</td>\n",
       "    </tr>\n",
       "    <tr>\n",
       "      <th>1</th>\n",
       "      <td>AK</td>\n",
       "      <td>2020-01-23</td>\n",
       "      <td>62340</td>\n",
       "      <td>58</td>\n",
       "      <td>0</td>\n",
       "      <td>0</td>\n",
       "      <td>731545</td>\n",
       "    </tr>\n",
       "    <tr>\n",
       "      <th>2</th>\n",
       "      <td>AK</td>\n",
       "      <td>2020-01-24</td>\n",
       "      <td>62340</td>\n",
       "      <td>58</td>\n",
       "      <td>0</td>\n",
       "      <td>0</td>\n",
       "      <td>731545</td>\n",
       "    </tr>\n",
       "    <tr>\n",
       "      <th>3</th>\n",
       "      <td>AK</td>\n",
       "      <td>2020-01-25</td>\n",
       "      <td>62340</td>\n",
       "      <td>58</td>\n",
       "      <td>0</td>\n",
       "      <td>0</td>\n",
       "      <td>731545</td>\n",
       "    </tr>\n",
       "    <tr>\n",
       "      <th>4</th>\n",
       "      <td>AK</td>\n",
       "      <td>2020-01-26</td>\n",
       "      <td>62340</td>\n",
       "      <td>58</td>\n",
       "      <td>0</td>\n",
       "      <td>0</td>\n",
       "      <td>731545</td>\n",
       "    </tr>\n",
       "    <tr>\n",
       "      <th>...</th>\n",
       "      <td>...</td>\n",
       "      <td>...</td>\n",
       "      <td>...</td>\n",
       "      <td>...</td>\n",
       "      <td>...</td>\n",
       "      <td>...</td>\n",
       "      <td>...</td>\n",
       "    </tr>\n",
       "    <tr>\n",
       "      <th>55636</th>\n",
       "      <td>WY</td>\n",
       "      <td>2023-01-12</td>\n",
       "      <td>1288529</td>\n",
       "      <td>1288</td>\n",
       "      <td>183385</td>\n",
       "      <td>1967</td>\n",
       "      <td>578759</td>\n",
       "    </tr>\n",
       "    <tr>\n",
       "      <th>55637</th>\n",
       "      <td>WY</td>\n",
       "      <td>2023-01-13</td>\n",
       "      <td>1288529</td>\n",
       "      <td>1288</td>\n",
       "      <td>183385</td>\n",
       "      <td>1967</td>\n",
       "      <td>578759</td>\n",
       "    </tr>\n",
       "    <tr>\n",
       "      <th>55638</th>\n",
       "      <td>WY</td>\n",
       "      <td>2023-01-14</td>\n",
       "      <td>1288529</td>\n",
       "      <td>1288</td>\n",
       "      <td>183385</td>\n",
       "      <td>1967</td>\n",
       "      <td>578759</td>\n",
       "    </tr>\n",
       "    <tr>\n",
       "      <th>55639</th>\n",
       "      <td>WY</td>\n",
       "      <td>2023-01-15</td>\n",
       "      <td>1288529</td>\n",
       "      <td>1288</td>\n",
       "      <td>183385</td>\n",
       "      <td>1967</td>\n",
       "      <td>578759</td>\n",
       "    </tr>\n",
       "    <tr>\n",
       "      <th>55640</th>\n",
       "      <td>WY</td>\n",
       "      <td>2023-01-16</td>\n",
       "      <td>1288529</td>\n",
       "      <td>1288</td>\n",
       "      <td>183385</td>\n",
       "      <td>1967</td>\n",
       "      <td>578759</td>\n",
       "    </tr>\n",
       "  </tbody>\n",
       "</table>\n",
       "<p>55641 rows × 7 columns</p>\n",
       "</div>"
      ],
      "text/plain": [
       "      State       Dates  countyFIPS  StateFIPS   cases  deaths  population\n",
       "0        AK  2020-01-22       62340         58       0       0      731545\n",
       "1        AK  2020-01-23       62340         58       0       0      731545\n",
       "2        AK  2020-01-24       62340         58       0       0      731545\n",
       "3        AK  2020-01-25       62340         58       0       0      731545\n",
       "4        AK  2020-01-26       62340         58       0       0      731545\n",
       "...     ...         ...         ...        ...     ...     ...         ...\n",
       "55636    WY  2023-01-12     1288529       1288  183385    1967      578759\n",
       "55637    WY  2023-01-13     1288529       1288  183385    1967      578759\n",
       "55638    WY  2023-01-14     1288529       1288  183385    1967      578759\n",
       "55639    WY  2023-01-15     1288529       1288  183385    1967      578759\n",
       "55640    WY  2023-01-16     1288529       1288  183385    1967      578759\n",
       "\n",
       "[55641 rows x 7 columns]"
      ]
     },
     "execution_count": 37,
     "metadata": {},
     "output_type": "execute_result"
    }
   ],
   "source": [
    "super_19_df = super_19_df.groupby(['State','Dates']).sum().reset_index()\n",
    "super_19_df"
   ]
  },
  {
   "cell_type": "code",
   "execution_count": 38,
   "id": "44923710",
   "metadata": {},
   "outputs": [
    {
     "data": {
      "text/html": [
       "<div>\n",
       "<style scoped>\n",
       "    .dataframe tbody tr th:only-of-type {\n",
       "        vertical-align: middle;\n",
       "    }\n",
       "\n",
       "    .dataframe tbody tr th {\n",
       "        vertical-align: top;\n",
       "    }\n",
       "\n",
       "    .dataframe thead th {\n",
       "        text-align: right;\n",
       "    }\n",
       "</style>\n",
       "<table border=\"1\" class=\"dataframe\">\n",
       "  <thead>\n",
       "    <tr style=\"text-align: right;\">\n",
       "      <th></th>\n",
       "      <th>State</th>\n",
       "      <th>Dates</th>\n",
       "      <th>countyFIPS</th>\n",
       "      <th>StateFIPS</th>\n",
       "      <th>cases</th>\n",
       "      <th>deaths</th>\n",
       "      <th>population</th>\n",
       "      <th>new_cases</th>\n",
       "      <th>new_deaths</th>\n",
       "    </tr>\n",
       "  </thead>\n",
       "  <tbody>\n",
       "    <tr>\n",
       "      <th>0</th>\n",
       "      <td>AK</td>\n",
       "      <td>2020-01-22</td>\n",
       "      <td>62340</td>\n",
       "      <td>58</td>\n",
       "      <td>0</td>\n",
       "      <td>0</td>\n",
       "      <td>731545</td>\n",
       "      <td>NaN</td>\n",
       "      <td>NaN</td>\n",
       "    </tr>\n",
       "    <tr>\n",
       "      <th>1</th>\n",
       "      <td>AK</td>\n",
       "      <td>2020-01-23</td>\n",
       "      <td>62340</td>\n",
       "      <td>58</td>\n",
       "      <td>0</td>\n",
       "      <td>0</td>\n",
       "      <td>731545</td>\n",
       "      <td>0.0</td>\n",
       "      <td>0.0</td>\n",
       "    </tr>\n",
       "    <tr>\n",
       "      <th>2</th>\n",
       "      <td>AK</td>\n",
       "      <td>2020-01-24</td>\n",
       "      <td>62340</td>\n",
       "      <td>58</td>\n",
       "      <td>0</td>\n",
       "      <td>0</td>\n",
       "      <td>731545</td>\n",
       "      <td>0.0</td>\n",
       "      <td>0.0</td>\n",
       "    </tr>\n",
       "    <tr>\n",
       "      <th>3</th>\n",
       "      <td>AK</td>\n",
       "      <td>2020-01-25</td>\n",
       "      <td>62340</td>\n",
       "      <td>58</td>\n",
       "      <td>0</td>\n",
       "      <td>0</td>\n",
       "      <td>731545</td>\n",
       "      <td>0.0</td>\n",
       "      <td>0.0</td>\n",
       "    </tr>\n",
       "    <tr>\n",
       "      <th>4</th>\n",
       "      <td>AK</td>\n",
       "      <td>2020-01-26</td>\n",
       "      <td>62340</td>\n",
       "      <td>58</td>\n",
       "      <td>0</td>\n",
       "      <td>0</td>\n",
       "      <td>731545</td>\n",
       "      <td>0.0</td>\n",
       "      <td>0.0</td>\n",
       "    </tr>\n",
       "    <tr>\n",
       "      <th>...</th>\n",
       "      <td>...</td>\n",
       "      <td>...</td>\n",
       "      <td>...</td>\n",
       "      <td>...</td>\n",
       "      <td>...</td>\n",
       "      <td>...</td>\n",
       "      <td>...</td>\n",
       "      <td>...</td>\n",
       "      <td>...</td>\n",
       "    </tr>\n",
       "    <tr>\n",
       "      <th>55636</th>\n",
       "      <td>WY</td>\n",
       "      <td>2023-01-12</td>\n",
       "      <td>1288529</td>\n",
       "      <td>1288</td>\n",
       "      <td>183385</td>\n",
       "      <td>1967</td>\n",
       "      <td>578759</td>\n",
       "      <td>234.0</td>\n",
       "      <td>9.0</td>\n",
       "    </tr>\n",
       "    <tr>\n",
       "      <th>55637</th>\n",
       "      <td>WY</td>\n",
       "      <td>2023-01-13</td>\n",
       "      <td>1288529</td>\n",
       "      <td>1288</td>\n",
       "      <td>183385</td>\n",
       "      <td>1967</td>\n",
       "      <td>578759</td>\n",
       "      <td>0.0</td>\n",
       "      <td>0.0</td>\n",
       "    </tr>\n",
       "    <tr>\n",
       "      <th>55638</th>\n",
       "      <td>WY</td>\n",
       "      <td>2023-01-14</td>\n",
       "      <td>1288529</td>\n",
       "      <td>1288</td>\n",
       "      <td>183385</td>\n",
       "      <td>1967</td>\n",
       "      <td>578759</td>\n",
       "      <td>0.0</td>\n",
       "      <td>0.0</td>\n",
       "    </tr>\n",
       "    <tr>\n",
       "      <th>55639</th>\n",
       "      <td>WY</td>\n",
       "      <td>2023-01-15</td>\n",
       "      <td>1288529</td>\n",
       "      <td>1288</td>\n",
       "      <td>183385</td>\n",
       "      <td>1967</td>\n",
       "      <td>578759</td>\n",
       "      <td>0.0</td>\n",
       "      <td>0.0</td>\n",
       "    </tr>\n",
       "    <tr>\n",
       "      <th>55640</th>\n",
       "      <td>WY</td>\n",
       "      <td>2023-01-16</td>\n",
       "      <td>1288529</td>\n",
       "      <td>1288</td>\n",
       "      <td>183385</td>\n",
       "      <td>1967</td>\n",
       "      <td>578759</td>\n",
       "      <td>0.0</td>\n",
       "      <td>0.0</td>\n",
       "    </tr>\n",
       "  </tbody>\n",
       "</table>\n",
       "<p>55641 rows × 9 columns</p>\n",
       "</div>"
      ],
      "text/plain": [
       "      State       Dates  countyFIPS  StateFIPS   cases  deaths  population  \\\n",
       "0        AK  2020-01-22       62340         58       0       0      731545   \n",
       "1        AK  2020-01-23       62340         58       0       0      731545   \n",
       "2        AK  2020-01-24       62340         58       0       0      731545   \n",
       "3        AK  2020-01-25       62340         58       0       0      731545   \n",
       "4        AK  2020-01-26       62340         58       0       0      731545   \n",
       "...     ...         ...         ...        ...     ...     ...         ...   \n",
       "55636    WY  2023-01-12     1288529       1288  183385    1967      578759   \n",
       "55637    WY  2023-01-13     1288529       1288  183385    1967      578759   \n",
       "55638    WY  2023-01-14     1288529       1288  183385    1967      578759   \n",
       "55639    WY  2023-01-15     1288529       1288  183385    1967      578759   \n",
       "55640    WY  2023-01-16     1288529       1288  183385    1967      578759   \n",
       "\n",
       "       new_cases  new_deaths  \n",
       "0            NaN         NaN  \n",
       "1            0.0         0.0  \n",
       "2            0.0         0.0  \n",
       "3            0.0         0.0  \n",
       "4            0.0         0.0  \n",
       "...          ...         ...  \n",
       "55636      234.0         9.0  \n",
       "55637        0.0         0.0  \n",
       "55638        0.0         0.0  \n",
       "55639        0.0         0.0  \n",
       "55640        0.0         0.0  \n",
       "\n",
       "[55641 rows x 9 columns]"
      ]
     },
     "execution_count": 38,
     "metadata": {},
     "output_type": "execute_result"
    }
   ],
   "source": [
    "super_19_df['new_cases'] = super_19_df['cases'].diff()\n",
    "super_19_df['new_deaths'] = super_19_df['deaths'].diff()\n",
    "super_19_df"
   ]
  },
  {
   "cell_type": "code",
   "execution_count": 39,
   "id": "ffd8ef31",
   "metadata": {},
   "outputs": [],
   "source": [
    "super_19_df.to_csv('../../../../data/Stage_3/cases_deaths.csv', index = False)"
   ]
  },
  {
   "cell_type": "code",
   "execution_count": 40,
   "id": "c0fad9a5",
   "metadata": {},
   "outputs": [
    {
     "data": {
      "text/html": [
       "<div>\n",
       "<style scoped>\n",
       "    .dataframe tbody tr th:only-of-type {\n",
       "        vertical-align: middle;\n",
       "    }\n",
       "\n",
       "    .dataframe tbody tr th {\n",
       "        vertical-align: top;\n",
       "    }\n",
       "\n",
       "    .dataframe thead th {\n",
       "        text-align: right;\n",
       "    }\n",
       "</style>\n",
       "<table border=\"1\" class=\"dataframe\">\n",
       "  <thead>\n",
       "    <tr style=\"text-align: right;\">\n",
       "      <th></th>\n",
       "      <th>State</th>\n",
       "      <th>Dates</th>\n",
       "      <th>countyFIPS</th>\n",
       "      <th>StateFIPS</th>\n",
       "      <th>cases</th>\n",
       "      <th>deaths</th>\n",
       "      <th>population</th>\n",
       "      <th>new_cases</th>\n",
       "      <th>new_deaths</th>\n",
       "    </tr>\n",
       "  </thead>\n",
       "  <tbody>\n",
       "    <tr>\n",
       "      <th>4364</th>\n",
       "      <td>CA</td>\n",
       "      <td>2020-01-22</td>\n",
       "      <td>351364</td>\n",
       "      <td>348</td>\n",
       "      <td>722</td>\n",
       "      <td>0</td>\n",
       "      <td>39512223</td>\n",
       "      <td>-2391173.0</td>\n",
       "      <td>-29852.0</td>\n",
       "    </tr>\n",
       "    <tr>\n",
       "      <th>4365</th>\n",
       "      <td>CA</td>\n",
       "      <td>2020-01-23</td>\n",
       "      <td>351364</td>\n",
       "      <td>348</td>\n",
       "      <td>733</td>\n",
       "      <td>0</td>\n",
       "      <td>39512223</td>\n",
       "      <td>11.0</td>\n",
       "      <td>0.0</td>\n",
       "    </tr>\n",
       "    <tr>\n",
       "      <th>4366</th>\n",
       "      <td>CA</td>\n",
       "      <td>2020-01-24</td>\n",
       "      <td>351364</td>\n",
       "      <td>348</td>\n",
       "      <td>739</td>\n",
       "      <td>0</td>\n",
       "      <td>39512223</td>\n",
       "      <td>6.0</td>\n",
       "      <td>0.0</td>\n",
       "    </tr>\n",
       "    <tr>\n",
       "      <th>4367</th>\n",
       "      <td>CA</td>\n",
       "      <td>2020-01-25</td>\n",
       "      <td>351364</td>\n",
       "      <td>348</td>\n",
       "      <td>749</td>\n",
       "      <td>0</td>\n",
       "      <td>39512223</td>\n",
       "      <td>10.0</td>\n",
       "      <td>0.0</td>\n",
       "    </tr>\n",
       "    <tr>\n",
       "      <th>4368</th>\n",
       "      <td>CA</td>\n",
       "      <td>2020-01-26</td>\n",
       "      <td>351364</td>\n",
       "      <td>348</td>\n",
       "      <td>756</td>\n",
       "      <td>0</td>\n",
       "      <td>39512223</td>\n",
       "      <td>7.0</td>\n",
       "      <td>0.0</td>\n",
       "    </tr>\n",
       "    <tr>\n",
       "      <th>...</th>\n",
       "      <td>...</td>\n",
       "      <td>...</td>\n",
       "      <td>...</td>\n",
       "      <td>...</td>\n",
       "      <td>...</td>\n",
       "      <td>...</td>\n",
       "      <td>...</td>\n",
       "      <td>...</td>\n",
       "      <td>...</td>\n",
       "    </tr>\n",
       "    <tr>\n",
       "      <th>38180</th>\n",
       "      <td>NY</td>\n",
       "      <td>2023-01-12</td>\n",
       "      <td>2235844</td>\n",
       "      <td>2232</td>\n",
       "      <td>6499315</td>\n",
       "      <td>74822</td>\n",
       "      <td>19453561</td>\n",
       "      <td>0.0</td>\n",
       "      <td>281.0</td>\n",
       "    </tr>\n",
       "    <tr>\n",
       "      <th>38181</th>\n",
       "      <td>NY</td>\n",
       "      <td>2023-01-13</td>\n",
       "      <td>2235844</td>\n",
       "      <td>2232</td>\n",
       "      <td>6499315</td>\n",
       "      <td>74822</td>\n",
       "      <td>19453561</td>\n",
       "      <td>0.0</td>\n",
       "      <td>0.0</td>\n",
       "    </tr>\n",
       "    <tr>\n",
       "      <th>38182</th>\n",
       "      <td>NY</td>\n",
       "      <td>2023-01-14</td>\n",
       "      <td>2235844</td>\n",
       "      <td>2232</td>\n",
       "      <td>6499315</td>\n",
       "      <td>74822</td>\n",
       "      <td>19453561</td>\n",
       "      <td>0.0</td>\n",
       "      <td>0.0</td>\n",
       "    </tr>\n",
       "    <tr>\n",
       "      <th>38183</th>\n",
       "      <td>NY</td>\n",
       "      <td>2023-01-15</td>\n",
       "      <td>2235844</td>\n",
       "      <td>2232</td>\n",
       "      <td>6499315</td>\n",
       "      <td>74822</td>\n",
       "      <td>19453561</td>\n",
       "      <td>0.0</td>\n",
       "      <td>0.0</td>\n",
       "    </tr>\n",
       "    <tr>\n",
       "      <th>38184</th>\n",
       "      <td>NY</td>\n",
       "      <td>2023-01-16</td>\n",
       "      <td>2235844</td>\n",
       "      <td>2232</td>\n",
       "      <td>6499315</td>\n",
       "      <td>74822</td>\n",
       "      <td>19453561</td>\n",
       "      <td>0.0</td>\n",
       "      <td>0.0</td>\n",
       "    </tr>\n",
       "  </tbody>\n",
       "</table>\n",
       "<p>4364 rows × 9 columns</p>\n",
       "</div>"
      ],
      "text/plain": [
       "      State       Dates  countyFIPS  StateFIPS    cases  deaths  population  \\\n",
       "4364     CA  2020-01-22      351364        348      722       0    39512223   \n",
       "4365     CA  2020-01-23      351364        348      733       0    39512223   \n",
       "4366     CA  2020-01-24      351364        348      739       0    39512223   \n",
       "4367     CA  2020-01-25      351364        348      749       0    39512223   \n",
       "4368     CA  2020-01-26      351364        348      756       0    39512223   \n",
       "...     ...         ...         ...        ...      ...     ...         ...   \n",
       "38180    NY  2023-01-12     2235844       2232  6499315   74822    19453561   \n",
       "38181    NY  2023-01-13     2235844       2232  6499315   74822    19453561   \n",
       "38182    NY  2023-01-14     2235844       2232  6499315   74822    19453561   \n",
       "38183    NY  2023-01-15     2235844       2232  6499315   74822    19453561   \n",
       "38184    NY  2023-01-16     2235844       2232  6499315   74822    19453561   \n",
       "\n",
       "       new_cases  new_deaths  \n",
       "4364  -2391173.0    -29852.0  \n",
       "4365        11.0         0.0  \n",
       "4366         6.0         0.0  \n",
       "4367        10.0         0.0  \n",
       "4368         7.0         0.0  \n",
       "...          ...         ...  \n",
       "38180        0.0       281.0  \n",
       "38181        0.0         0.0  \n",
       "38182        0.0         0.0  \n",
       "38183        0.0         0.0  \n",
       "38184        0.0         0.0  \n",
       "\n",
       "[4364 rows x 9 columns]"
      ]
     },
     "execution_count": 40,
     "metadata": {},
     "output_type": "execute_result"
    }
   ],
   "source": [
    "super_19_df = super_19_df[super_19_df['State'].isin(['CA','NC','NJ','NY'])]\n",
    "super_19_df"
   ]
  },
  {
   "cell_type": "code",
   "execution_count": 41,
   "id": "938558c5",
   "metadata": {},
   "outputs": [
    {
     "data": {
      "text/html": [
       "<div>\n",
       "<style scoped>\n",
       "    .dataframe tbody tr th:only-of-type {\n",
       "        vertical-align: middle;\n",
       "    }\n",
       "\n",
       "    .dataframe tbody tr th {\n",
       "        vertical-align: top;\n",
       "    }\n",
       "\n",
       "    .dataframe thead th {\n",
       "        text-align: right;\n",
       "    }\n",
       "</style>\n",
       "<table border=\"1\" class=\"dataframe\">\n",
       "  <thead>\n",
       "    <tr style=\"text-align: right;\">\n",
       "      <th></th>\n",
       "      <th>State</th>\n",
       "      <th>Dates</th>\n",
       "      <th>countyFIPS</th>\n",
       "      <th>StateFIPS</th>\n",
       "      <th>cases</th>\n",
       "      <th>deaths</th>\n",
       "      <th>population</th>\n",
       "      <th>new_cases</th>\n",
       "      <th>new_deaths</th>\n",
       "    </tr>\n",
       "  </thead>\n",
       "  <tbody>\n",
       "    <tr>\n",
       "      <th>4365</th>\n",
       "      <td>CA</td>\n",
       "      <td>2020-01-23</td>\n",
       "      <td>351364</td>\n",
       "      <td>348</td>\n",
       "      <td>733</td>\n",
       "      <td>0</td>\n",
       "      <td>39512223</td>\n",
       "      <td>11.0</td>\n",
       "      <td>0.0</td>\n",
       "    </tr>\n",
       "    <tr>\n",
       "      <th>4366</th>\n",
       "      <td>CA</td>\n",
       "      <td>2020-01-24</td>\n",
       "      <td>351364</td>\n",
       "      <td>348</td>\n",
       "      <td>739</td>\n",
       "      <td>0</td>\n",
       "      <td>39512223</td>\n",
       "      <td>6.0</td>\n",
       "      <td>0.0</td>\n",
       "    </tr>\n",
       "    <tr>\n",
       "      <th>4367</th>\n",
       "      <td>CA</td>\n",
       "      <td>2020-01-25</td>\n",
       "      <td>351364</td>\n",
       "      <td>348</td>\n",
       "      <td>749</td>\n",
       "      <td>0</td>\n",
       "      <td>39512223</td>\n",
       "      <td>10.0</td>\n",
       "      <td>0.0</td>\n",
       "    </tr>\n",
       "    <tr>\n",
       "      <th>4368</th>\n",
       "      <td>CA</td>\n",
       "      <td>2020-01-26</td>\n",
       "      <td>351364</td>\n",
       "      <td>348</td>\n",
       "      <td>756</td>\n",
       "      <td>0</td>\n",
       "      <td>39512223</td>\n",
       "      <td>7.0</td>\n",
       "      <td>0.0</td>\n",
       "    </tr>\n",
       "    <tr>\n",
       "      <th>4369</th>\n",
       "      <td>CA</td>\n",
       "      <td>2020-01-27</td>\n",
       "      <td>351364</td>\n",
       "      <td>348</td>\n",
       "      <td>766</td>\n",
       "      <td>0</td>\n",
       "      <td>39512223</td>\n",
       "      <td>10.0</td>\n",
       "      <td>0.0</td>\n",
       "    </tr>\n",
       "    <tr>\n",
       "      <th>...</th>\n",
       "      <td>...</td>\n",
       "      <td>...</td>\n",
       "      <td>...</td>\n",
       "      <td>...</td>\n",
       "      <td>...</td>\n",
       "      <td>...</td>\n",
       "      <td>...</td>\n",
       "      <td>...</td>\n",
       "      <td>...</td>\n",
       "    </tr>\n",
       "    <tr>\n",
       "      <th>38180</th>\n",
       "      <td>NY</td>\n",
       "      <td>2023-01-12</td>\n",
       "      <td>2235844</td>\n",
       "      <td>2232</td>\n",
       "      <td>6499315</td>\n",
       "      <td>74822</td>\n",
       "      <td>19453561</td>\n",
       "      <td>0.0</td>\n",
       "      <td>281.0</td>\n",
       "    </tr>\n",
       "    <tr>\n",
       "      <th>38181</th>\n",
       "      <td>NY</td>\n",
       "      <td>2023-01-13</td>\n",
       "      <td>2235844</td>\n",
       "      <td>2232</td>\n",
       "      <td>6499315</td>\n",
       "      <td>74822</td>\n",
       "      <td>19453561</td>\n",
       "      <td>0.0</td>\n",
       "      <td>0.0</td>\n",
       "    </tr>\n",
       "    <tr>\n",
       "      <th>38182</th>\n",
       "      <td>NY</td>\n",
       "      <td>2023-01-14</td>\n",
       "      <td>2235844</td>\n",
       "      <td>2232</td>\n",
       "      <td>6499315</td>\n",
       "      <td>74822</td>\n",
       "      <td>19453561</td>\n",
       "      <td>0.0</td>\n",
       "      <td>0.0</td>\n",
       "    </tr>\n",
       "    <tr>\n",
       "      <th>38183</th>\n",
       "      <td>NY</td>\n",
       "      <td>2023-01-15</td>\n",
       "      <td>2235844</td>\n",
       "      <td>2232</td>\n",
       "      <td>6499315</td>\n",
       "      <td>74822</td>\n",
       "      <td>19453561</td>\n",
       "      <td>0.0</td>\n",
       "      <td>0.0</td>\n",
       "    </tr>\n",
       "    <tr>\n",
       "      <th>38184</th>\n",
       "      <td>NY</td>\n",
       "      <td>2023-01-16</td>\n",
       "      <td>2235844</td>\n",
       "      <td>2232</td>\n",
       "      <td>6499315</td>\n",
       "      <td>74822</td>\n",
       "      <td>19453561</td>\n",
       "      <td>0.0</td>\n",
       "      <td>0.0</td>\n",
       "    </tr>\n",
       "  </tbody>\n",
       "</table>\n",
       "<p>4360 rows × 9 columns</p>\n",
       "</div>"
      ],
      "text/plain": [
       "      State       Dates  countyFIPS  StateFIPS    cases  deaths  population  \\\n",
       "4365     CA  2020-01-23      351364        348      733       0    39512223   \n",
       "4366     CA  2020-01-24      351364        348      739       0    39512223   \n",
       "4367     CA  2020-01-25      351364        348      749       0    39512223   \n",
       "4368     CA  2020-01-26      351364        348      756       0    39512223   \n",
       "4369     CA  2020-01-27      351364        348      766       0    39512223   \n",
       "...     ...         ...         ...        ...      ...     ...         ...   \n",
       "38180    NY  2023-01-12     2235844       2232  6499315   74822    19453561   \n",
       "38181    NY  2023-01-13     2235844       2232  6499315   74822    19453561   \n",
       "38182    NY  2023-01-14     2235844       2232  6499315   74822    19453561   \n",
       "38183    NY  2023-01-15     2235844       2232  6499315   74822    19453561   \n",
       "38184    NY  2023-01-16     2235844       2232  6499315   74822    19453561   \n",
       "\n",
       "       new_cases  new_deaths  \n",
       "4365        11.0         0.0  \n",
       "4366         6.0         0.0  \n",
       "4367        10.0         0.0  \n",
       "4368         7.0         0.0  \n",
       "4369        10.0         0.0  \n",
       "...          ...         ...  \n",
       "38180        0.0       281.0  \n",
       "38181        0.0         0.0  \n",
       "38182        0.0         0.0  \n",
       "38183        0.0         0.0  \n",
       "38184        0.0         0.0  \n",
       "\n",
       "[4360 rows x 9 columns]"
      ]
     },
     "execution_count": 41,
     "metadata": {},
     "output_type": "execute_result"
    }
   ],
   "source": [
    "super_19_df= super_19_df[super_19_df['Dates']!= '2020-01-22']\n",
    "super_19_df"
   ]
  },
  {
   "cell_type": "markdown",
   "id": "0dc8019d",
   "metadata": {},
   "source": [
    "Grouping the dataframe by state to generate sum of newcases across each state "
   ]
  },
  {
   "cell_type": "code",
   "execution_count": 42,
   "id": "0c6ad4c2",
   "metadata": {},
   "outputs": [
    {
     "data": {
      "text/html": [
       "<div>\n",
       "<style scoped>\n",
       "    .dataframe tbody tr th:only-of-type {\n",
       "        vertical-align: middle;\n",
       "    }\n",
       "\n",
       "    .dataframe tbody tr th {\n",
       "        vertical-align: top;\n",
       "    }\n",
       "\n",
       "    .dataframe thead th {\n",
       "        text-align: right;\n",
       "    }\n",
       "</style>\n",
       "<table border=\"1\" class=\"dataframe\">\n",
       "  <thead>\n",
       "    <tr style=\"text-align: right;\">\n",
       "      <th></th>\n",
       "      <th>State</th>\n",
       "      <th>countyFIPS</th>\n",
       "      <th>StateFIPS</th>\n",
       "      <th>cases</th>\n",
       "      <th>deaths</th>\n",
       "      <th>population</th>\n",
       "      <th>new_cases</th>\n",
       "      <th>new_deaths</th>\n",
       "    </tr>\n",
       "  </thead>\n",
       "  <tbody>\n",
       "    <tr>\n",
       "      <th>0</th>\n",
       "      <td>CA</td>\n",
       "      <td>382986760</td>\n",
       "      <td>379320</td>\n",
       "      <td>5221045057</td>\n",
       "      <td>61058248</td>\n",
       "      <td>43068323070</td>\n",
       "      <td>10990199.0</td>\n",
       "      <td>98607.0</td>\n",
       "    </tr>\n",
       "    <tr>\n",
       "      <th>1</th>\n",
       "      <td>NC</td>\n",
       "      <td>4043900000</td>\n",
       "      <td>4033000</td>\n",
       "      <td>1547149671</td>\n",
       "      <td>15271885</td>\n",
       "      <td>11432011560</td>\n",
       "      <td>3382420.0</td>\n",
       "      <td>27908.0</td>\n",
       "    </tr>\n",
       "    <tr>\n",
       "      <th>2</th>\n",
       "      <td>NJ</td>\n",
       "      <td>778740690</td>\n",
       "      <td>778260</td>\n",
       "      <td>1373633200</td>\n",
       "      <td>25961351</td>\n",
       "      <td>9681587100</td>\n",
       "      <td>2959536.0</td>\n",
       "      <td>35637.0</td>\n",
       "    </tr>\n",
       "    <tr>\n",
       "      <th>3</th>\n",
       "      <td>NY</td>\n",
       "      <td>2437069960</td>\n",
       "      <td>2432880</td>\n",
       "      <td>3012627741</td>\n",
       "      <td>53408965</td>\n",
       "      <td>21204381490</td>\n",
       "      <td>6499315.0</td>\n",
       "      <td>74822.0</td>\n",
       "    </tr>\n",
       "  </tbody>\n",
       "</table>\n",
       "</div>"
      ],
      "text/plain": [
       "  State  countyFIPS  StateFIPS       cases    deaths   population   new_cases  \\\n",
       "0    CA   382986760     379320  5221045057  61058248  43068323070  10990199.0   \n",
       "1    NC  4043900000    4033000  1547149671  15271885  11432011560   3382420.0   \n",
       "2    NJ   778740690     778260  1373633200  25961351   9681587100   2959536.0   \n",
       "3    NY  2437069960    2432880  3012627741  53408965  21204381490   6499315.0   \n",
       "\n",
       "   new_deaths  \n",
       "0     98607.0  \n",
       "1     27908.0  \n",
       "2     35637.0  \n",
       "3     74822.0  "
      ]
     },
     "execution_count": 42,
     "metadata": {},
     "output_type": "execute_result"
    }
   ],
   "source": [
    "super_19_df_sum = super_19_df.groupby('State').sum().reset_index()\n",
    "super_19_df_sum"
   ]
  },
  {
   "cell_type": "markdown",
   "id": "1599d401",
   "metadata": {},
   "source": [
    "Grouping the dataframe by state to generate mean of newcases across each state "
   ]
  },
  {
   "cell_type": "code",
   "execution_count": 43,
   "id": "5b479b7e",
   "metadata": {},
   "outputs": [
    {
     "data": {
      "text/html": [
       "<div>\n",
       "<style scoped>\n",
       "    .dataframe tbody tr th:only-of-type {\n",
       "        vertical-align: middle;\n",
       "    }\n",
       "\n",
       "    .dataframe tbody tr th {\n",
       "        vertical-align: top;\n",
       "    }\n",
       "\n",
       "    .dataframe thead th {\n",
       "        text-align: right;\n",
       "    }\n",
       "</style>\n",
       "<table border=\"1\" class=\"dataframe\">\n",
       "  <thead>\n",
       "    <tr style=\"text-align: right;\">\n",
       "      <th></th>\n",
       "      <th>State</th>\n",
       "      <th>countyFIPS</th>\n",
       "      <th>StateFIPS</th>\n",
       "      <th>cases</th>\n",
       "      <th>deaths</th>\n",
       "      <th>population</th>\n",
       "      <th>new_cases</th>\n",
       "      <th>new_deaths</th>\n",
       "    </tr>\n",
       "  </thead>\n",
       "  <tbody>\n",
       "    <tr>\n",
       "      <th>0</th>\n",
       "      <td>CA</td>\n",
       "      <td>351364.0</td>\n",
       "      <td>348.0</td>\n",
       "      <td>4.789950e+06</td>\n",
       "      <td>56016.741284</td>\n",
       "      <td>39512223.0</td>\n",
       "      <td>10082.751376</td>\n",
       "      <td>90.465138</td>\n",
       "    </tr>\n",
       "    <tr>\n",
       "      <th>1</th>\n",
       "      <td>NC</td>\n",
       "      <td>3710000.0</td>\n",
       "      <td>3700.0</td>\n",
       "      <td>1.419403e+06</td>\n",
       "      <td>14010.903670</td>\n",
       "      <td>10488084.0</td>\n",
       "      <td>3103.137615</td>\n",
       "      <td>25.603670</td>\n",
       "    </tr>\n",
       "    <tr>\n",
       "      <th>2</th>\n",
       "      <td>NJ</td>\n",
       "      <td>714441.0</td>\n",
       "      <td>714.0</td>\n",
       "      <td>1.260214e+06</td>\n",
       "      <td>23817.753211</td>\n",
       "      <td>8882190.0</td>\n",
       "      <td>2715.170642</td>\n",
       "      <td>32.694495</td>\n",
       "    </tr>\n",
       "    <tr>\n",
       "      <th>3</th>\n",
       "      <td>NY</td>\n",
       "      <td>2235844.0</td>\n",
       "      <td>2232.0</td>\n",
       "      <td>2.763879e+06</td>\n",
       "      <td>48999.050459</td>\n",
       "      <td>19453561.0</td>\n",
       "      <td>5962.674312</td>\n",
       "      <td>68.644037</td>\n",
       "    </tr>\n",
       "  </tbody>\n",
       "</table>\n",
       "</div>"
      ],
      "text/plain": [
       "  State  countyFIPS  StateFIPS         cases        deaths  population  \\\n",
       "0    CA    351364.0      348.0  4.789950e+06  56016.741284  39512223.0   \n",
       "1    NC   3710000.0     3700.0  1.419403e+06  14010.903670  10488084.0   \n",
       "2    NJ    714441.0      714.0  1.260214e+06  23817.753211   8882190.0   \n",
       "3    NY   2235844.0     2232.0  2.763879e+06  48999.050459  19453561.0   \n",
       "\n",
       "      new_cases  new_deaths  \n",
       "0  10082.751376   90.465138  \n",
       "1   3103.137615   25.603670  \n",
       "2   2715.170642   32.694495  \n",
       "3   5962.674312   68.644037  "
      ]
     },
     "execution_count": 43,
     "metadata": {},
     "output_type": "execute_result"
    }
   ],
   "source": [
    "super_19_df_mean = super_19_df.groupby('State').mean().reset_index()\n",
    "super_19_df_mean"
   ]
  },
  {
   "cell_type": "markdown",
   "id": "7c385651",
   "metadata": {},
   "source": [
    "Grouping the dataframe by state to generate sum of newcases across each state across the date from 30th May 2022 to Jan 2nd 2023."
   ]
  },
  {
   "cell_type": "code",
   "execution_count": 44,
   "id": "31c95fb0",
   "metadata": {},
   "outputs": [
    {
     "data": {
      "text/html": [
       "<div>\n",
       "<style scoped>\n",
       "    .dataframe tbody tr th:only-of-type {\n",
       "        vertical-align: middle;\n",
       "    }\n",
       "\n",
       "    .dataframe tbody tr th {\n",
       "        vertical-align: top;\n",
       "    }\n",
       "\n",
       "    .dataframe thead th {\n",
       "        text-align: right;\n",
       "    }\n",
       "</style>\n",
       "<table border=\"1\" class=\"dataframe\">\n",
       "  <thead>\n",
       "    <tr style=\"text-align: right;\">\n",
       "      <th></th>\n",
       "      <th>State</th>\n",
       "      <th>cases</th>\n",
       "      <th>deaths</th>\n",
       "      <th>population</th>\n",
       "      <th>new_cases</th>\n",
       "      <th>new_deaths</th>\n",
       "    </tr>\n",
       "  </thead>\n",
       "  <tbody>\n",
       "    <tr>\n",
       "      <th>0</th>\n",
       "      <td>CA</td>\n",
       "      <td>2217995009</td>\n",
       "      <td>20561316</td>\n",
       "      <td>8613664614</td>\n",
       "      <td>1931894.0</td>\n",
       "      <td>7028.0</td>\n",
       "    </tr>\n",
       "    <tr>\n",
       "      <th>1</th>\n",
       "      <td>NC</td>\n",
       "      <td>676340140</td>\n",
       "      <td>5736330</td>\n",
       "      <td>2286402312</td>\n",
       "      <td>571879.0</td>\n",
       "      <td>2985.0</td>\n",
       "    </tr>\n",
       "    <tr>\n",
       "      <th>2</th>\n",
       "      <td>NJ</td>\n",
       "      <td>584241535</td>\n",
       "      <td>7540825</td>\n",
       "      <td>1936317420</td>\n",
       "      <td>518909.0</td>\n",
       "      <td>1695.0</td>\n",
       "    </tr>\n",
       "    <tr>\n",
       "      <th>3</th>\n",
       "      <td>NY</td>\n",
       "      <td>1298662015</td>\n",
       "      <td>15457654</td>\n",
       "      <td>4240876298</td>\n",
       "      <td>1053179.0</td>\n",
       "      <td>6015.0</td>\n",
       "    </tr>\n",
       "  </tbody>\n",
       "</table>\n",
       "</div>"
      ],
      "text/plain": [
       "  State       cases    deaths  population  new_cases  new_deaths\n",
       "0    CA  2217995009  20561316  8613664614  1931894.0      7028.0\n",
       "1    NC   676340140   5736330  2286402312   571879.0      2985.0\n",
       "2    NJ   584241535   7540825  1936317420   518909.0      1695.0\n",
       "3    NY  1298662015  15457654  4240876298  1053179.0      6015.0"
      ]
     },
     "execution_count": 44,
     "metadata": {},
     "output_type": "execute_result"
    }
   ],
   "source": [
    "selected_states_sum_df = selected_states.groupby('State').sum().reset_index()\n",
    "selected_states_sum_df"
   ]
  },
  {
   "cell_type": "markdown",
   "id": "705d207d",
   "metadata": {},
   "source": [
    "Grouping the dataframe by state to generate mean of newcases across each state across the date from 30th May 2022 to Jan 2nd 2023."
   ]
  },
  {
   "cell_type": "code",
   "execution_count": 45,
   "id": "8cc4896a",
   "metadata": {},
   "outputs": [
    {
     "data": {
      "text/html": [
       "<div>\n",
       "<style scoped>\n",
       "    .dataframe tbody tr th:only-of-type {\n",
       "        vertical-align: middle;\n",
       "    }\n",
       "\n",
       "    .dataframe tbody tr th {\n",
       "        vertical-align: top;\n",
       "    }\n",
       "\n",
       "    .dataframe thead th {\n",
       "        text-align: right;\n",
       "    }\n",
       "</style>\n",
       "<table border=\"1\" class=\"dataframe\">\n",
       "  <thead>\n",
       "    <tr style=\"text-align: right;\">\n",
       "      <th></th>\n",
       "      <th>State</th>\n",
       "      <th>cases</th>\n",
       "      <th>deaths</th>\n",
       "      <th>population</th>\n",
       "      <th>new_cases</th>\n",
       "      <th>new_deaths</th>\n",
       "    </tr>\n",
       "  </thead>\n",
       "  <tbody>\n",
       "    <tr>\n",
       "      <th>0</th>\n",
       "      <td>CA</td>\n",
       "      <td>1.017429e+07</td>\n",
       "      <td>94317.963303</td>\n",
       "      <td>39512223.0</td>\n",
       "      <td>8861.899083</td>\n",
       "      <td>32.238532</td>\n",
       "    </tr>\n",
       "    <tr>\n",
       "      <th>1</th>\n",
       "      <td>NC</td>\n",
       "      <td>3.102478e+06</td>\n",
       "      <td>26313.440367</td>\n",
       "      <td>10488084.0</td>\n",
       "      <td>2623.298165</td>\n",
       "      <td>13.692661</td>\n",
       "    </tr>\n",
       "    <tr>\n",
       "      <th>2</th>\n",
       "      <td>NJ</td>\n",
       "      <td>2.680007e+06</td>\n",
       "      <td>34590.940367</td>\n",
       "      <td>8882190.0</td>\n",
       "      <td>2380.316514</td>\n",
       "      <td>7.775229</td>\n",
       "    </tr>\n",
       "    <tr>\n",
       "      <th>3</th>\n",
       "      <td>NY</td>\n",
       "      <td>5.957165e+06</td>\n",
       "      <td>70906.669725</td>\n",
       "      <td>19453561.0</td>\n",
       "      <td>4831.096330</td>\n",
       "      <td>27.591743</td>\n",
       "    </tr>\n",
       "  </tbody>\n",
       "</table>\n",
       "</div>"
      ],
      "text/plain": [
       "  State         cases        deaths  population    new_cases  new_deaths\n",
       "0    CA  1.017429e+07  94317.963303  39512223.0  8861.899083   32.238532\n",
       "1    NC  3.102478e+06  26313.440367  10488084.0  2623.298165   13.692661\n",
       "2    NJ  2.680007e+06  34590.940367   8882190.0  2380.316514    7.775229\n",
       "3    NY  5.957165e+06  70906.669725  19453561.0  4831.096330   27.591743"
      ]
     },
     "execution_count": 45,
     "metadata": {},
     "output_type": "execute_result"
    }
   ],
   "source": [
    "selected_states_mean_df = selected_states.groupby('State').mean().reset_index()\n",
    "selected_states_mean_df"
   ]
  },
  {
   "cell_type": "code",
   "execution_count": 46,
   "id": "24ef4068",
   "metadata": {},
   "outputs": [
    {
     "data": {
      "text/plain": [
       "[8861.899082568807, 2623.298165137615, 2380.316513761468, 4831.09633027523]"
      ]
     },
     "execution_count": 46,
     "metadata": {},
     "output_type": "execute_result"
    }
   ],
   "source": [
    "mean_new_cases = selected_states_mean_df['new_cases'].tolist()\n",
    "mean_new_cases"
   ]
  },
  {
   "cell_type": "code",
   "execution_count": 47,
   "id": "e9b1ef93",
   "metadata": {},
   "outputs": [
    {
     "data": {
      "text/html": [
       "<div>\n",
       "<style scoped>\n",
       "    .dataframe tbody tr th:only-of-type {\n",
       "        vertical-align: middle;\n",
       "    }\n",
       "\n",
       "    .dataframe tbody tr th {\n",
       "        vertical-align: top;\n",
       "    }\n",
       "\n",
       "    .dataframe thead th {\n",
       "        text-align: right;\n",
       "    }\n",
       "</style>\n",
       "<table border=\"1\" class=\"dataframe\">\n",
       "  <thead>\n",
       "    <tr style=\"text-align: right;\">\n",
       "      <th></th>\n",
       "      <th>State</th>\n",
       "      <th>new_cases</th>\n",
       "    </tr>\n",
       "  </thead>\n",
       "  <tbody>\n",
       "    <tr>\n",
       "      <th>0</th>\n",
       "      <td>CA</td>\n",
       "      <td>1931894.0</td>\n",
       "    </tr>\n",
       "    <tr>\n",
       "      <th>1</th>\n",
       "      <td>NC</td>\n",
       "      <td>571879.0</td>\n",
       "    </tr>\n",
       "    <tr>\n",
       "      <th>2</th>\n",
       "      <td>NJ</td>\n",
       "      <td>518909.0</td>\n",
       "    </tr>\n",
       "    <tr>\n",
       "      <th>3</th>\n",
       "      <td>NY</td>\n",
       "      <td>1053179.0</td>\n",
       "    </tr>\n",
       "  </tbody>\n",
       "</table>\n",
       "</div>"
      ],
      "text/plain": [
       "  State  new_cases\n",
       "0    CA  1931894.0\n",
       "1    NC   571879.0\n",
       "2    NJ   518909.0\n",
       "3    NY  1053179.0"
      ]
     },
     "execution_count": 47,
     "metadata": {},
     "output_type": "execute_result"
    }
   ],
   "source": [
    "selected_states_cases_df = selected_states_sum_df[['State','new_cases']]\n",
    "selected_states_cases_df"
   ]
  },
  {
   "cell_type": "markdown",
   "id": "b09c96da",
   "metadata": {},
   "source": [
    "Renaming the columns for better understanding"
   ]
  },
  {
   "cell_type": "code",
   "execution_count": 48,
   "id": "fd74042e",
   "metadata": {},
   "outputs": [
    {
     "data": {
      "text/html": [
       "<div>\n",
       "<style scoped>\n",
       "    .dataframe tbody tr th:only-of-type {\n",
       "        vertical-align: middle;\n",
       "    }\n",
       "\n",
       "    .dataframe tbody tr th {\n",
       "        vertical-align: top;\n",
       "    }\n",
       "\n",
       "    .dataframe thead th {\n",
       "        text-align: right;\n",
       "    }\n",
       "</style>\n",
       "<table border=\"1\" class=\"dataframe\">\n",
       "  <thead>\n",
       "    <tr style=\"text-align: right;\">\n",
       "      <th></th>\n",
       "      <th>State</th>\n",
       "      <th>Total Cases</th>\n",
       "      <th>Mean_Total_Cases</th>\n",
       "      <th>Population</th>\n",
       "    </tr>\n",
       "  </thead>\n",
       "  <tbody>\n",
       "    <tr>\n",
       "      <th>0</th>\n",
       "      <td>CA</td>\n",
       "      <td>1931894.0</td>\n",
       "      <td>8861.899083</td>\n",
       "      <td>39512223</td>\n",
       "    </tr>\n",
       "    <tr>\n",
       "      <th>1</th>\n",
       "      <td>NC</td>\n",
       "      <td>571879.0</td>\n",
       "      <td>2623.298165</td>\n",
       "      <td>10488084</td>\n",
       "    </tr>\n",
       "    <tr>\n",
       "      <th>2</th>\n",
       "      <td>NJ</td>\n",
       "      <td>518909.0</td>\n",
       "      <td>2380.316514</td>\n",
       "      <td>8882190</td>\n",
       "    </tr>\n",
       "    <tr>\n",
       "      <th>3</th>\n",
       "      <td>NY</td>\n",
       "      <td>1053179.0</td>\n",
       "      <td>4831.096330</td>\n",
       "      <td>19453561</td>\n",
       "    </tr>\n",
       "  </tbody>\n",
       "</table>\n",
       "</div>"
      ],
      "text/plain": [
       "  State  Total Cases  Mean_Total_Cases  Population\n",
       "0    CA    1931894.0       8861.899083    39512223\n",
       "1    NC     571879.0       2623.298165    10488084\n",
       "2    NJ     518909.0       2380.316514     8882190\n",
       "3    NY    1053179.0       4831.096330    19453561"
      ]
     },
     "execution_count": 48,
     "metadata": {},
     "output_type": "execute_result"
    }
   ],
   "source": [
    "selected_states_cases_df['Mean_Total_Cases']= mean_new_cases\n",
    "selected_states_cases_df['Population'] = population\n",
    "selected_states_cases_df.rename(columns={'new_cases':'Total Cases'},inplace = True)\n",
    "selected_states_cases_df"
   ]
  },
  {
   "cell_type": "markdown",
   "id": "3c3ad7f1",
   "metadata": {},
   "source": [
    "Out of 33 columns in census_demographic dataframe selecting few columns which provides better information for understanding the covid cases spread"
   ]
  },
  {
   "cell_type": "code",
   "execution_count": 49,
   "id": "d7d758f5",
   "metadata": {},
   "outputs": [
    {
     "data": {
      "text/html": [
       "<div>\n",
       "<style scoped>\n",
       "    .dataframe tbody tr th:only-of-type {\n",
       "        vertical-align: middle;\n",
       "    }\n",
       "\n",
       "    .dataframe tbody tr th {\n",
       "        vertical-align: top;\n",
       "    }\n",
       "\n",
       "    .dataframe thead th {\n",
       "        text-align: right;\n",
       "    }\n",
       "</style>\n",
       "<table border=\"1\" class=\"dataframe\">\n",
       "  <thead>\n",
       "    <tr style=\"text-align: right;\">\n",
       "      <th></th>\n",
       "      <th>State</th>\n",
       "      <th>Male population</th>\n",
       "      <th>Female population</th>\n",
       "      <th>18years and above</th>\n",
       "      <th>65years and above</th>\n",
       "      <th>White population</th>\n",
       "      <th>Black population</th>\n",
       "      <th>Asian population</th>\n",
       "    </tr>\n",
       "  </thead>\n",
       "  <tbody>\n",
       "    <tr>\n",
       "      <th>0</th>\n",
       "      <td>CA</td>\n",
       "      <td>19714044</td>\n",
       "      <td>19741309</td>\n",
       "      <td>30462921</td>\n",
       "      <td>5669879</td>\n",
       "      <td>20553732</td>\n",
       "      <td>2233258</td>\n",
       "      <td>5887396</td>\n",
       "    </tr>\n",
       "    <tr>\n",
       "      <th>1</th>\n",
       "      <td>NC</td>\n",
       "      <td>5067666</td>\n",
       "      <td>5299356</td>\n",
       "      <td>8064707</td>\n",
       "      <td>1686235</td>\n",
       "      <td>6865508</td>\n",
       "      <td>2193147</td>\n",
       "      <td>314690</td>\n",
       "    </tr>\n",
       "    <tr>\n",
       "      <th>2</th>\n",
       "      <td>NJ</td>\n",
       "      <td>4539311</td>\n",
       "      <td>4694713</td>\n",
       "      <td>7193582</td>\n",
       "      <td>1494516</td>\n",
       "      <td>5787873</td>\n",
       "      <td>1225321</td>\n",
       "      <td>900516</td>\n",
       "    </tr>\n",
       "    <tr>\n",
       "      <th>3</th>\n",
       "      <td>NY</td>\n",
       "      <td>9821711</td>\n",
       "      <td>10293034</td>\n",
       "      <td>15897349</td>\n",
       "      <td>3330159</td>\n",
       "      <td>12215118</td>\n",
       "      <td>3058846</td>\n",
       "      <td>1739196</td>\n",
       "    </tr>\n",
       "  </tbody>\n",
       "</table>\n",
       "</div>"
      ],
      "text/plain": [
       "  State  Male population  Female population  18years and above  \\\n",
       "0    CA         19714044           19741309           30462921   \n",
       "1    NC          5067666            5299356            8064707   \n",
       "2    NJ          4539311            4694713            7193582   \n",
       "3    NY          9821711           10293034           15897349   \n",
       "\n",
       "   65years and above  White population  Black population  Asian population  \n",
       "0            5669879          20553732           2233258           5887396  \n",
       "1            1686235           6865508           2193147            314690  \n",
       "2            1494516           5787873           1225321            900516  \n",
       "3            3330159          12215118           3058846           1739196  "
      ]
     },
     "execution_count": 49,
     "metadata": {},
     "output_type": "execute_result"
    }
   ],
   "source": [
    "census_demographic_1 = census_demographic[['State','Male population','Female population','18years and above','65years and above',\n",
    "                                          'White population','Black population','Asian population']]\n",
    "census_demographic_1"
   ]
  },
  {
   "cell_type": "markdown",
   "id": "c318d316",
   "metadata": {},
   "source": [
    "Merging both covid data cases and census demographic data on State"
   ]
  },
  {
   "cell_type": "code",
   "execution_count": 50,
   "id": "e24558ff",
   "metadata": {},
   "outputs": [
    {
     "data": {
      "text/html": [
       "<div>\n",
       "<style scoped>\n",
       "    .dataframe tbody tr th:only-of-type {\n",
       "        vertical-align: middle;\n",
       "    }\n",
       "\n",
       "    .dataframe tbody tr th {\n",
       "        vertical-align: top;\n",
       "    }\n",
       "\n",
       "    .dataframe thead th {\n",
       "        text-align: right;\n",
       "    }\n",
       "</style>\n",
       "<table border=\"1\" class=\"dataframe\">\n",
       "  <thead>\n",
       "    <tr style=\"text-align: right;\">\n",
       "      <th></th>\n",
       "      <th>State</th>\n",
       "      <th>Total Cases</th>\n",
       "      <th>Mean_Total_Cases</th>\n",
       "      <th>Population</th>\n",
       "      <th>Male population</th>\n",
       "      <th>Female population</th>\n",
       "      <th>18years and above</th>\n",
       "      <th>65years and above</th>\n",
       "      <th>White population</th>\n",
       "      <th>Black population</th>\n",
       "      <th>Asian population</th>\n",
       "    </tr>\n",
       "  </thead>\n",
       "  <tbody>\n",
       "    <tr>\n",
       "      <th>0</th>\n",
       "      <td>CA</td>\n",
       "      <td>1931894.0</td>\n",
       "      <td>8861.899083</td>\n",
       "      <td>39512223</td>\n",
       "      <td>19714044</td>\n",
       "      <td>19741309</td>\n",
       "      <td>30462921</td>\n",
       "      <td>5669879</td>\n",
       "      <td>20553732</td>\n",
       "      <td>2233258</td>\n",
       "      <td>5887396</td>\n",
       "    </tr>\n",
       "    <tr>\n",
       "      <th>1</th>\n",
       "      <td>NC</td>\n",
       "      <td>571879.0</td>\n",
       "      <td>2623.298165</td>\n",
       "      <td>10488084</td>\n",
       "      <td>5067666</td>\n",
       "      <td>5299356</td>\n",
       "      <td>8064707</td>\n",
       "      <td>1686235</td>\n",
       "      <td>6865508</td>\n",
       "      <td>2193147</td>\n",
       "      <td>314690</td>\n",
       "    </tr>\n",
       "    <tr>\n",
       "      <th>2</th>\n",
       "      <td>NJ</td>\n",
       "      <td>518909.0</td>\n",
       "      <td>2380.316514</td>\n",
       "      <td>8882190</td>\n",
       "      <td>4539311</td>\n",
       "      <td>4694713</td>\n",
       "      <td>7193582</td>\n",
       "      <td>1494516</td>\n",
       "      <td>5787873</td>\n",
       "      <td>1225321</td>\n",
       "      <td>900516</td>\n",
       "    </tr>\n",
       "    <tr>\n",
       "      <th>3</th>\n",
       "      <td>NY</td>\n",
       "      <td>1053179.0</td>\n",
       "      <td>4831.096330</td>\n",
       "      <td>19453561</td>\n",
       "      <td>9821711</td>\n",
       "      <td>10293034</td>\n",
       "      <td>15897349</td>\n",
       "      <td>3330159</td>\n",
       "      <td>12215118</td>\n",
       "      <td>3058846</td>\n",
       "      <td>1739196</td>\n",
       "    </tr>\n",
       "  </tbody>\n",
       "</table>\n",
       "</div>"
      ],
      "text/plain": [
       "  State  Total Cases  Mean_Total_Cases  Population  Male population  \\\n",
       "0    CA    1931894.0       8861.899083    39512223         19714044   \n",
       "1    NC     571879.0       2623.298165    10488084          5067666   \n",
       "2    NJ     518909.0       2380.316514     8882190          4539311   \n",
       "3    NY    1053179.0       4831.096330    19453561          9821711   \n",
       "\n",
       "   Female population  18years and above  65years and above  White population  \\\n",
       "0           19741309           30462921            5669879          20553732   \n",
       "1            5299356            8064707            1686235           6865508   \n",
       "2            4694713            7193582            1494516           5787873   \n",
       "3           10293034           15897349            3330159          12215118   \n",
       "\n",
       "   Black population  Asian population  \n",
       "0           2233258           5887396  \n",
       "1           2193147            314690  \n",
       "2           1225321            900516  \n",
       "3           3058846           1739196  "
      ]
     },
     "execution_count": 50,
     "metadata": {},
     "output_type": "execute_result"
    }
   ],
   "source": [
    "selected_states_census = pd.merge(selected_states_cases_df,census_demographic_1,on = ['State'])\n",
    "selected_states_census"
   ]
  },
  {
   "cell_type": "markdown",
   "id": "ab136934",
   "metadata": {},
   "source": [
    "Normalizing the merged dataset by population of each state"
   ]
  },
  {
   "cell_type": "code",
   "execution_count": 51,
   "id": "b44ca149",
   "metadata": {},
   "outputs": [
    {
     "data": {
      "text/html": [
       "<div>\n",
       "<style scoped>\n",
       "    .dataframe tbody tr th:only-of-type {\n",
       "        vertical-align: middle;\n",
       "    }\n",
       "\n",
       "    .dataframe tbody tr th {\n",
       "        vertical-align: top;\n",
       "    }\n",
       "\n",
       "    .dataframe thead th {\n",
       "        text-align: right;\n",
       "    }\n",
       "</style>\n",
       "<table border=\"1\" class=\"dataframe\">\n",
       "  <thead>\n",
       "    <tr style=\"text-align: right;\">\n",
       "      <th></th>\n",
       "      <th>State</th>\n",
       "      <th>Population</th>\n",
       "      <th>N_Total_Cases</th>\n",
       "      <th>N_Mean_Total_Cases</th>\n",
       "      <th>N_Male_population</th>\n",
       "      <th>N_Female_population</th>\n",
       "      <th>N_18years and above</th>\n",
       "      <th>N_65years and above</th>\n",
       "      <th>N_White_population</th>\n",
       "      <th>N_Black_population</th>\n",
       "      <th>N_Asian_population</th>\n",
       "    </tr>\n",
       "  </thead>\n",
       "  <tbody>\n",
       "    <tr>\n",
       "      <th>0</th>\n",
       "      <td>CA</td>\n",
       "      <td>39512223</td>\n",
       "      <td>48893.579083</td>\n",
       "      <td>224.282473</td>\n",
       "      <td>498935.329455</td>\n",
       "      <td>499625.369091</td>\n",
       "      <td>770974.617146</td>\n",
       "      <td>143496.836409</td>\n",
       "      <td>520186.677424</td>\n",
       "      <td>56520.687282</td>\n",
       "      <td>149001.892402</td>\n",
       "    </tr>\n",
       "    <tr>\n",
       "      <th>1</th>\n",
       "      <td>NC</td>\n",
       "      <td>10488084</td>\n",
       "      <td>54526.546507</td>\n",
       "      <td>250.121773</td>\n",
       "      <td>483183.201050</td>\n",
       "      <td>505273.985220</td>\n",
       "      <td>768939.970351</td>\n",
       "      <td>160776.267620</td>\n",
       "      <td>654600.783136</td>\n",
       "      <td>209108.451076</td>\n",
       "      <td>30004.527042</td>\n",
       "    </tr>\n",
       "    <tr>\n",
       "      <th>2</th>\n",
       "      <td>NJ</td>\n",
       "      <td>8882190</td>\n",
       "      <td>58421.290245</td>\n",
       "      <td>267.987570</td>\n",
       "      <td>511057.633309</td>\n",
       "      <td>528553.543664</td>\n",
       "      <td>809888.327091</td>\n",
       "      <td>168259.854833</td>\n",
       "      <td>651626.794743</td>\n",
       "      <td>137952.577011</td>\n",
       "      <td>101384.455861</td>\n",
       "    </tr>\n",
       "    <tr>\n",
       "      <th>3</th>\n",
       "      <td>NY</td>\n",
       "      <td>19453561</td>\n",
       "      <td>54138.108699</td>\n",
       "      <td>248.339948</td>\n",
       "      <td>504879.852074</td>\n",
       "      <td>529107.961262</td>\n",
       "      <td>817194.805619</td>\n",
       "      <td>171185.059640</td>\n",
       "      <td>627911.671287</td>\n",
       "      <td>157238.358571</td>\n",
       "      <td>89402.449248</td>\n",
       "    </tr>\n",
       "  </tbody>\n",
       "</table>\n",
       "</div>"
      ],
      "text/plain": [
       "  State  Population  N_Total_Cases  N_Mean_Total_Cases  N_Male_population  \\\n",
       "0    CA    39512223   48893.579083          224.282473      498935.329455   \n",
       "1    NC    10488084   54526.546507          250.121773      483183.201050   \n",
       "2    NJ     8882190   58421.290245          267.987570      511057.633309   \n",
       "3    NY    19453561   54138.108699          248.339948      504879.852074   \n",
       "\n",
       "   N_Female_population  N_18years and above  N_65years and above  \\\n",
       "0        499625.369091        770974.617146        143496.836409   \n",
       "1        505273.985220        768939.970351        160776.267620   \n",
       "2        528553.543664        809888.327091        168259.854833   \n",
       "3        529107.961262        817194.805619        171185.059640   \n",
       "\n",
       "   N_White_population  N_Black_population  N_Asian_population  \n",
       "0       520186.677424        56520.687282       149001.892402  \n",
       "1       654600.783136       209108.451076        30004.527042  \n",
       "2       651626.794743       137952.577011       101384.455861  \n",
       "3       627911.671287       157238.358571        89402.449248  "
      ]
     },
     "execution_count": 51,
     "metadata": {},
     "output_type": "execute_result"
    }
   ],
   "source": [
    "N_selected_states_census= pd.DataFrame()\n",
    "N_selected_states_census['State'] = selected_states_census['State']\n",
    "N_selected_states_census['Population'] = selected_states_census['Population']\n",
    "N_selected_states_census['N_Total_Cases']= (selected_states_census['Total Cases']/selected_states_census['Population'])*1000000\n",
    "#N_selected_states_census['N_Mean_Total_Cases']= (selected_states_census['Mean_Total_Cases'])#/selected_states_census['Population'])*1000000\n",
    "N_selected_states_census['N_Mean_Total_Cases']= (selected_states_census['Mean_Total_Cases']/selected_states_census['Population'])*1000000\n",
    "N_selected_states_census['N_Male_population']= (selected_states_census['Male population']/selected_states_census['Population'])*1000000\n",
    "N_selected_states_census['N_Female_population']= (selected_states_census['Female population']/selected_states_census['Population'])*1000000\n",
    "N_selected_states_census['N_18years and above']= (selected_states_census['18years and above']/selected_states_census['Population'])*1000000\n",
    "N_selected_states_census['N_65years and above']= (selected_states_census['65years and above']/selected_states_census['Population'])*1000000\n",
    "N_selected_states_census['N_White_population']= (selected_states_census['White population']/selected_states_census['Population'])*1000000\n",
    "N_selected_states_census['N_Black_population']= (selected_states_census['Black population']/selected_states_census['Population'])*1000000\n",
    "N_selected_states_census['N_Asian_population']= (selected_states_census['Asian population']/selected_states_census['Population'])*1000000\n",
    "N_selected_states_census\n"
   ]
  },
  {
   "cell_type": "markdown",
   "id": "590ce811",
   "metadata": {},
   "source": [
    "Finding the correlation for merged dataframe to obtain the correlation between the columns"
   ]
  },
  {
   "cell_type": "code",
   "execution_count": 52,
   "id": "76f77bfc",
   "metadata": {},
   "outputs": [
    {
     "data": {
      "text/html": [
       "<div>\n",
       "<style scoped>\n",
       "    .dataframe tbody tr th:only-of-type {\n",
       "        vertical-align: middle;\n",
       "    }\n",
       "\n",
       "    .dataframe tbody tr th {\n",
       "        vertical-align: top;\n",
       "    }\n",
       "\n",
       "    .dataframe thead th {\n",
       "        text-align: right;\n",
       "    }\n",
       "</style>\n",
       "<table border=\"1\" class=\"dataframe\">\n",
       "  <thead>\n",
       "    <tr style=\"text-align: right;\">\n",
       "      <th></th>\n",
       "      <th>Population</th>\n",
       "      <th>N_Total_Cases</th>\n",
       "      <th>N_Mean_Total_Cases</th>\n",
       "      <th>N_Male_population</th>\n",
       "      <th>N_Female_population</th>\n",
       "      <th>N_18years and above</th>\n",
       "      <th>N_65years and above</th>\n",
       "      <th>N_White_population</th>\n",
       "      <th>N_Black_population</th>\n",
       "      <th>N_Asian_population</th>\n",
       "    </tr>\n",
       "  </thead>\n",
       "  <tbody>\n",
       "    <tr>\n",
       "      <th>Population</th>\n",
       "      <td>1.000000</td>\n",
       "      <td>-0.931435</td>\n",
       "      <td>-0.931435</td>\n",
       "      <td>0.025294</td>\n",
       "      <td>-0.560739</td>\n",
       "      <td>-0.377321</td>\n",
       "      <td>-0.811788</td>\n",
       "      <td>-0.987343</td>\n",
       "      <td>-0.849269</td>\n",
       "      <td>0.774009</td>\n",
       "    </tr>\n",
       "    <tr>\n",
       "      <th>N_Total_Cases</th>\n",
       "      <td>-0.931435</td>\n",
       "      <td>1.000000</td>\n",
       "      <td>1.000000</td>\n",
       "      <td>0.328672</td>\n",
       "      <td>0.748090</td>\n",
       "      <td>0.597456</td>\n",
       "      <td>0.842093</td>\n",
       "      <td>0.898660</td>\n",
       "      <td>0.613122</td>\n",
       "      <td>-0.491898</td>\n",
       "    </tr>\n",
       "    <tr>\n",
       "      <th>N_Mean_Total_Cases</th>\n",
       "      <td>-0.931435</td>\n",
       "      <td>1.000000</td>\n",
       "      <td>1.000000</td>\n",
       "      <td>0.328672</td>\n",
       "      <td>0.748090</td>\n",
       "      <td>0.597456</td>\n",
       "      <td>0.842093</td>\n",
       "      <td>0.898660</td>\n",
       "      <td>0.613122</td>\n",
       "      <td>-0.491898</td>\n",
       "    </tr>\n",
       "    <tr>\n",
       "      <th>N_Male_population</th>\n",
       "      <td>0.025294</td>\n",
       "      <td>0.328672</td>\n",
       "      <td>0.328672</td>\n",
       "      <td>1.000000</td>\n",
       "      <td>0.723453</td>\n",
       "      <td>0.803018</td>\n",
       "      <td>0.341622</td>\n",
       "      <td>-0.043858</td>\n",
       "      <td>-0.444882</td>\n",
       "      <td>0.611518</td>\n",
       "    </tr>\n",
       "    <tr>\n",
       "      <th>N_Female_population</th>\n",
       "      <td>-0.560739</td>\n",
       "      <td>0.748090</td>\n",
       "      <td>0.748090</td>\n",
       "      <td>0.723453</td>\n",
       "      <td>1.000000</td>\n",
       "      <td>0.978049</td>\n",
       "      <td>0.894559</td>\n",
       "      <td>0.598857</td>\n",
       "      <td>0.282113</td>\n",
       "      <td>-0.081345</td>\n",
       "    </tr>\n",
       "    <tr>\n",
       "      <th>N_18years and above</th>\n",
       "      <td>-0.377321</td>\n",
       "      <td>0.597456</td>\n",
       "      <td>0.597456</td>\n",
       "      <td>0.803018</td>\n",
       "      <td>0.978049</td>\n",
       "      <td>1.000000</td>\n",
       "      <td>0.804020</td>\n",
       "      <td>0.427075</td>\n",
       "      <td>0.116075</td>\n",
       "      <td>0.089722</td>\n",
       "    </tr>\n",
       "    <tr>\n",
       "      <th>N_65years and above</th>\n",
       "      <td>-0.811788</td>\n",
       "      <td>0.842093</td>\n",
       "      <td>0.842093</td>\n",
       "      <td>0.341622</td>\n",
       "      <td>0.894559</td>\n",
       "      <td>0.804020</td>\n",
       "      <td>1.000000</td>\n",
       "      <td>0.866791</td>\n",
       "      <td>0.680357</td>\n",
       "      <td>-0.516530</td>\n",
       "    </tr>\n",
       "    <tr>\n",
       "      <th>N_White_population</th>\n",
       "      <td>-0.987343</td>\n",
       "      <td>0.898660</td>\n",
       "      <td>0.898660</td>\n",
       "      <td>-0.043858</td>\n",
       "      <td>0.598857</td>\n",
       "      <td>0.427075</td>\n",
       "      <td>0.866791</td>\n",
       "      <td>1.000000</td>\n",
       "      <td>0.896157</td>\n",
       "      <td>-0.810712</td>\n",
       "    </tr>\n",
       "    <tr>\n",
       "      <th>N_Black_population</th>\n",
       "      <td>-0.849269</td>\n",
       "      <td>0.613122</td>\n",
       "      <td>0.613122</td>\n",
       "      <td>-0.444882</td>\n",
       "      <td>0.282113</td>\n",
       "      <td>0.116075</td>\n",
       "      <td>0.680357</td>\n",
       "      <td>0.896157</td>\n",
       "      <td>1.000000</td>\n",
       "      <td>-0.978820</td>\n",
       "    </tr>\n",
       "    <tr>\n",
       "      <th>N_Asian_population</th>\n",
       "      <td>0.774009</td>\n",
       "      <td>-0.491898</td>\n",
       "      <td>-0.491898</td>\n",
       "      <td>0.611518</td>\n",
       "      <td>-0.081345</td>\n",
       "      <td>0.089722</td>\n",
       "      <td>-0.516530</td>\n",
       "      <td>-0.810712</td>\n",
       "      <td>-0.978820</td>\n",
       "      <td>1.000000</td>\n",
       "    </tr>\n",
       "  </tbody>\n",
       "</table>\n",
       "</div>"
      ],
      "text/plain": [
       "                     Population  N_Total_Cases  N_Mean_Total_Cases  \\\n",
       "Population             1.000000      -0.931435           -0.931435   \n",
       "N_Total_Cases         -0.931435       1.000000            1.000000   \n",
       "N_Mean_Total_Cases    -0.931435       1.000000            1.000000   \n",
       "N_Male_population      0.025294       0.328672            0.328672   \n",
       "N_Female_population   -0.560739       0.748090            0.748090   \n",
       "N_18years and above   -0.377321       0.597456            0.597456   \n",
       "N_65years and above   -0.811788       0.842093            0.842093   \n",
       "N_White_population    -0.987343       0.898660            0.898660   \n",
       "N_Black_population    -0.849269       0.613122            0.613122   \n",
       "N_Asian_population     0.774009      -0.491898           -0.491898   \n",
       "\n",
       "                     N_Male_population  N_Female_population  \\\n",
       "Population                    0.025294            -0.560739   \n",
       "N_Total_Cases                 0.328672             0.748090   \n",
       "N_Mean_Total_Cases            0.328672             0.748090   \n",
       "N_Male_population             1.000000             0.723453   \n",
       "N_Female_population           0.723453             1.000000   \n",
       "N_18years and above           0.803018             0.978049   \n",
       "N_65years and above           0.341622             0.894559   \n",
       "N_White_population           -0.043858             0.598857   \n",
       "N_Black_population           -0.444882             0.282113   \n",
       "N_Asian_population            0.611518            -0.081345   \n",
       "\n",
       "                     N_18years and above  N_65years and above  \\\n",
       "Population                     -0.377321            -0.811788   \n",
       "N_Total_Cases                   0.597456             0.842093   \n",
       "N_Mean_Total_Cases              0.597456             0.842093   \n",
       "N_Male_population               0.803018             0.341622   \n",
       "N_Female_population             0.978049             0.894559   \n",
       "N_18years and above             1.000000             0.804020   \n",
       "N_65years and above             0.804020             1.000000   \n",
       "N_White_population              0.427075             0.866791   \n",
       "N_Black_population              0.116075             0.680357   \n",
       "N_Asian_population              0.089722            -0.516530   \n",
       "\n",
       "                     N_White_population  N_Black_population  \\\n",
       "Population                    -0.987343           -0.849269   \n",
       "N_Total_Cases                  0.898660            0.613122   \n",
       "N_Mean_Total_Cases             0.898660            0.613122   \n",
       "N_Male_population             -0.043858           -0.444882   \n",
       "N_Female_population            0.598857            0.282113   \n",
       "N_18years and above            0.427075            0.116075   \n",
       "N_65years and above            0.866791            0.680357   \n",
       "N_White_population             1.000000            0.896157   \n",
       "N_Black_population             0.896157            1.000000   \n",
       "N_Asian_population            -0.810712           -0.978820   \n",
       "\n",
       "                     N_Asian_population  \n",
       "Population                     0.774009  \n",
       "N_Total_Cases                 -0.491898  \n",
       "N_Mean_Total_Cases            -0.491898  \n",
       "N_Male_population              0.611518  \n",
       "N_Female_population           -0.081345  \n",
       "N_18years and above            0.089722  \n",
       "N_65years and above           -0.516530  \n",
       "N_White_population            -0.810712  \n",
       "N_Black_population            -0.978820  \n",
       "N_Asian_population             1.000000  "
      ]
     },
     "execution_count": 52,
     "metadata": {},
     "output_type": "execute_result"
    }
   ],
   "source": [
    "correlation = N_selected_states_census.corr()\n",
    "correlation"
   ]
  },
  {
   "cell_type": "markdown",
   "id": "d0f10f74",
   "metadata": {},
   "source": [
    "Plotting the correlation coefficients using the heatmap from seaborn library"
   ]
  },
  {
   "cell_type": "code",
   "execution_count": 53,
   "id": "0577ad7c",
   "metadata": {},
   "outputs": [
    {
     "data": {
      "text/plain": [
       "<AxesSubplot:>"
      ]
     },
     "execution_count": 53,
     "metadata": {},
     "output_type": "execute_result"
    },
    {
     "data": {
      "image/png": "[encoded data removed]",
      "text/plain": [
       "<Figure size 864x864 with 2 Axes>"
      ]
     },
     "metadata": {
      "needs_background": "light"
     },
     "output_type": "display_data"
    }
   ],
   "source": [
    "plt.figure(figsize=(12,12))\n",
    "sns.heatmap(correlation, annot=True, square=True)"
   ]
  },
  {
   "cell_type": "markdown",
   "id": "58aee8b8",
   "metadata": {},
   "source": [
    "Repeated the same for the entire covid-19 cases from start date in the dataframe"
   ]
  },
  {
   "cell_type": "code",
   "execution_count": 54,
   "id": "f9070360",
   "metadata": {},
   "outputs": [
    {
     "data": {
      "text/plain": [
       "[10082.751376146789, 3103.137614678899, 2715.1706422018347, 5962.674311926606]"
      ]
     },
     "execution_count": 54,
     "metadata": {},
     "output_type": "execute_result"
    }
   ],
   "source": [
    "mean_new_cases_complete = super_19_df_mean['new_cases'].tolist()\n",
    "mean_new_cases_complete"
   ]
  },
  {
   "cell_type": "code",
   "execution_count": 55,
   "id": "c767f49b",
   "metadata": {},
   "outputs": [
    {
     "data": {
      "text/html": [
       "<div>\n",
       "<style scoped>\n",
       "    .dataframe tbody tr th:only-of-type {\n",
       "        vertical-align: middle;\n",
       "    }\n",
       "\n",
       "    .dataframe tbody tr th {\n",
       "        vertical-align: top;\n",
       "    }\n",
       "\n",
       "    .dataframe thead th {\n",
       "        text-align: right;\n",
       "    }\n",
       "</style>\n",
       "<table border=\"1\" class=\"dataframe\">\n",
       "  <thead>\n",
       "    <tr style=\"text-align: right;\">\n",
       "      <th></th>\n",
       "      <th>State</th>\n",
       "      <th>new_cases</th>\n",
       "    </tr>\n",
       "  </thead>\n",
       "  <tbody>\n",
       "    <tr>\n",
       "      <th>0</th>\n",
       "      <td>CA</td>\n",
       "      <td>10990199.0</td>\n",
       "    </tr>\n",
       "    <tr>\n",
       "      <th>1</th>\n",
       "      <td>NC</td>\n",
       "      <td>3382420.0</td>\n",
       "    </tr>\n",
       "    <tr>\n",
       "      <th>2</th>\n",
       "      <td>NJ</td>\n",
       "      <td>2959536.0</td>\n",
       "    </tr>\n",
       "    <tr>\n",
       "      <th>3</th>\n",
       "      <td>NY</td>\n",
       "      <td>6499315.0</td>\n",
       "    </tr>\n",
       "  </tbody>\n",
       "</table>\n",
       "</div>"
      ],
      "text/plain": [
       "  State   new_cases\n",
       "0    CA  10990199.0\n",
       "1    NC   3382420.0\n",
       "2    NJ   2959536.0\n",
       "3    NY   6499315.0"
      ]
     },
     "execution_count": 55,
     "metadata": {},
     "output_type": "execute_result"
    }
   ],
   "source": [
    "super_19_cases_df = super_19_df_sum[['State','new_cases']]\n",
    "super_19_cases_df"
   ]
  },
  {
   "cell_type": "code",
   "execution_count": 56,
   "id": "f595fdcb",
   "metadata": {},
   "outputs": [
    {
     "data": {
      "text/html": [
       "<div>\n",
       "<style scoped>\n",
       "    .dataframe tbody tr th:only-of-type {\n",
       "        vertical-align: middle;\n",
       "    }\n",
       "\n",
       "    .dataframe tbody tr th {\n",
       "        vertical-align: top;\n",
       "    }\n",
       "\n",
       "    .dataframe thead th {\n",
       "        text-align: right;\n",
       "    }\n",
       "</style>\n",
       "<table border=\"1\" class=\"dataframe\">\n",
       "  <thead>\n",
       "    <tr style=\"text-align: right;\">\n",
       "      <th></th>\n",
       "      <th>State</th>\n",
       "      <th>Total Cases</th>\n",
       "      <th>Mean_Total_Cases</th>\n",
       "      <th>Population</th>\n",
       "    </tr>\n",
       "  </thead>\n",
       "  <tbody>\n",
       "    <tr>\n",
       "      <th>0</th>\n",
       "      <td>CA</td>\n",
       "      <td>10990199.0</td>\n",
       "      <td>10082.751376</td>\n",
       "      <td>39512223</td>\n",
       "    </tr>\n",
       "    <tr>\n",
       "      <th>1</th>\n",
       "      <td>NC</td>\n",
       "      <td>3382420.0</td>\n",
       "      <td>3103.137615</td>\n",
       "      <td>10488084</td>\n",
       "    </tr>\n",
       "    <tr>\n",
       "      <th>2</th>\n",
       "      <td>NJ</td>\n",
       "      <td>2959536.0</td>\n",
       "      <td>2715.170642</td>\n",
       "      <td>8882190</td>\n",
       "    </tr>\n",
       "    <tr>\n",
       "      <th>3</th>\n",
       "      <td>NY</td>\n",
       "      <td>6499315.0</td>\n",
       "      <td>5962.674312</td>\n",
       "      <td>19453561</td>\n",
       "    </tr>\n",
       "  </tbody>\n",
       "</table>\n",
       "</div>"
      ],
      "text/plain": [
       "  State  Total Cases  Mean_Total_Cases  Population\n",
       "0    CA   10990199.0      10082.751376    39512223\n",
       "1    NC    3382420.0       3103.137615    10488084\n",
       "2    NJ    2959536.0       2715.170642     8882190\n",
       "3    NY    6499315.0       5962.674312    19453561"
      ]
     },
     "execution_count": 56,
     "metadata": {},
     "output_type": "execute_result"
    }
   ],
   "source": [
    "super_19_cases_df['Mean_Total_Cases']= mean_new_cases_complete\n",
    "super_19_cases_df['Population'] = population\n",
    "super_19_cases_df.rename(columns={'new_cases':'Total Cases'},inplace = True)\n",
    "super_19_cases_df"
   ]
  },
  {
   "cell_type": "code",
   "execution_count": 57,
   "id": "c72ffa5d",
   "metadata": {},
   "outputs": [
    {
     "data": {
      "text/html": [
       "<div>\n",
       "<style scoped>\n",
       "    .dataframe tbody tr th:only-of-type {\n",
       "        vertical-align: middle;\n",
       "    }\n",
       "\n",
       "    .dataframe tbody tr th {\n",
       "        vertical-align: top;\n",
       "    }\n",
       "\n",
       "    .dataframe thead th {\n",
       "        text-align: right;\n",
       "    }\n",
       "</style>\n",
       "<table border=\"1\" class=\"dataframe\">\n",
       "  <thead>\n",
       "    <tr style=\"text-align: right;\">\n",
       "      <th></th>\n",
       "      <th>State</th>\n",
       "      <th>Total Cases</th>\n",
       "      <th>Mean_Total_Cases</th>\n",
       "      <th>Population</th>\n",
       "      <th>N_Total_Cases</th>\n",
       "      <th>N_Mean_Total_Cases</th>\n",
       "    </tr>\n",
       "  </thead>\n",
       "  <tbody>\n",
       "    <tr>\n",
       "      <th>0</th>\n",
       "      <td>CA</td>\n",
       "      <td>10990199.0</td>\n",
       "      <td>10082.751376</td>\n",
       "      <td>39512223</td>\n",
       "      <td>278146.815480</td>\n",
       "      <td>255.180565</td>\n",
       "    </tr>\n",
       "    <tr>\n",
       "      <th>1</th>\n",
       "      <td>NC</td>\n",
       "      <td>3382420.0</td>\n",
       "      <td>3103.137615</td>\n",
       "      <td>10488084</td>\n",
       "      <td>322501.230921</td>\n",
       "      <td>295.872689</td>\n",
       "    </tr>\n",
       "    <tr>\n",
       "      <th>2</th>\n",
       "      <td>NJ</td>\n",
       "      <td>2959536.0</td>\n",
       "      <td>2715.170642</td>\n",
       "      <td>8882190</td>\n",
       "      <td>333198.907026</td>\n",
       "      <td>305.687071</td>\n",
       "    </tr>\n",
       "    <tr>\n",
       "      <th>3</th>\n",
       "      <td>NY</td>\n",
       "      <td>6499315.0</td>\n",
       "      <td>5962.674312</td>\n",
       "      <td>19453561</td>\n",
       "      <td>334093.845338</td>\n",
       "      <td>306.508115</td>\n",
       "    </tr>\n",
       "  </tbody>\n",
       "</table>\n",
       "</div>"
      ],
      "text/plain": [
       "  State  Total Cases  Mean_Total_Cases  Population  N_Total_Cases  \\\n",
       "0    CA   10990199.0      10082.751376    39512223  278146.815480   \n",
       "1    NC    3382420.0       3103.137615    10488084  322501.230921   \n",
       "2    NJ    2959536.0       2715.170642     8882190  333198.907026   \n",
       "3    NY    6499315.0       5962.674312    19453561  334093.845338   \n",
       "\n",
       "   N_Mean_Total_Cases  \n",
       "0          255.180565  \n",
       "1          295.872689  \n",
       "2          305.687071  \n",
       "3          306.508115  "
      ]
     },
     "execution_count": 57,
     "metadata": {},
     "output_type": "execute_result"
    }
   ],
   "source": [
    "super_19_cases_df['N_Total_Cases']= (super_19_cases_df['Total Cases']/super_19_cases_df['Population'])*1000000\n",
    "super_19_cases_df['N_Mean_Total_Cases']= (super_19_cases_df['Mean_Total_Cases']/super_19_cases_df['Population'])*1000000\n",
    "super_19_cases_df"
   ]
  },
  {
   "cell_type": "code",
   "execution_count": 58,
   "id": "8d8c536f",
   "metadata": {},
   "outputs": [
    {
     "data": {
      "text/html": [
       "<div>\n",
       "<style scoped>\n",
       "    .dataframe tbody tr th:only-of-type {\n",
       "        vertical-align: middle;\n",
       "    }\n",
       "\n",
       "    .dataframe tbody tr th {\n",
       "        vertical-align: top;\n",
       "    }\n",
       "\n",
       "    .dataframe thead th {\n",
       "        text-align: right;\n",
       "    }\n",
       "</style>\n",
       "<table border=\"1\" class=\"dataframe\">\n",
       "  <thead>\n",
       "    <tr style=\"text-align: right;\">\n",
       "      <th></th>\n",
       "      <th>State</th>\n",
       "      <th>Population</th>\n",
       "      <th>N_Total_Cases</th>\n",
       "      <th>N_Mean_Total_Cases</th>\n",
       "    </tr>\n",
       "  </thead>\n",
       "  <tbody>\n",
       "    <tr>\n",
       "      <th>0</th>\n",
       "      <td>CA</td>\n",
       "      <td>39512223</td>\n",
       "      <td>278146.815480</td>\n",
       "      <td>255.180565</td>\n",
       "    </tr>\n",
       "    <tr>\n",
       "      <th>1</th>\n",
       "      <td>NC</td>\n",
       "      <td>10488084</td>\n",
       "      <td>322501.230921</td>\n",
       "      <td>295.872689</td>\n",
       "    </tr>\n",
       "    <tr>\n",
       "      <th>2</th>\n",
       "      <td>NJ</td>\n",
       "      <td>8882190</td>\n",
       "      <td>333198.907026</td>\n",
       "      <td>305.687071</td>\n",
       "    </tr>\n",
       "    <tr>\n",
       "      <th>3</th>\n",
       "      <td>NY</td>\n",
       "      <td>19453561</td>\n",
       "      <td>334093.845338</td>\n",
       "      <td>306.508115</td>\n",
       "    </tr>\n",
       "  </tbody>\n",
       "</table>\n",
       "</div>"
      ],
      "text/plain": [
       "  State  Population  N_Total_Cases  N_Mean_Total_Cases\n",
       "0    CA    39512223  278146.815480          255.180565\n",
       "1    NC    10488084  322501.230921          295.872689\n",
       "2    NJ     8882190  333198.907026          305.687071\n",
       "3    NY    19453561  334093.845338          306.508115"
      ]
     },
     "execution_count": 58,
     "metadata": {},
     "output_type": "execute_result"
    }
   ],
   "source": [
    "super_19_cases_df_1 = super_19_cases_df[['State','Population','N_Total_Cases','N_Mean_Total_Cases']]\n",
    "super_19_cases_df_1"
   ]
  },
  {
   "cell_type": "code",
   "execution_count": 59,
   "id": "7ceb765f",
   "metadata": {},
   "outputs": [
    {
     "data": {
      "text/html": [
       "<div>\n",
       "<style scoped>\n",
       "    .dataframe tbody tr th:only-of-type {\n",
       "        vertical-align: middle;\n",
       "    }\n",
       "\n",
       "    .dataframe tbody tr th {\n",
       "        vertical-align: top;\n",
       "    }\n",
       "\n",
       "    .dataframe thead th {\n",
       "        text-align: right;\n",
       "    }\n",
       "</style>\n",
       "<table border=\"1\" class=\"dataframe\">\n",
       "  <thead>\n",
       "    <tr style=\"text-align: right;\">\n",
       "      <th></th>\n",
       "      <th>State</th>\n",
       "      <th>Population</th>\n",
       "      <th>N_Total_Cases</th>\n",
       "      <th>N_Mean_Total_Cases</th>\n",
       "      <th>Male population</th>\n",
       "      <th>Female population</th>\n",
       "      <th>18years and above</th>\n",
       "      <th>65years and above</th>\n",
       "      <th>White population</th>\n",
       "      <th>Black population</th>\n",
       "      <th>Asian population</th>\n",
       "    </tr>\n",
       "  </thead>\n",
       "  <tbody>\n",
       "    <tr>\n",
       "      <th>0</th>\n",
       "      <td>CA</td>\n",
       "      <td>39512223</td>\n",
       "      <td>278146.815480</td>\n",
       "      <td>255.180565</td>\n",
       "      <td>19714044</td>\n",
       "      <td>19741309</td>\n",
       "      <td>30462921</td>\n",
       "      <td>5669879</td>\n",
       "      <td>20553732</td>\n",
       "      <td>2233258</td>\n",
       "      <td>5887396</td>\n",
       "    </tr>\n",
       "    <tr>\n",
       "      <th>1</th>\n",
       "      <td>NC</td>\n",
       "      <td>10488084</td>\n",
       "      <td>322501.230921</td>\n",
       "      <td>295.872689</td>\n",
       "      <td>5067666</td>\n",
       "      <td>5299356</td>\n",
       "      <td>8064707</td>\n",
       "      <td>1686235</td>\n",
       "      <td>6865508</td>\n",
       "      <td>2193147</td>\n",
       "      <td>314690</td>\n",
       "    </tr>\n",
       "    <tr>\n",
       "      <th>2</th>\n",
       "      <td>NJ</td>\n",
       "      <td>8882190</td>\n",
       "      <td>333198.907026</td>\n",
       "      <td>305.687071</td>\n",
       "      <td>4539311</td>\n",
       "      <td>4694713</td>\n",
       "      <td>7193582</td>\n",
       "      <td>1494516</td>\n",
       "      <td>5787873</td>\n",
       "      <td>1225321</td>\n",
       "      <td>900516</td>\n",
       "    </tr>\n",
       "    <tr>\n",
       "      <th>3</th>\n",
       "      <td>NY</td>\n",
       "      <td>19453561</td>\n",
       "      <td>334093.845338</td>\n",
       "      <td>306.508115</td>\n",
       "      <td>9821711</td>\n",
       "      <td>10293034</td>\n",
       "      <td>15897349</td>\n",
       "      <td>3330159</td>\n",
       "      <td>12215118</td>\n",
       "      <td>3058846</td>\n",
       "      <td>1739196</td>\n",
       "    </tr>\n",
       "  </tbody>\n",
       "</table>\n",
       "</div>"
      ],
      "text/plain": [
       "  State  Population  N_Total_Cases  N_Mean_Total_Cases  Male population  \\\n",
       "0    CA    39512223  278146.815480          255.180565         19714044   \n",
       "1    NC    10488084  322501.230921          295.872689          5067666   \n",
       "2    NJ     8882190  333198.907026          305.687071          4539311   \n",
       "3    NY    19453561  334093.845338          306.508115          9821711   \n",
       "\n",
       "   Female population  18years and above  65years and above  White population  \\\n",
       "0           19741309           30462921            5669879          20553732   \n",
       "1            5299356            8064707            1686235           6865508   \n",
       "2            4694713            7193582            1494516           5787873   \n",
       "3           10293034           15897349            3330159          12215118   \n",
       "\n",
       "   Black population  Asian population  \n",
       "0           2233258           5887396  \n",
       "1           2193147            314690  \n",
       "2           1225321            900516  \n",
       "3           3058846           1739196  "
      ]
     },
     "execution_count": 59,
     "metadata": {},
     "output_type": "execute_result"
    }
   ],
   "source": [
    "super_19_census = pd.merge(super_19_cases_df_1,census_demographic_1,on = ['State'])\n",
    "super_19_census"
   ]
  },
  {
   "cell_type": "code",
   "execution_count": 60,
   "id": "26fd44d9",
   "metadata": {},
   "outputs": [
    {
     "data": {
      "text/html": [
       "<div>\n",
       "<style scoped>\n",
       "    .dataframe tbody tr th:only-of-type {\n",
       "        vertical-align: middle;\n",
       "    }\n",
       "\n",
       "    .dataframe tbody tr th {\n",
       "        vertical-align: top;\n",
       "    }\n",
       "\n",
       "    .dataframe thead th {\n",
       "        text-align: right;\n",
       "    }\n",
       "</style>\n",
       "<table border=\"1\" class=\"dataframe\">\n",
       "  <thead>\n",
       "    <tr style=\"text-align: right;\">\n",
       "      <th></th>\n",
       "      <th>State</th>\n",
       "      <th>Population</th>\n",
       "      <th>N_Total_Cases</th>\n",
       "      <th>N_Mean_Total_Cases</th>\n",
       "      <th>N_Male_population</th>\n",
       "      <th>N_Female_population</th>\n",
       "      <th>N_18years and above</th>\n",
       "      <th>N_65years and above</th>\n",
       "      <th>N_White_population</th>\n",
       "      <th>N_Black_population</th>\n",
       "      <th>N_Asian_population</th>\n",
       "    </tr>\n",
       "  </thead>\n",
       "  <tbody>\n",
       "    <tr>\n",
       "      <th>0</th>\n",
       "      <td>CA</td>\n",
       "      <td>39512223</td>\n",
       "      <td>278146.815480</td>\n",
       "      <td>255.180565</td>\n",
       "      <td>498935.329455</td>\n",
       "      <td>499625.369091</td>\n",
       "      <td>770974.617146</td>\n",
       "      <td>143496.836409</td>\n",
       "      <td>520186.677424</td>\n",
       "      <td>56520.687282</td>\n",
       "      <td>149001.892402</td>\n",
       "    </tr>\n",
       "    <tr>\n",
       "      <th>1</th>\n",
       "      <td>NC</td>\n",
       "      <td>10488084</td>\n",
       "      <td>322501.230921</td>\n",
       "      <td>295.872689</td>\n",
       "      <td>483183.201050</td>\n",
       "      <td>505273.985220</td>\n",
       "      <td>768939.970351</td>\n",
       "      <td>160776.267620</td>\n",
       "      <td>654600.783136</td>\n",
       "      <td>209108.451076</td>\n",
       "      <td>30004.527042</td>\n",
       "    </tr>\n",
       "    <tr>\n",
       "      <th>2</th>\n",
       "      <td>NJ</td>\n",
       "      <td>8882190</td>\n",
       "      <td>333198.907026</td>\n",
       "      <td>305.687071</td>\n",
       "      <td>511057.633309</td>\n",
       "      <td>528553.543664</td>\n",
       "      <td>809888.327091</td>\n",
       "      <td>168259.854833</td>\n",
       "      <td>651626.794743</td>\n",
       "      <td>137952.577011</td>\n",
       "      <td>101384.455861</td>\n",
       "    </tr>\n",
       "    <tr>\n",
       "      <th>3</th>\n",
       "      <td>NY</td>\n",
       "      <td>19453561</td>\n",
       "      <td>334093.845338</td>\n",
       "      <td>306.508115</td>\n",
       "      <td>504879.852074</td>\n",
       "      <td>529107.961262</td>\n",
       "      <td>817194.805619</td>\n",
       "      <td>171185.059640</td>\n",
       "      <td>627911.671287</td>\n",
       "      <td>157238.358571</td>\n",
       "      <td>89402.449248</td>\n",
       "    </tr>\n",
       "  </tbody>\n",
       "</table>\n",
       "</div>"
      ],
      "text/plain": [
       "  State  Population  N_Total_Cases  N_Mean_Total_Cases  N_Male_population  \\\n",
       "0    CA    39512223  278146.815480          255.180565      498935.329455   \n",
       "1    NC    10488084  322501.230921          295.872689      483183.201050   \n",
       "2    NJ     8882190  333198.907026          305.687071      511057.633309   \n",
       "3    NY    19453561  334093.845338          306.508115      504879.852074   \n",
       "\n",
       "   N_Female_population  N_18years and above  N_65years and above  \\\n",
       "0        499625.369091        770974.617146        143496.836409   \n",
       "1        505273.985220        768939.970351        160776.267620   \n",
       "2        528553.543664        809888.327091        168259.854833   \n",
       "3        529107.961262        817194.805619        171185.059640   \n",
       "\n",
       "   N_White_population  N_Black_population  N_Asian_population  \n",
       "0       520186.677424        56520.687282       149001.892402  \n",
       "1       654600.783136       209108.451076        30004.527042  \n",
       "2       651626.794743       137952.577011       101384.455861  \n",
       "3       627911.671287       157238.358571        89402.449248  "
      ]
     },
     "execution_count": 60,
     "metadata": {},
     "output_type": "execute_result"
    }
   ],
   "source": [
    "N_super_19_census= pd.DataFrame()\n",
    "N_super_19_census['State'] = super_19_census['State']\n",
    "N_super_19_census['Population'] = super_19_census['Population']\n",
    "N_super_19_census['N_Total_Cases']= super_19_census['N_Total_Cases']\n",
    "N_super_19_census['N_Mean_Total_Cases']= super_19_census['N_Mean_Total_Cases']\n",
    "N_super_19_census['N_Male_population']= (super_19_census['Male population']/super_19_census['Population'])*1000000\n",
    "N_super_19_census['N_Female_population']= (super_19_census['Female population']/super_19_census['Population'])*1000000\n",
    "N_super_19_census['N_18years and above']= (super_19_census['18years and above']/super_19_census['Population'])*1000000\n",
    "N_super_19_census['N_65years and above']= (super_19_census['65years and above']/super_19_census['Population'])*1000000\n",
    "N_super_19_census['N_White_population']= (super_19_census['White population']/super_19_census['Population'])*1000000\n",
    "N_super_19_census['N_Black_population']= (super_19_census['Black population']/super_19_census['Population'])*1000000\n",
    "N_super_19_census['N_Asian_population']= (super_19_census['Asian population']/super_19_census['Population'])*1000000\n",
    "N_super_19_census\n"
   ]
  },
  {
   "cell_type": "code",
   "execution_count": 61,
   "id": "92e31c33",
   "metadata": {},
   "outputs": [
    {
     "data": {
      "text/html": [
       "<div>\n",
       "<style scoped>\n",
       "    .dataframe tbody tr th:only-of-type {\n",
       "        vertical-align: middle;\n",
       "    }\n",
       "\n",
       "    .dataframe tbody tr th {\n",
       "        vertical-align: top;\n",
       "    }\n",
       "\n",
       "    .dataframe thead th {\n",
       "        text-align: right;\n",
       "    }\n",
       "</style>\n",
       "<table border=\"1\" class=\"dataframe\">\n",
       "  <thead>\n",
       "    <tr style=\"text-align: right;\">\n",
       "      <th></th>\n",
       "      <th>Population</th>\n",
       "      <th>N_Total_Cases</th>\n",
       "      <th>N_Mean_Total_Cases</th>\n",
       "      <th>N_Male_population</th>\n",
       "      <th>N_Female_population</th>\n",
       "      <th>N_18years and above</th>\n",
       "      <th>N_65years and above</th>\n",
       "      <th>N_White_population</th>\n",
       "      <th>N_Black_population</th>\n",
       "      <th>N_Asian_population</th>\n",
       "    </tr>\n",
       "  </thead>\n",
       "  <tbody>\n",
       "    <tr>\n",
       "      <th>Population</th>\n",
       "      <td>1.000000</td>\n",
       "      <td>-0.896145</td>\n",
       "      <td>-0.896145</td>\n",
       "      <td>0.025294</td>\n",
       "      <td>-0.560739</td>\n",
       "      <td>-0.377321</td>\n",
       "      <td>-0.811788</td>\n",
       "      <td>-0.987343</td>\n",
       "      <td>-0.849269</td>\n",
       "      <td>0.774009</td>\n",
       "    </tr>\n",
       "    <tr>\n",
       "      <th>N_Total_Cases</th>\n",
       "      <td>-0.896145</td>\n",
       "      <td>1.000000</td>\n",
       "      <td>1.000000</td>\n",
       "      <td>0.222958</td>\n",
       "      <td>0.822617</td>\n",
       "      <td>0.701842</td>\n",
       "      <td>0.985735</td>\n",
       "      <td>0.938351</td>\n",
       "      <td>0.773485</td>\n",
       "      <td>-0.631007</td>\n",
       "    </tr>\n",
       "    <tr>\n",
       "      <th>N_Mean_Total_Cases</th>\n",
       "      <td>-0.896145</td>\n",
       "      <td>1.000000</td>\n",
       "      <td>1.000000</td>\n",
       "      <td>0.222958</td>\n",
       "      <td>0.822617</td>\n",
       "      <td>0.701842</td>\n",
       "      <td>0.985735</td>\n",
       "      <td>0.938351</td>\n",
       "      <td>0.773485</td>\n",
       "      <td>-0.631007</td>\n",
       "    </tr>\n",
       "    <tr>\n",
       "      <th>N_Male_population</th>\n",
       "      <td>0.025294</td>\n",
       "      <td>0.222958</td>\n",
       "      <td>0.222958</td>\n",
       "      <td>1.000000</td>\n",
       "      <td>0.723453</td>\n",
       "      <td>0.803018</td>\n",
       "      <td>0.341622</td>\n",
       "      <td>-0.043858</td>\n",
       "      <td>-0.444882</td>\n",
       "      <td>0.611518</td>\n",
       "    </tr>\n",
       "    <tr>\n",
       "      <th>N_Female_population</th>\n",
       "      <td>-0.560739</td>\n",
       "      <td>0.822617</td>\n",
       "      <td>0.822617</td>\n",
       "      <td>0.723453</td>\n",
       "      <td>1.000000</td>\n",
       "      <td>0.978049</td>\n",
       "      <td>0.894559</td>\n",
       "      <td>0.598857</td>\n",
       "      <td>0.282113</td>\n",
       "      <td>-0.081345</td>\n",
       "    </tr>\n",
       "    <tr>\n",
       "      <th>N_18years and above</th>\n",
       "      <td>-0.377321</td>\n",
       "      <td>0.701842</td>\n",
       "      <td>0.701842</td>\n",
       "      <td>0.803018</td>\n",
       "      <td>0.978049</td>\n",
       "      <td>1.000000</td>\n",
       "      <td>0.804020</td>\n",
       "      <td>0.427075</td>\n",
       "      <td>0.116075</td>\n",
       "      <td>0.089722</td>\n",
       "    </tr>\n",
       "    <tr>\n",
       "      <th>N_65years and above</th>\n",
       "      <td>-0.811788</td>\n",
       "      <td>0.985735</td>\n",
       "      <td>0.985735</td>\n",
       "      <td>0.341622</td>\n",
       "      <td>0.894559</td>\n",
       "      <td>0.804020</td>\n",
       "      <td>1.000000</td>\n",
       "      <td>0.866791</td>\n",
       "      <td>0.680357</td>\n",
       "      <td>-0.516530</td>\n",
       "    </tr>\n",
       "    <tr>\n",
       "      <th>N_White_population</th>\n",
       "      <td>-0.987343</td>\n",
       "      <td>0.938351</td>\n",
       "      <td>0.938351</td>\n",
       "      <td>-0.043858</td>\n",
       "      <td>0.598857</td>\n",
       "      <td>0.427075</td>\n",
       "      <td>0.866791</td>\n",
       "      <td>1.000000</td>\n",
       "      <td>0.896157</td>\n",
       "      <td>-0.810712</td>\n",
       "    </tr>\n",
       "    <tr>\n",
       "      <th>N_Black_population</th>\n",
       "      <td>-0.849269</td>\n",
       "      <td>0.773485</td>\n",
       "      <td>0.773485</td>\n",
       "      <td>-0.444882</td>\n",
       "      <td>0.282113</td>\n",
       "      <td>0.116075</td>\n",
       "      <td>0.680357</td>\n",
       "      <td>0.896157</td>\n",
       "      <td>1.000000</td>\n",
       "      <td>-0.978820</td>\n",
       "    </tr>\n",
       "    <tr>\n",
       "      <th>N_Asian_population</th>\n",
       "      <td>0.774009</td>\n",
       "      <td>-0.631007</td>\n",
       "      <td>-0.631007</td>\n",
       "      <td>0.611518</td>\n",
       "      <td>-0.081345</td>\n",
       "      <td>0.089722</td>\n",
       "      <td>-0.516530</td>\n",
       "      <td>-0.810712</td>\n",
       "      <td>-0.978820</td>\n",
       "      <td>1.000000</td>\n",
       "    </tr>\n",
       "  </tbody>\n",
       "</table>\n",
       "</div>"
      ],
      "text/plain": [
       "                     Population  N_Total_Cases  N_Mean_Total_Cases  \\\n",
       "Population             1.000000      -0.896145           -0.896145   \n",
       "N_Total_Cases         -0.896145       1.000000            1.000000   \n",
       "N_Mean_Total_Cases    -0.896145       1.000000            1.000000   \n",
       "N_Male_population      0.025294       0.222958            0.222958   \n",
       "N_Female_population   -0.560739       0.822617            0.822617   \n",
       "N_18years and above   -0.377321       0.701842            0.701842   \n",
       "N_65years and above   -0.811788       0.985735            0.985735   \n",
       "N_White_population    -0.987343       0.938351            0.938351   \n",
       "N_Black_population    -0.849269       0.773485            0.773485   \n",
       "N_Asian_population     0.774009      -0.631007           -0.631007   \n",
       "\n",
       "                     N_Male_population  N_Female_population  \\\n",
       "Population                    0.025294            -0.560739   \n",
       "N_Total_Cases                 0.222958             0.822617   \n",
       "N_Mean_Total_Cases            0.222958             0.822617   \n",
       "N_Male_population             1.000000             0.723453   \n",
       "N_Female_population           0.723453             1.000000   \n",
       "N_18years and above           0.803018             0.978049   \n",
       "N_65years and above           0.341622             0.894559   \n",
       "N_White_population           -0.043858             0.598857   \n",
       "N_Black_population           -0.444882             0.282113   \n",
       "N_Asian_population            0.611518            -0.081345   \n",
       "\n",
       "                     N_18years and above  N_65years and above  \\\n",
       "Population                     -0.377321            -0.811788   \n",
       "N_Total_Cases                   0.701842             0.985735   \n",
       "N_Mean_Total_Cases              0.701842             0.985735   \n",
       "N_Male_population               0.803018             0.341622   \n",
       "N_Female_population             0.978049             0.894559   \n",
       "N_18years and above             1.000000             0.804020   \n",
       "N_65years and above             0.804020             1.000000   \n",
       "N_White_population              0.427075             0.866791   \n",
       "N_Black_population              0.116075             0.680357   \n",
       "N_Asian_population              0.089722            -0.516530   \n",
       "\n",
       "                     N_White_population  N_Black_population  \\\n",
       "Population                    -0.987343           -0.849269   \n",
       "N_Total_Cases                  0.938351            0.773485   \n",
       "N_Mean_Total_Cases             0.938351            0.773485   \n",
       "N_Male_population             -0.043858           -0.444882   \n",
       "N_Female_population            0.598857            0.282113   \n",
       "N_18years and above            0.427075            0.116075   \n",
       "N_65years and above            0.866791            0.680357   \n",
       "N_White_population             1.000000            0.896157   \n",
       "N_Black_population             0.896157            1.000000   \n",
       "N_Asian_population            -0.810712           -0.978820   \n",
       "\n",
       "                     N_Asian_population  \n",
       "Population                     0.774009  \n",
       "N_Total_Cases                 -0.631007  \n",
       "N_Mean_Total_Cases            -0.631007  \n",
       "N_Male_population              0.611518  \n",
       "N_Female_population           -0.081345  \n",
       "N_18years and above            0.089722  \n",
       "N_65years and above           -0.516530  \n",
       "N_White_population            -0.810712  \n",
       "N_Black_population            -0.978820  \n",
       "N_Asian_population             1.000000  "
      ]
     },
     "execution_count": 61,
     "metadata": {},
     "output_type": "execute_result"
    }
   ],
   "source": [
    "correlation1 = N_super_19_census.corr()\n",
    "correlation1"
   ]
  },
  {
   "cell_type": "code",
   "execution_count": 62,
   "id": "7ac0b12d",
   "metadata": {},
   "outputs": [
    {
     "data": {
      "text/plain": [
       "<AxesSubplot:>"
      ]
     },
     "execution_count": 62,
     "metadata": {},
     "output_type": "execute_result"
    },
    {
     "data": {
      "image/png": "[encoded data removed]",
      "text/plain": [
       "<Figure size 864x864 with 2 Axes>"
      ]
     },
     "metadata": {
      "needs_background": "light"
     },
     "output_type": "display_data"
    }
   ],
   "source": [
    "plt.figure(figsize=(12,12))\n",
    "sns.heatmap(correlation1, annot=True, square=True)"
   ]
  },
  {
   "cell_type": "markdown",
   "id": "99db0a1a",
   "metadata": {},
   "source": [
    "We know that the correlation coefficient always lies in between 1 and -1. Similar to covariance, positive correlation coefficient indicates that the columns are directly related and negative coefficient indicates that the columns are inversely related to each other. If the correlation coefficient is near to zero then that columns are weakly related to each other. "
   ]
  },
  {
   "cell_type": "markdown",
   "id": "3b03a006",
   "metadata": {},
   "source": [
    "From the first heatmap which is on the Normalized data from date range May 30th 2022 to Jan 2nd 2023 if we observe the correlation coefficient is high between Mean_total_Cases and Female population, White population, 65years and above, Black population,18years and above. And correlation coefficient is very less (Nearly zero) between Mean_Total_Cases and  Male population and correlation coefficient is negative between Mean_Total_Cases and Asian population.\n",
    "\n",
    "Correlation coefficients are also similar between Total_Cases and other columns as mentioned in the above description."
   ]
  },
  {
   "cell_type": "markdown",
   "id": "3578bc27",
   "metadata": {},
   "source": [
    "Coming to the second heatmap the results obtained is similar to the results obtained in the first heatmap. The relationship mentioned for the first heatmap valids for the second heatmap too."
   ]
  },
  {
   "cell_type": "markdown",
   "id": "e7e6936b",
   "metadata": {},
   "source": [
    "## 3) Formulate hypothesis between Enrichment data and number of cases to be compared against states. Choose 3 different variables to compare against."
   ]
  },
  {
   "cell_type": "markdown",
   "id": "1614aad0",
   "metadata": {},
   "source": [
    "- Does the increase in white population increases in the spread of covid-19 cases?\n",
    "\n",
    "- Covid cases are more in the age group of 65 years and above\n",
    "\n",
    "- Covid cases spread is low in the Male population\n",
    "\n",
    "- Covid cases are less among the Asian population"
   ]
  },
  {
   "cell_type": "markdown",
   "id": "558e653b",
   "metadata": {},
   "source": [
    "References:\n",
    "\n",
    "- https://stackoverflow.com/questions/67255139/how-to-change-the-edgecolor-of-an-histogram-in-plotly\n",
    "\n",
    "- https://plotly.com/python/multiple-axes/\n",
    "\n",
    "- https://stackoverflow.com/questions/66687274/fitting-poisson-distribution-to-data-in-python\n",
    "\n",
    "- https://docs.scipy.org/doc/scipy/reference/generated/scipy.stats.moment.html\n",
    "\n",
    "- https://github.com/c-zhu3/CSC405-605-Spring2023-Project/tree/master/Lectures/Statistics\n",
    "\n"
   ]
  },
  {
   "cell_type": "code",
   "execution_count": null,
   "id": "e470280f",
   "metadata": {},
   "outputs": [],
   "source": []
  }
 ],
 "metadata": {
  "kernelspec": {
   "display_name": "Python 3 (ipykernel)",
   "language": "python",
   "name": "python3"
  },
  "language_info": {
   "codemirror_mode": {
    "name": "ipython",
    "version": 3
   },
   "file_extension": ".py",
   "mimetype": "text/x-python",
   "name": "python",
   "nbconvert_exporter": "python",
   "pygments_lexer": "ipython3",
   "version": "3.9.7"
  }
 },
 "nbformat": 4,
 "nbformat_minor": 5
}
